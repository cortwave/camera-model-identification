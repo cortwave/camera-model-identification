{
 "cells": [
  {
   "cell_type": "code",
   "execution_count": 245,
   "metadata": {
    "collapsed": true
   },
   "outputs": [],
   "source": [
    "%matplotlib inline\n",
    "import matplotlib\n",
    "import matplotlib.patches as mpatches\n",
    "import numpy as np\n",
    "import matplotlib.pyplot as plt\n",
    "import seaborn as sns\n",
    "sns.set_style(\"dark\")\n",
    "plt.rcParams['figure.figsize'] = 16, 12\n",
    "import pandas as pd\n",
    "from tqdm import tqdm_notebook\n",
    "import io\n",
    "from PIL import Image\n",
    "from glob import glob\n",
    "from collections import defaultdict\n",
    "import os\n",
    "import pickle\n",
    "from io import BytesIO\n",
    "import random\n",
    "import itertools as it\n",
    "\n",
    "from sklearn.preprocessing import LabelEncoder\n",
    "from sklearn.manifold import TSNE\n",
    "from sklearn.decomposition import TruncatedSVD\n",
    "from sklearn.svm import LinearSVC\n",
    "from sklearn.model_selection import KFold\n",
    "from sklearn.metrics import precision_recall_fscore_support, f1_score"
   ]
  },
  {
   "cell_type": "code",
   "execution_count": 246,
   "metadata": {
    "collapsed": true
   },
   "outputs": [],
   "source": [
    "out_dir = '/home/mephistopheies/storage2/data/camera-model-id/submit/'"
   ]
  },
  {
   "cell_type": "code",
   "execution_count": 7,
   "metadata": {},
   "outputs": [
    {
     "name": "stdout",
     "output_type": "stream",
     "text": [
      "49500\n",
      "1602\n",
      "2640\n"
     ]
    }
   ],
   "source": [
    "train_files_original = glob('/home/mephistopheies/storage2/data/camera-model-id/svm_data/features/train_original/*/*.npz')\n",
    "print(len(train_files_original))\n",
    "\n",
    "train_files_pseudo = glob('/home/mephistopheies/storage2/data/camera-model-id/svm_data/features/train_pseudo/*/*.npz')\n",
    "print(len(train_files_pseudo))\n",
    "\n",
    "f2c = {}\n",
    "for fname in it.chain(train_files_original, train_files_pseudo):\n",
    "    f2c[fname] = fname.split('/')[-2]\n",
    "    \n",
    "f2c_presudo = {}\n",
    "for fname in train_files_pseudo:\n",
    "    f2c_presudo[fname] = fname.split('/')[-2]\n",
    "\n",
    "test_files = glob('/home/mephistopheies/storage2/data/camera-model-id/svm_data/features/test/*.npz')\n",
    "print(len(test_files))"
   ]
  },
  {
   "cell_type": "code",
   "execution_count": 13,
   "metadata": {},
   "outputs": [
    {
     "data": {
      "text/plain": [
       "Motorola-Nexus-6        232\n",
       "Motorola-Droid-Maxx     210\n",
       "Samsung-Galaxy-S4       205\n",
       "iPhone-6                195\n",
       "Samsung-Galaxy-Note3    181\n",
       "Motorola-X              177\n",
       "HTC-1-M7                166\n",
       "Sony-NEX-7              127\n",
       "LG-Nexus-5x              77\n",
       "iPhone-4s                32\n",
       "dtype: int64"
      ]
     },
     "execution_count": 13,
     "metadata": {},
     "output_type": "execute_result"
    }
   ],
   "source": [
    "pd.Series(list(f2c_presudo.values())).value_counts()"
   ]
  },
  {
   "cell_type": "code",
   "execution_count": 80,
   "metadata": {},
   "outputs": [],
   "source": [
    "m_pseudo_avg = []\n",
    "m_pseudo_max = []\n",
    "files = []\n",
    "y = []\n",
    "\n",
    "for fname, c in f2c_presudo.items():\n",
    "    m_pseudo_avg.append(np.load(fname)['f_mean'])\n",
    "    m_pseudo_max.append(np.load(fname)['f_max'])\n",
    "    files.append(os.path.basename(fname)[:-4])\n",
    "    y.append(c)\n",
    "    \n",
    "# le = LabelEncoder().fit(y)\n",
    "# y = le.transform(y)\n",
    "\n",
    "m_pseudo_avg = np.array(m_pseudo_avg)\n",
    "m_pseudo_max = np.array(m_pseudo_max)"
   ]
  },
  {
   "cell_type": "code",
   "execution_count": null,
   "metadata": {},
   "outputs": [],
   "source": []
  },
  {
   "cell_type": "code",
   "execution_count": null,
   "metadata": {
    "collapsed": true
   },
   "outputs": [],
   "source": []
  },
  {
   "cell_type": "code",
   "execution_count": null,
   "metadata": {
    "collapsed": true
   },
   "outputs": [],
   "source": []
  },
  {
   "cell_type": "code",
   "execution_count": 153,
   "metadata": {},
   "outputs": [
    {
     "data": {
      "application/vnd.jupyter.widget-view+json": {
       "model_id": "f49e33b5c73a4862a10ecff44047783a"
      }
     },
     "metadata": {},
     "output_type": "display_data"
    },
    {
     "name": "stdout",
     "output_type": "stream",
     "text": [
      "\n"
     ]
    }
   ],
   "source": [
    "k = 23\n",
    "pred = {}\n",
    "\n",
    "keys = ['ae', 'me', 'ac', 'mc']\n",
    "\n",
    "n_m_pseudo_avg = (m_pseudo_avg/np.sqrt((m_pseudo_avg**2).sum(axis=1))[:, np.newaxis])\n",
    "n_m_pseudo_max = (m_pseudo_max/np.sqrt((m_pseudo_max**2).sum(axis=1))[:, np.newaxis])\n",
    "\n",
    "for fname in tqdm_notebook(test_files):\n",
    "    key = os.path.basename(fname)[:-4]\n",
    "    \n",
    "    f_avg = np.load(fname)['f_mean']\n",
    "    f_max = np.load(fname)['f_max']\n",
    "    \n",
    "    n_f_avg = np.sqrt((f_avg**2).sum())\n",
    "    n_f_max = np.sqrt((f_max**2).sum())\n",
    "    \n",
    "    d_avg_euc = ((m_pseudo_avg - f_avg)**2).sum(axis=1)\n",
    "    d_max_euc = ((m_pseudo_max - f_max)**2).sum(axis=1)\n",
    "    \n",
    "    d_avg_cos = 1 - np.dot((f_avg/n_f_avg), n_m_pseudo_avg.T)\n",
    "    d_max_cos = 1 - np.dot((f_max/n_f_max), n_m_pseudo_max.T)\n",
    "    \n",
    "    df = pd.DataFrame(\n",
    "        list(zip(files, y, d_avg_euc, d_max_euc, d_avg_cos, d_max_cos)), \n",
    "        columns=['f', 'y', 'ae', 'me', 'ac', 'mc'])\n",
    "    \n",
    "    pred[key] = {}\n",
    "    \n",
    "    for d in keys:\n",
    "        pred[key][d] = list(df.sort_values([d])['y'].head(k).value_counts(normalize=True).items())"
   ]
  },
  {
   "cell_type": "code",
   "execution_count": 188,
   "metadata": {},
   "outputs": [],
   "source": [
    "votes = {}\n",
    "\n",
    "for k, d in pred.items():\n",
    "    votes[k] = []\n",
    "    for _, v in d.items():\n",
    "        votes[k].append(v[0][0])"
   ]
  },
  {
   "cell_type": "code",
   "execution_count": 204,
   "metadata": {
    "collapsed": true
   },
   "outputs": [],
   "source": [
    "res = []\n",
    "\n",
    "for k, d in pred.items():\n",
    "    vtmp = []\n",
    "    for _, v in d.items():\n",
    "        vtmp.append(v[0])        \n",
    "    res.append((k, sorted(vtmp, key=lambda t: t[1], reverse=True)[0][0]))"
   ]
  },
  {
   "cell_type": "code",
   "execution_count": 155,
   "metadata": {},
   "outputs": [],
   "source": [
    "res = []\n",
    "\n",
    "for k, v in votes.items():\n",
    "    res.append((k, list(pd.Series(v).value_counts().items())[0][0]))"
   ]
  },
  {
   "cell_type": "code",
   "execution_count": 205,
   "metadata": {},
   "outputs": [
    {
     "data": {
      "text/plain": [
       "0.16136363636363638"
      ]
     },
     "execution_count": 205,
     "metadata": {},
     "output_type": "execute_result"
    }
   ],
   "source": [
    "(pd.Series([c for (k, c) in res]).value_counts() - 264).abs().sum()/len(test_files)"
   ]
  },
  {
   "cell_type": "code",
   "execution_count": 238,
   "metadata": {},
   "outputs": [],
   "source": [
    "unalt = []\n",
    "manip = []\n",
    "for f, d in pred.items():\n",
    "    if 'unalt' in f:\n",
    "        cur = unalt\n",
    "    else:\n",
    "        cur = manip\n",
    "    \n",
    "    p = []\n",
    "    for c in set(it.chain(*[[c for (c, _) in v] for (k, v) in d.items()])):\n",
    "        p.append((c, np.mean([(dict(v)[c] if c in dict(v) else 0) for (k, v) in d.items()])))\n",
    "    for c in set(le.classes_).difference([k for (k, v) in p]):\n",
    "        p.append((c, 0.0))\n",
    "    # cur.append((f, sorted(p, key=lambda t: t[1], reverse=True)[0][0]))\n",
    "    cur.append((f, p))"
   ]
  },
  {
   "cell_type": "code",
   "execution_count": null,
   "metadata": {},
   "outputs": [],
   "source": []
  },
  {
   "cell_type": "code",
   "execution_count": null,
   "metadata": {
    "collapsed": true
   },
   "outputs": [],
   "source": []
  },
  {
   "cell_type": "code",
   "execution_count": null,
   "metadata": {
    "collapsed": true
   },
   "outputs": [],
   "source": []
  },
  {
   "cell_type": "code",
   "execution_count": null,
   "metadata": {
    "collapsed": true
   },
   "outputs": [],
   "source": []
  },
  {
   "cell_type": "code",
   "execution_count": 240,
   "metadata": {},
   "outputs": [
    {
     "name": "stdout",
     "output_type": "stream",
     "text": [
      "1320 1320\n",
      "132\n",
      "2640\n"
     ]
    }
   ],
   "source": [
    "unalt_tmp = unalt.copy()\n",
    "manip_tmp = manip.copy()\n",
    "print(len(unalt_tmp), len(manip_tmp))\n",
    "\n",
    "t = int(0.1*1320)\n",
    "print(t)\n",
    "\n",
    "res = []\n",
    "\n",
    "c_counts = defaultdict(int)\n",
    "for _ in range(1320):\n",
    "    skip_f = set([k for (k, _) in res])\n",
    "    unalt_tmp = [(f, sorted(p, key=lambda t: t[-1], reverse=True)) for (f, p) in unalt_tmp if f not in skip_f]\n",
    "    unalt_tmp = sorted(unalt_tmp, key=lambda t: t[-1][0], reverse=True)\n",
    "    f, p = unalt_tmp[0]\n",
    "    c, _ = p[0]\n",
    "    res.append((f, c))\n",
    "    c_counts[c] += 1\n",
    "    \n",
    "    if c_counts[c] == t:\n",
    "        unalt_tmp = [(f, [(k, v) for (k, v) in p if k != c]) for (f, p) in unalt_tmp]\n",
    "        \n",
    "c_counts = defaultdict(int)\n",
    "for _ in range(1320):\n",
    "    skip_f = set([k for (k, _) in res])\n",
    "    manip_tmp = [(f, sorted(p, key=lambda t: t[-1], reverse=True)) for (f, p) in manip_tmp if f not in skip_f]\n",
    "    manip_tmp = sorted(manip_tmp, key=lambda t: t[-1][0], reverse=True)\n",
    "    f, p = manip_tmp[0]\n",
    "    c, _ = p[0]\n",
    "    res.append((f, c))\n",
    "    c_counts[c] += 1\n",
    "    \n",
    "    if c_counts[c] == t:\n",
    "        manip_tmp = [(f, [(k, v) for (k, v) in p if k != c]) for (f, p) in manip_tmp]\n",
    "        \n",
    "print(len(res))"
   ]
  },
  {
   "cell_type": "code",
   "execution_count": 247,
   "metadata": {},
   "outputs": [],
   "source": [
    "with open(os.path.join(out_dir, 'submit__unalt.csv'.lower()), 'w') as f:\n",
    "    f.write('fname,camera\\n')\n",
    "    for fname, c in res:\n",
    "        if '_unalt' in fname:\n",
    "            f.write('%s,%s\\n' % (fname, c))\n",
    "        else:\n",
    "            f.write('%s,%s\\n' % (fname, 'no_class'))\n",
    "            \n",
    "            \n",
    "with open(os.path.join(out_dir, 'submit__manip.csv'.lower()), 'w') as f:\n",
    "    f.write('fname,camera\\n')\n",
    "    for fname, c in res:\n",
    "        if '_manip' in fname:\n",
    "            f.write('%s,%s\\n' % (fname, c))\n",
    "        else:\n",
    "            f.write('%s,%s\\n' % (fname, 'no_class'))\n",
    "            \n",
    "            \n",
    "with open(os.path.join(out_dir, 'submit.csv'.lower()), 'w') as f:\n",
    "    f.write('fname,camera\\n')\n",
    "    for fname, c in res:\n",
    "        f.write('%s,%s\\n' % (fname, c))"
   ]
  },
  {
   "cell_type": "code",
   "execution_count": null,
   "metadata": {
    "collapsed": true
   },
   "outputs": [],
   "source": []
  },
  {
   "cell_type": "code",
   "execution_count": null,
   "metadata": {
    "collapsed": true
   },
   "outputs": [],
   "source": []
  },
  {
   "cell_type": "code",
   "execution_count": null,
   "metadata": {
    "collapsed": true
   },
   "outputs": [],
   "source": []
  },
  {
   "cell_type": "code",
   "execution_count": null,
   "metadata": {
    "collapsed": true
   },
   "outputs": [],
   "source": []
  }
 ],
 "metadata": {
  "kernelspec": {
   "display_name": "Python 3",
   "language": "python",
   "name": "python3"
  },
  "language_info": {
   "codemirror_mode": {
    "name": "ipython",
    "version": 3
   },
   "file_extension": ".py",
   "mimetype": "text/x-python",
   "name": "python",
   "nbconvert_exporter": "python",
   "pygments_lexer": "ipython3",
   "version": "3.5.2"
  }
 },
 "nbformat": 4,
 "nbformat_minor": 2
}

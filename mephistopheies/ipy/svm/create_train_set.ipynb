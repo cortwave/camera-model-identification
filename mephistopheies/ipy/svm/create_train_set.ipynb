{
 "cells": [
  {
   "cell_type": "code",
   "execution_count": 2,
   "metadata": {
    "collapsed": true
   },
   "outputs": [],
   "source": [
    "%matplotlib inline\n",
    "import matplotlib\n",
    "import matplotlib.patches as mpatches\n",
    "import numpy as np\n",
    "import matplotlib.pyplot as plt\n",
    "import seaborn as sns\n",
    "sns.set_style(\"dark\")\n",
    "plt.rcParams['figure.figsize'] = 16, 12\n",
    "import pandas as pd\n",
    "from tqdm import tqdm_notebook\n",
    "import io\n",
    "from PIL import Image\n",
    "from glob import glob\n",
    "from collections import defaultdict\n",
    "import os\n",
    "import pickle\n",
    "from io import BytesIO\n",
    "import random\n",
    "import itertools as it\n",
    "\n",
    "import torch\n",
    "import torch.nn as nn\n",
    "from torch.autograd import Variable\n",
    "import torch.nn.functional as F\n",
    "import torchvision\n",
    "import torchvision.transforms as transforms\n",
    "import torchvision.models as models\n",
    "from torchvision.datasets import ImageFolder\n",
    "\n",
    "from kaggle_camera_model_id_lib.utils import PechkaBot, ImageList, NpzFolder, NCrops, TifFolder, TifFolderExFiles\n",
    "from kaggle_camera_model_id_lib.models import VggHead, StyleVggHead, IEEEfcn, ResNetFC, ResNetX, FatNet1\n",
    "from kaggle_camera_model_id_lib.models import InceptionResNetV2fc, InceptionResNetV2fcSmall\n",
    "from kaggle_camera_model_id_lib.utils import jpg_compress, equalize_v_hist, hsv_convert\n",
    "from kaggle_camera_model_id_lib.utils import scale_crop_pad, gamma_correction\n",
    "from kaggle_camera_model_id_lib.utils import patch_quality_dich, n_random_crops, n_pseudorandom_crops\n",
    "from kaggle_camera_model_id_lib.models import DANet, ResNetFeatureExtractor, AvgFcClassifier, FCDiscriminator\n",
    "from kaggle_camera_model_id_lib.models import AvgClassifier\n",
    "\n",
    "from sklearn.manifold import TSNE\n",
    "\n",
    "from scipy.spatial.distance import pdist, squareform\n",
    "\n",
    "import imgaug as ia\n",
    "from imgaug import augmenters as iaa"
   ]
  },
  {
   "cell_type": "code",
   "execution_count": 4,
   "metadata": {
    "collapsed": true
   },
   "outputs": [],
   "source": [
    "scale_05 = lambda img: scale_crop_pad(img, 0.5)\n",
    "scale_08 = lambda img: scale_crop_pad(img, 0.8)\n",
    "scale_15 = lambda img: scale_crop_pad(img, 1.5)\n",
    "scale_20 = lambda img: scale_crop_pad(img, 2.0)\n",
    "gamma_08 = lambda img: gamma_correction(img, 0.8)\n",
    "gamma_12 = lambda img: gamma_correction(img, 1.2)\n",
    "jpg_70 = lambda img: jpg_compress(img, (70, 71))\n",
    "jpg_90 = lambda img: jpg_compress(img, (90, 91))\n",
    "augs = [scale_05, scale_08, scale_15, scale_20, gamma_08, gamma_12, jpg_70, jpg_90]\n",
    "\n",
    "def random_aug_kaggle(img, p=0.5):\n",
    "    if np.random.rand() < p:\n",
    "        return random.choice(augs)(img)\n",
    "    return img"
   ]
  },
  {
   "cell_type": "code",
   "execution_count": null,
   "metadata": {
    "collapsed": true
   },
   "outputs": [],
   "source": []
  },
  {
   "cell_type": "code",
   "execution_count": null,
   "metadata": {
    "collapsed": true
   },
   "outputs": [],
   "source": []
  },
  {
   "cell_type": "code",
   "execution_count": 5,
   "metadata": {},
   "outputs": [
    {
     "name": "stdout",
     "output_type": "stream",
     "text": [
      "2750\n"
     ]
    }
   ],
   "source": [
    "def loader(path):\n",
    "    with open(path, 'rb') as f:\n",
    "        with Image.open(f) as img:\n",
    "            return img.convert('RGB')\n",
    "        \n",
    "center_crop = transforms.CenterCrop(1520)\n",
    "\n",
    "train_files = glob('/home/mephistopheies/storage2/data/camera-model-id/raw/train/*/*.*')\n",
    "print(len(train_files))\n",
    "\n",
    "output_dir = '/home/mephistopheies/storage2/data/camera-model-id/svm_data/train_img/'"
   ]
  },
  {
   "cell_type": "code",
   "execution_count": 17,
   "metadata": {},
   "outputs": [
    {
     "data": {
      "application/vnd.jupyter.widget-view+json": {
       "model_id": "5bb8469f95044f159ac3e2583a9e058d"
      }
     },
     "metadata": {},
     "output_type": "display_data"
    },
    {
     "name": "stdout",
     "output_type": "stream",
     "text": [
      "\n"
     ]
    }
   ],
   "source": [
    "for fname in tqdm_notebook(train_files):\n",
    "    c = fname.split('/')[-2]\n",
    "    img = np.array(center_crop(loader(fname)))\n",
    "\n",
    "    if not os.path.isdir(os.path.join(output_dir, c)):\n",
    "        os.makedirs(os.path.join(output_dir, c))\n",
    "        \n",
    "    fname = os.path.basename(fname)\n",
    "    \n",
    "    for ix, crop in enumerate(NCrops(img, crop_size=512, step=500)):\n",
    "        np.savez(os.path.join(output_dir, c, '%s__%i.npz' % (fname, ix)), \n",
    "                 data=crop)\n",
    "        np.savez(os.path.join(output_dir, c, '%s__aug__%i.npz' % (fname, ix)), \n",
    "                 data=random_aug_kaggle(Image.fromarray(crop), p=1.0))"
   ]
  },
  {
   "cell_type": "code",
   "execution_count": null,
   "metadata": {},
   "outputs": [],
   "source": []
  },
  {
   "cell_type": "code",
   "execution_count": null,
   "metadata": {
    "collapsed": true
   },
   "outputs": [],
   "source": []
  },
  {
   "cell_type": "code",
   "execution_count": null,
   "metadata": {
    "collapsed": true
   },
   "outputs": [],
   "source": []
  },
  {
   "cell_type": "code",
   "execution_count": null,
   "metadata": {
    "collapsed": true
   },
   "outputs": [],
   "source": []
  },
  {
   "cell_type": "code",
   "execution_count": null,
   "metadata": {
    "collapsed": true
   },
   "outputs": [],
   "source": []
  },
  {
   "cell_type": "code",
   "execution_count": null,
   "metadata": {
    "collapsed": true
   },
   "outputs": [],
   "source": []
  },
  {
   "cell_type": "code",
   "execution_count": null,
   "metadata": {
    "collapsed": true
   },
   "outputs": [],
   "source": []
  }
 ],
 "metadata": {
  "kernelspec": {
   "display_name": "Python 3",
   "language": "python",
   "name": "python3"
  },
  "language_info": {
   "codemirror_mode": {
    "name": "ipython",
    "version": 3
   },
   "file_extension": ".py",
   "mimetype": "text/x-python",
   "name": "python",
   "nbconvert_exporter": "python",
   "pygments_lexer": "ipython3",
   "version": "3.5.2"
  }
 },
 "nbformat": 4,
 "nbformat_minor": 2
}

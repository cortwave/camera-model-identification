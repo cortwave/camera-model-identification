{
 "cells": [
  {
   "cell_type": "code",
   "execution_count": 1,
   "metadata": {
    "collapsed": true
   },
   "outputs": [],
   "source": [
    "%matplotlib inline\n",
    "import matplotlib\n",
    "import numpy as np\n",
    "import matplotlib.pyplot as plt\n",
    "import seaborn as sns\n",
    "sns.set_style(\"dark\")\n",
    "plt.rcParams['figure.figsize'] = 16, 12\n",
    "import pandas as pd\n",
    "from tqdm import tqdm_notebook\n",
    "import io\n",
    "from PIL import Image\n",
    "from glob import glob\n",
    "from collections import defaultdict\n",
    "import os\n",
    "import pickle\n",
    "from io import BytesIO\n",
    "import random\n",
    "import shutil\n",
    "import itertools as it"
   ]
  },
  {
   "cell_type": "code",
   "execution_count": 2,
   "metadata": {
    "collapsed": true
   },
   "outputs": [],
   "source": [
    "def loader(path):\n",
    "    with open(path, 'rb') as f:\n",
    "        img = Image.open(f)\n",
    "        return img.convert('RGB')"
   ]
  },
  {
   "cell_type": "code",
   "execution_count": 3,
   "metadata": {},
   "outputs": [
    {
     "data": {
      "application/vnd.jupyter.widget-view+json": {
       "model_id": "a3fb82f36ac84c7aa390510916c2a8ea"
      }
     },
     "metadata": {},
     "output_type": "display_data"
    },
    {
     "name": "stdout",
     "output_type": "stream",
     "text": [
      "\n"
     ]
    }
   ],
   "source": [
    "files = glob('/home/mephistopheies/storage2/data/camera-model-id/pseudo_labels/voters_phase_2/*.csv')\n",
    "\n",
    "votes = defaultdict(list)\n",
    "for fname in tqdm_notebook(files):\n",
    "    df = pd.read_csv(fname)    \n",
    "    for ix, r in df.iterrows():\n",
    "        votes[r['fname']].append(r['camera'])"
   ]
  },
  {
   "cell_type": "code",
   "execution_count": 4,
   "metadata": {
    "collapsed": true
   },
   "outputs": [],
   "source": [
    "conf = {}\n",
    "\n",
    "for k, v in votes.items():\n",
    "    conf[k] = len(set(v))"
   ]
  },
  {
   "cell_type": "code",
   "execution_count": 5,
   "metadata": {},
   "outputs": [
    {
     "data": {
      "text/plain": [
       "1    2409\n",
       "2     156\n",
       "3      52\n",
       "4      20\n",
       "5       2\n",
       "6       1\n",
       "dtype: int64"
      ]
     },
     "execution_count": 5,
     "metadata": {},
     "output_type": "execute_result"
    }
   ],
   "source": [
    "pd.Series(list(conf.values())).value_counts()"
   ]
  },
  {
   "cell_type": "code",
   "execution_count": 98,
   "metadata": {
    "collapsed": true
   },
   "outputs": [],
   "source": [
    "joints = defaultdict(float)\n",
    "for fname, v in votes.items():\n",
    "        \n",
    "    for c1, c2 in it.combinations(v, 2):\n",
    "        joints[tuple(sorted([c1, c2]))] += 1"
   ]
  },
  {
   "cell_type": "code",
   "execution_count": 105,
   "metadata": {
    "collapsed": true
   },
   "outputs": [],
   "source": [
    "joints = dict([(k, v/(len(votes)*15)) for (k, v) in joints.items()])"
   ]
  },
  {
   "cell_type": "code",
   "execution_count": null,
   "metadata": {
    "collapsed": true
   },
   "outputs": [],
   "source": []
  },
  {
   "cell_type": "code",
   "execution_count": null,
   "metadata": {
    "collapsed": true
   },
   "outputs": [],
   "source": []
  },
  {
   "cell_type": "code",
   "execution_count": null,
   "metadata": {
    "collapsed": true
   },
   "outputs": [],
   "source": []
  },
  {
   "cell_type": "code",
   "execution_count": 106,
   "metadata": {
    "collapsed": true
   },
   "outputs": [],
   "source": [
    "classes = list(df['camera'].unique())"
   ]
  },
  {
   "cell_type": "code",
   "execution_count": 108,
   "metadata": {
    "collapsed": true
   },
   "outputs": [],
   "source": [
    "m = np.zeros((len(classes), len(classes)))\n",
    "for c1, c2 in it.combinations(classes, 2):\n",
    "    m[classes.index(c1), classes.index(c2)] = joints[tuple(sorted([c1, c2]))]"
   ]
  },
  {
   "cell_type": "code",
   "execution_count": null,
   "metadata": {},
   "outputs": [],
   "source": []
  },
  {
   "cell_type": "code",
   "execution_count": null,
   "metadata": {
    "collapsed": true
   },
   "outputs": [],
   "source": []
  },
  {
   "cell_type": "code",
   "execution_count": null,
   "metadata": {
    "collapsed": true
   },
   "outputs": [],
   "source": []
  },
  {
   "cell_type": "code",
   "execution_count": null,
   "metadata": {
    "collapsed": true
   },
   "outputs": [],
   "source": []
  },
  {
   "cell_type": "code",
   "execution_count": 34,
   "metadata": {
    "collapsed": true
   },
   "outputs": [],
   "source": [
    "with open('/home/mephistopheies/storage2/data/camera-model-id/tmp/p_test_985_m1_u0.pkl', 'rb') as f:\n",
    "    p_test1 = pickle.load(f)\n",
    "\n",
    "with open('/home/mephistopheies/storage2/data/camera-model-id/tmp/p_test_985_m2_u0.pkl', 'rb') as f:\n",
    "    p_test2 = pickle.load(f)"
   ]
  },
  {
   "cell_type": "code",
   "execution_count": 35,
   "metadata": {
    "collapsed": true
   },
   "outputs": [],
   "source": [
    "pred = {}\n",
    "pred_manip = {}\n",
    "pred_unalt = {}\n",
    "\n",
    "for fname in p_test1.keys():\n",
    "    c1 = sorted(p_test1[fname], key=lambda t: t[1], reverse=True)[0][0]\n",
    "    c2 = sorted(p_test2[fname], key=lambda t: t[1], reverse=True)[0][0]\n",
    "    \n",
    "    if c1 != c2:\n",
    "        pred[fname] = (c1, c2)\n",
    "        if '_unalt' in fname:\n",
    "            pred_unalt[fname] = (c1, c2)\n",
    "        else:\n",
    "            pred_manip[fname] = (c1, c2)"
   ]
  },
  {
   "cell_type": "code",
   "execution_count": 59,
   "metadata": {},
   "outputs": [],
   "source": [
    "# wins = []\n",
    "\n",
    "# for fname in pred.keys():\n",
    "#     tmp = zip(sorted(p_test1[fname], key=lambda t: t[1], reverse=True), \n",
    "#               sorted(p_test2[fname], key=lambda t: t[1], reverse=True))\n",
    "    \n",
    "#     for ix, ((c1, p1), (c2, p2)) in enumerate(tmp):\n",
    "#         if c1 == c2:\n",
    "#             wins.append((ix, ((c1, p1), (c2, p2))))\n",
    "#             break"
   ]
  },
  {
   "cell_type": "code",
   "execution_count": null,
   "metadata": {},
   "outputs": [],
   "source": []
  },
  {
   "cell_type": "code",
   "execution_count": null,
   "metadata": {},
   "outputs": [],
   "source": []
  },
  {
   "cell_type": "code",
   "execution_count": null,
   "metadata": {
    "collapsed": true
   },
   "outputs": [],
   "source": []
  },
  {
   "cell_type": "code",
   "execution_count": null,
   "metadata": {
    "collapsed": true
   },
   "outputs": [],
   "source": []
  }
 ],
 "metadata": {
  "kernelspec": {
   "display_name": "Python 3",
   "language": "python",
   "name": "python3"
  },
  "language_info": {
   "codemirror_mode": {
    "name": "ipython",
    "version": 3
   },
   "file_extension": ".py",
   "mimetype": "text/x-python",
   "name": "python",
   "nbconvert_exporter": "python",
   "pygments_lexer": "ipython3",
   "version": "3.5.2"
  }
 },
 "nbformat": 4,
 "nbformat_minor": 2
}

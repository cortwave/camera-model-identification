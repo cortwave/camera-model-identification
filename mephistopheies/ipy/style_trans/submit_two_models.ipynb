{
 "cells": [
  {
   "cell_type": "code",
   "execution_count": 1,
   "metadata": {
    "collapsed": true
   },
   "outputs": [],
   "source": [
    "%matplotlib inline\n",
    "import matplotlib\n",
    "import numpy as np\n",
    "import matplotlib.pyplot as plt\n",
    "import seaborn as sns\n",
    "sns.set_style(\"dark\")\n",
    "plt.rcParams['figure.figsize'] = 16, 12\n",
    "import pandas as pd\n",
    "from tqdm import tqdm_notebook\n",
    "import io\n",
    "from PIL import Image\n",
    "from glob import glob\n",
    "from collections import defaultdict\n",
    "import os\n",
    "import pickle\n",
    "from io import BytesIO\n",
    "import random\n",
    "\n",
    "import torch\n",
    "import torch.nn as nn\n",
    "from torch.autograd import Variable\n",
    "import torch.nn.functional as F\n",
    "import torchvision\n",
    "import torchvision.transforms as transforms\n",
    "import torchvision.models as models\n",
    "from torchvision.datasets import ImageFolder\n",
    "\n",
    "from kaggle_camera_model_id_lib.utils import PechkaBot, ImageList, NpzFolder, NCrops, TifFolderExFiles\n",
    "from kaggle_camera_model_id_lib.models import VggHead, StyleVggHead, IEEEfcn, ResNetFC, FatNet1,InceptionResNetV2\n",
    "from kaggle_camera_model_id_lib.utils import jpg_compress, equalize_v_hist, hsv_convert\n",
    "from kaggle_camera_model_id_lib.utils import scale_crop_pad, gamma_correction\n",
    "from kaggle_camera_model_id_lib.utils import patch_quality_dich, n_random_crops, n_pseudorandom_crops\n",
    "from kaggle_camera_model_id_lib.models import ResNetDense, ResNetDenseFC\n",
    "\n",
    "import imgaug as ia\n",
    "from imgaug import augmenters as iaa"
   ]
  },
  {
   "cell_type": "code",
   "execution_count": 2,
   "metadata": {
    "collapsed": true
   },
   "outputs": [],
   "source": [
    "val_path = '/home/mephistopheies/storage2/data/camera-model-id/val/'\n",
    "test_path = '/home/mephistopheies/storage2/data/camera-model-id/raw/test/'\n",
    "model_path = '/home/mephistopheies/storage2/data/camera-model-id/models/ResNetDenseFC34/256_random_aug_kaggle_10_pretrained_zfc_flickr_noval_nocenter/pseudo_phase_3/checkpoint.tar'\n",
    "out_dir = '/home/mephistopheies/storage2/data/camera-model-id/submit/'\n",
    "model_type = 'ResNetDenseFC34_pretrained_zfc'\n",
    "n_classes = 10\n",
    "crop_size = 256\n",
    "step = 128\n",
    "num_workers = 1\n",
    "\n",
    "do_random_aug_kaggle = True\n",
    "p_random_aug_kaggle = 0.5\n",
    "do_hard_aug = False\n",
    "p_hard_aug = 0.5\n",
    "\n",
    "to_tensor = transforms.ToTensor()\n",
    "normalize = transforms.Normalize(\n",
    "    mean=[0.485, 0.456, 0.406],\n",
    "    std=[0.229, 0.224, 0.225]\n",
    ")\n",
    "\n",
    "scale_05 = lambda img: scale_crop_pad(img, 0.5)\n",
    "scale_08 = lambda img: scale_crop_pad(img, 0.8)\n",
    "scale_15 = lambda img: scale_crop_pad(img, 1.5)\n",
    "scale_20 = lambda img: scale_crop_pad(img, 2.0)\n",
    "gamma_08 = lambda img: gamma_correction(img, 0.8)\n",
    "gamma_12 = lambda img: gamma_correction(img, 1.2)\n",
    "jpg_70 = lambda img: jpg_compress(img, (70, 71))\n",
    "jpg_90 = lambda img: jpg_compress(img, (90, 91))\n",
    "augs = [scale_05, scale_08, scale_15, scale_20, gamma_08, gamma_12, jpg_70, jpg_90]\n",
    "\n",
    "blur = iaa.GaussianBlur(sigma=(0, 2))\n",
    "sharpen = iaa.Sharpen(alpha=(0, 1), lightness=(0.5, 2))\n",
    "emboss = iaa.Emboss(alpha=(0, 1), strength=(0, 2))\n",
    "contrast_normalization = iaa.ContrastNormalization(alpha=(0.7, 1.3))\n",
    "hard_aug = iaa.OneOf([blur, sharpen, emboss, contrast_normalization])\n",
    "sometimes = iaa.Sometimes(p_hard_aug, hard_aug)\n",
    "\n",
    "\n",
    "def random_aug_kaggle(img, p=0.5):\n",
    "    if np.random.rand() < p:\n",
    "        return random.choice(augs)(img)\n",
    "    return img\n",
    "\n",
    "def aug_train(img):\n",
    "    if min(img.size) > crop_center_size:\n",
    "        return random_flip(random_crop(center_crop(img)))\n",
    "    return random_flip(random_crop(img))\n",
    "\n",
    "def aug_optional(img):\n",
    "    if do_hard_aug:\n",
    "        img = Image.fromarray(sometimes.augment_image(np.array(img)))\n",
    "\n",
    "    if do_random_aug_kaggle:\n",
    "        img = random_aug_kaggle(img, p_random_aug_kaggle)\n",
    "    return img"
   ]
  },
  {
   "cell_type": "code",
   "execution_count": 3,
   "metadata": {},
   "outputs": [
    {
     "name": "stdout",
     "output_type": "stream",
     "text": [
      "Last state:\n",
      "  TLoss: 0.023318\n",
      "  TAcc:  0.9920\n",
      "  VLoss: 0.000000\n",
      "  VAcc:  0.0000\n"
     ]
    }
   ],
   "source": [
    "model_factory = {\n",
    "    'Vgg19Head_E_2b_bn': lambda n_classes: VggHead(num_classes=n_classes, vgg_key='E_2b', load_vgg_bn=True, batch_norm=True),\n",
    "    'Vgg19Head_E_3b_bn': lambda n_classes: VggHead(num_classes=n_classes, vgg_key='E_3b', load_vgg_bn=True, batch_norm=True),\n",
    "    'Vgg19Head_E_bn': lambda n_classes: VggHead(num_classes=n_classes, load_vgg_bn=True, vgg_key='E', batch_norm=True),\n",
    "    'Vgg11Head_A_bn': lambda n_classes: VggHead(num_classes=n_classes, load_vgg_bn=True, vgg_key='A', batch_norm=True),\n",
    "    'Vgg11Head_A': lambda n_classes: VggHead(num_classes=n_classes, load_vgg_bn=True, vgg_key='A', batch_norm=False),\n",
    "    'StyleVggHead_bn': lambda n_classes: StyleVggHead(num_classes=n_classes, load_vgg_bn=True),\n",
    "    'IEEEfcn': lambda n_classes: IEEEfcn(n_classes),\n",
    "    'resnet18fc_pretrained': lambda n_classes: ResNetFC(\n",
    "        models.resnet.BasicBlock, [2, 2, 2, 2], num_classes=n_classes, load_resnet='resnet18'),\n",
    "    'resnet18fc': lambda n_classes: ResNetFC(\n",
    "        models.resnet.BasicBlock, [2, 2, 2, 2], num_classes=n_classes, load_resnet=None),\n",
    "    'resnet18X_pretrained': lambda n_classes: ResNetX(\n",
    "        models.resnet.BasicBlock, [2, 2, 2, 2], num_classes=n_classes, load_resnet='resnet18'),\n",
    "    'InceptionResNetV2fc_5_10_4': lambda n_classes: InceptionResNetV2fc(\n",
    "        num_classes=n_classes, nun_block35=5, num_block17=10, num_block8=4),\n",
    "    'InceptionResNetV2fcSmall_5_10': lambda n_classes: InceptionResNetV2fcSmall(\n",
    "        num_classes=n_classes, nun_block35=5, num_block17=10),\n",
    "    'resnet34fc_pretrained': lambda n_classes: ResNetFC(\n",
    "        models.resnet.BasicBlock, [3, 4, 6, 3], num_classes=n_classes, load_resnet='resnet34'),\n",
    "    'resnet34fc_pretrained_maxpool': lambda n_classes: ResNetFC(\n",
    "        models.resnet.BasicBlock, [3, 4, 6, 3], num_classes=n_classes, load_resnet='resnet34', pool_type='max'),\n",
    "    'resnet50fc_pretrained': lambda n_classes: ResNetFC(\n",
    "        models.resnet.Bottleneck, [3, 4, 6, 3], num_classes=n_classes, load_resnet='resnet50'),\n",
    "    'FatNet1': lambda n_classes: FatNet1(n_classes),\n",
    "    'resnet34X_pretrained_maxpool': lambda n_classes: ResNetX(\n",
    "        models.resnet.BasicBlock, [3, 4, 6, 3], num_classes=n_classes, load_resnet='resnet34', pool_type='max'),\n",
    "    'resnet50X_pretrained_maxpool': lambda n_classes: ResNetX(\n",
    "        models.resnet.Bottleneck, [3, 4, 6, 3], num_classes=n_classes, load_resnet='resnet50', pool_type='max'),\n",
    "    'InceptionResNetV2': lambda n_classes: InceptionResNetV2(num_classes=n_classes),\n",
    "    'ResNetDense34_pretrained': lambda n_classes: ResNetDense(\n",
    "        models.resnet.BasicBlock, [3, 4, 6, 3], num_classes=n_classes, load_resnet='resnet34'),\n",
    "    'ResNetDenseFC34_pretrained': lambda n_classes: ResNetDenseFC(\n",
    "        models.resnet.BasicBlock, [3, 4, 6, 3], num_classes=n_classes, load_resnet='resnet34', \n",
    "        zero_first_center=False),\n",
    "    'ResNetDenseFC34_pretrained_zfc': lambda n_classes: ResNetDenseFC(\n",
    "        models.resnet.BasicBlock, [3, 4, 6, 3], num_classes=n_classes, load_resnet='resnet34', \n",
    "        zero_first_center=True)\n",
    "}\n",
    "\n",
    "model = model_factory[model_type](n_classes)\n",
    "checkpoint = torch.load(model_path)\n",
    "model.load_state_dict(checkpoint['model'])\n",
    "loss_train = checkpoint['loss_train']\n",
    "acc_train = checkpoint['acc_train']\n",
    "loss_val = checkpoint['loss_val']\n",
    "acc_val = checkpoint['acc_val']\n",
    "class_to_idx = checkpoint['class_to_idx']\n",
    "idx2class = dict([(v, k) for (k, v) in class_to_idx.items()])\n",
    "print('Last state:\\n  TLoss: %0.6f\\n  TAcc:  %0.4f\\n  VLoss: %0.6f\\n  VAcc:  %0.4f' % \n",
    "    (loss_train[-1], acc_train[-1], loss_val[-1], acc_val[-1]))\n",
    "del(checkpoint)\n",
    "model = model.cuda()\n",
    "model = model.eval()"
   ]
  },
  {
   "cell_type": "code",
   "execution_count": 4,
   "metadata": {},
   "outputs": [
    {
     "data": {
      "application/vnd.jupyter.widget-view+json": {
       "model_id": "3a7b6a7e1002420993b1399b65e089c1"
      }
     },
     "metadata": {},
     "output_type": "display_data"
    },
    {
     "name": "stdout",
     "output_type": "stream",
     "text": [
      "\n"
     ]
    },
    {
     "data": {
      "application/vnd.jupyter.widget-view+json": {
       "model_id": "e5cd1213766e48b69c4480c78db5baa9"
      }
     },
     "metadata": {},
     "output_type": "display_data"
    },
    {
     "name": "stdout",
     "output_type": "stream",
     "text": [
      "\n"
     ]
    },
    {
     "data": {
      "application/vnd.jupyter.widget-view+json": {
       "model_id": "5b763ec29e5a4dd1b5f9098606128d52"
      }
     },
     "metadata": {},
     "output_type": "display_data"
    },
    {
     "name": "stdout",
     "output_type": "stream",
     "text": [
      "\n"
     ]
    },
    {
     "data": {
      "application/vnd.jupyter.widget-view+json": {
       "model_id": "470da85d5dcd468ea53220e55717f120"
      }
     },
     "metadata": {},
     "output_type": "display_data"
    },
    {
     "name": "stdout",
     "output_type": "stream",
     "text": [
      "\n"
     ]
    }
   ],
   "source": [
    "batch_size = 1\n",
    "\n",
    "ds_test_0 = TifFolderExFiles(\n",
    "    test_path,\n",
    "    transform=transforms.Compose([\n",
    "        transforms.Lambda(lambda img: NCrops(np.array(img), crop_size=crop_size, step=step)),\n",
    "        transforms.Lambda(lambda crops: torch.stack([normalize(to_tensor(crop)) for crop in crops]))\n",
    "    ]))\n",
    "\n",
    "ds_test_90 = TifFolderExFiles(\n",
    "    test_path,\n",
    "    transform=transforms.Compose([\n",
    "        transforms.Lambda(lambda img: NCrops(np.array(img.rotate(90)), crop_size=crop_size, step=step)),\n",
    "        transforms.Lambda(lambda crops: torch.stack([normalize(to_tensor(crop)) for crop in crops]))\n",
    "    ]))\n",
    "\n",
    "ds_test_180 = TifFolderExFiles(\n",
    "    test_path,\n",
    "    transform=transforms.Compose([\n",
    "        transforms.Lambda(lambda img: NCrops(np.array(img.rotate(180)), crop_size=crop_size, step=step)),\n",
    "        transforms.Lambda(lambda crops: torch.stack([normalize(to_tensor(crop)) for crop in crops]))\n",
    "    ]))\n",
    "\n",
    "ds_test_270 = TifFolderExFiles(\n",
    "    test_path,\n",
    "    transform=transforms.Compose([\n",
    "        transforms.Lambda(lambda img: NCrops(np.array(img.rotate(270)), crop_size=crop_size, step=step)),\n",
    "        transforms.Lambda(lambda crops: torch.stack([normalize(to_tensor(crop)) for crop in crops]))\n",
    "    ]))\n",
    "\n",
    "ds_test_list = [ds_test_0, ds_test_90, ds_test_180, ds_test_270]\n",
    "\n",
    "\n",
    "p_test_list = []\n",
    "for ds_test in ds_test_list:\n",
    "\n",
    "    test_loader = torch.utils.data.DataLoader(    \n",
    "        ds_test,\n",
    "        batch_size=batch_size, \n",
    "        shuffle=False,\n",
    "        num_workers=num_workers, \n",
    "        pin_memory=True)\n",
    "\n",
    "    res = []\n",
    "    p_test = {}\n",
    "    for X, Y, files in tqdm_notebook(test_loader, total=int(len(ds_test.imgs)/batch_size)):\n",
    "        files = list(map(lambda s: os.path.basename(s), files))\n",
    "        bs, ncrops, c, h, w = X.shape\n",
    "        X = X.view(-1, c, h, w)\n",
    "        X_var = Variable(X.cuda(), volatile=True)\n",
    "        log_p = model(X_var)\n",
    "        log_p = log_p.view(bs, ncrops, -1)\n",
    "        p = F.softmax(log_p, dim=2) #.mean(dim=1)\n",
    "        p = p.prod(dim=1).pow(1/p.shape[1])\n",
    "        ix_argmax = p.max(1)[1].cpu().data.numpy()\n",
    "        res.extend(list(zip(files, [idx2class[ix] for ix in ix_argmax])))\n",
    "\n",
    "        for ix in range(len(files)):\n",
    "            p_test[files[ix]] = [(idx2class[i], x) for (i, x) in enumerate(p[ix, :].cpu().data.numpy())]\n",
    "\n",
    "    p_test_list.append(p_test)\n",
    "    \n",
    "    \n",
    "p_test_manip = {}\n",
    "\n",
    "for p_test_tmp in p_test_list:\n",
    "    for fname, plist in p_test_tmp.items():\n",
    "        if fname not in p_test_manip:\n",
    "            p_test_manip[fname] = {}\n",
    "            \n",
    "        for c, p in plist:\n",
    "            if c not in p_test_manip[fname]:\n",
    "                p_test_manip[fname][c] = p\n",
    "            else:\n",
    "                p_test_manip[fname][c] = max(p_test_manip[fname][c], p)\n",
    "                \n",
    "for fname, plist in p_test.items():\n",
    "    n = sum(p_test_manip[fname].values())\n",
    "    p_test_manip[fname] = [(k, v/n) for (k, v) in p_test_manip[fname].items()]"
   ]
  },
  {
   "cell_type": "code",
   "execution_count": 5,
   "metadata": {
    "collapsed": true
   },
   "outputs": [],
   "source": [
    "del(model)"
   ]
  },
  {
   "cell_type": "code",
   "execution_count": 6,
   "metadata": {},
   "outputs": [
    {
     "name": "stdout",
     "output_type": "stream",
     "text": [
      "Last state:\n",
      "  TLoss: 0.010486\n",
      "  TAcc:  0.9967\n",
      "  VLoss: 0.000000\n",
      "  VAcc:  0.0000\n"
     ]
    }
   ],
   "source": [
    "model_path = '/home/mephistopheies/storage2/data/camera-model-id/models/ResNetDenseFC34/256_pretrained_zfc_flickr_noval_nocenter/pseudo_phase_1/checkpoint.tar'\n",
    "model_type = 'ResNetDenseFC34_pretrained_zfc'\n",
    "\n",
    "model = model_factory[model_type](n_classes)\n",
    "checkpoint = torch.load(model_path)\n",
    "model.load_state_dict(checkpoint['model'])\n",
    "loss_train = checkpoint['loss_train']\n",
    "acc_train = checkpoint['acc_train']\n",
    "loss_val = checkpoint['loss_val']\n",
    "acc_val = checkpoint['acc_val']\n",
    "class_to_idx = checkpoint['class_to_idx']\n",
    "idx2class = dict([(v, k) for (k, v) in class_to_idx.items()])\n",
    "print('Last state:\\n  TLoss: %0.6f\\n  TAcc:  %0.4f\\n  VLoss: %0.6f\\n  VAcc:  %0.4f' % \n",
    "    (loss_train[-1], acc_train[-1], loss_val[-1], acc_val[-1]))\n",
    "del(checkpoint)\n",
    "model = model.cuda()\n",
    "model = model.eval()"
   ]
  },
  {
   "cell_type": "code",
   "execution_count": 7,
   "metadata": {},
   "outputs": [
    {
     "data": {
      "application/vnd.jupyter.widget-view+json": {
       "model_id": "6f80fce62fa44e7fbc0c3d3ef436be1a"
      }
     },
     "metadata": {},
     "output_type": "display_data"
    },
    {
     "name": "stdout",
     "output_type": "stream",
     "text": [
      "\n"
     ]
    },
    {
     "data": {
      "application/vnd.jupyter.widget-view+json": {
       "model_id": "59b851c65b9747a09de0ce8651c035f1"
      }
     },
     "metadata": {},
     "output_type": "display_data"
    },
    {
     "name": "stdout",
     "output_type": "stream",
     "text": [
      "\n"
     ]
    },
    {
     "data": {
      "application/vnd.jupyter.widget-view+json": {
       "model_id": "d670197296754e1f87bfca81f6e77efe"
      }
     },
     "metadata": {},
     "output_type": "display_data"
    },
    {
     "name": "stdout",
     "output_type": "stream",
     "text": [
      "\n"
     ]
    },
    {
     "data": {
      "application/vnd.jupyter.widget-view+json": {
       "model_id": "db0f5ace88e74b82b8c057591efc2734"
      }
     },
     "metadata": {},
     "output_type": "display_data"
    },
    {
     "name": "stdout",
     "output_type": "stream",
     "text": [
      "\n"
     ]
    }
   ],
   "source": [
    "batch_size = 1\n",
    "\n",
    "ds_test_0 = TifFolderExFiles(\n",
    "    test_path,\n",
    "    transform=transforms.Compose([\n",
    "        transforms.Lambda(lambda img: NCrops(np.array(img), crop_size=crop_size, step=step)),\n",
    "        transforms.Lambda(lambda crops: torch.stack([normalize(to_tensor(crop)) for crop in crops]))\n",
    "    ]))\n",
    "\n",
    "ds_test_90 = TifFolderExFiles(\n",
    "    test_path,\n",
    "    transform=transforms.Compose([\n",
    "        transforms.Lambda(lambda img: NCrops(np.array(img.rotate(90)), crop_size=crop_size, step=step)),\n",
    "        transforms.Lambda(lambda crops: torch.stack([normalize(to_tensor(crop)) for crop in crops]))\n",
    "    ]))\n",
    "\n",
    "ds_test_180 = TifFolderExFiles(\n",
    "    test_path,\n",
    "    transform=transforms.Compose([\n",
    "        transforms.Lambda(lambda img: NCrops(np.array(img.rotate(180)), crop_size=crop_size, step=step)),\n",
    "        transforms.Lambda(lambda crops: torch.stack([normalize(to_tensor(crop)) for crop in crops]))\n",
    "    ]))\n",
    "\n",
    "ds_test_270 = TifFolderExFiles(\n",
    "    test_path,\n",
    "    transform=transforms.Compose([\n",
    "        transforms.Lambda(lambda img: NCrops(np.array(img.rotate(270)), crop_size=crop_size, step=step)),\n",
    "        transforms.Lambda(lambda crops: torch.stack([normalize(to_tensor(crop)) for crop in crops]))\n",
    "    ]))\n",
    "\n",
    "ds_test_list = [ds_test_0, ds_test_90, ds_test_180, ds_test_270]\n",
    "\n",
    "\n",
    "p_test_list = []\n",
    "for ds_test in ds_test_list:\n",
    "\n",
    "    test_loader = torch.utils.data.DataLoader(    \n",
    "        ds_test,\n",
    "        batch_size=batch_size, \n",
    "        shuffle=False,\n",
    "        num_workers=num_workers, \n",
    "        pin_memory=True)\n",
    "\n",
    "    res = []\n",
    "    p_test = {}\n",
    "    for X, Y, files in tqdm_notebook(test_loader, total=int(len(ds_test.imgs)/batch_size)):\n",
    "        files = list(map(lambda s: os.path.basename(s), files))\n",
    "        bs, ncrops, c, h, w = X.shape\n",
    "        X = X.view(-1, c, h, w)\n",
    "        X_var = Variable(X.cuda(), volatile=True)\n",
    "        log_p = model(X_var)\n",
    "        log_p = log_p.view(bs, ncrops, -1)\n",
    "        p = F.softmax(log_p, dim=2) #.mean(dim=1)\n",
    "        p = p.prod(dim=1).pow(1/p.shape[1])\n",
    "        ix_argmax = p.max(1)[1].cpu().data.numpy()\n",
    "        res.extend(list(zip(files, [idx2class[ix] for ix in ix_argmax])))\n",
    "\n",
    "        for ix in range(len(files)):\n",
    "            p_test[files[ix]] = [(idx2class[i], x) for (i, x) in enumerate(p[ix, :].cpu().data.numpy())]\n",
    "\n",
    "    p_test_list.append(p_test)\n",
    "    \n",
    "    \n",
    "p_test_unalt = {}\n",
    "\n",
    "for p_test_tmp in p_test_list:\n",
    "    for fname, plist in p_test_tmp.items():\n",
    "        if fname not in p_test_unalt:\n",
    "            p_test_unalt[fname] = {}\n",
    "            \n",
    "        for c, p in plist:\n",
    "            if c not in p_test_unalt[fname]:\n",
    "                p_test_unalt[fname][c] = p\n",
    "            else:\n",
    "                p_test_unalt[fname][c] = max(p_test_unalt[fname][c], p)\n",
    "                \n",
    "for fname, plist in p_test.items():\n",
    "    n = sum(p_test_unalt[fname].values())\n",
    "    p_test_unalt[fname] = [(k, v/n) for (k, v) in p_test_unalt[fname].items()]"
   ]
  },
  {
   "cell_type": "code",
   "execution_count": 8,
   "metadata": {
    "collapsed": true
   },
   "outputs": [],
   "source": [
    "files = list(p_test_manip.keys())"
   ]
  },
  {
   "cell_type": "code",
   "execution_count": 9,
   "metadata": {
    "collapsed": true
   },
   "outputs": [],
   "source": [
    "res = {}\n",
    "for fname in files:\n",
    "    if '_unalt' not in fname:\n",
    "        continue\n",
    "    res[fname] = (\n",
    "        sorted(p_test_manip[fname], key=lambda t: t[1], reverse=True)[0][0],\n",
    "        sorted(p_test_unalt[fname], key=lambda t: t[1], reverse=True)[0][0]\n",
    "    )"
   ]
  },
  {
   "cell_type": "code",
   "execution_count": 10,
   "metadata": {},
   "outputs": [
    {
     "name": "stdout",
     "output_type": "stream",
     "text": [
      "img_30d223c_unalt.tif Sony-NEX-7 Motorola-Nexus-6\n",
      "img_35a8d3f_unalt.tif Motorola-Droid-Maxx Motorola-Nexus-6\n",
      "img_c65cb5e_unalt.tif Samsung-Galaxy-S4 Motorola-Droid-Maxx\n",
      "img_c2ba760_unalt.tif iPhone-4s Samsung-Galaxy-Note3\n",
      "img_cfab198_unalt.tif Samsung-Galaxy-S4 Motorola-Droid-Maxx\n",
      "img_38bad84_unalt.tif Samsung-Galaxy-Note3 Motorola-Nexus-6\n",
      "img_d369cd1_unalt.tif Motorola-Droid-Maxx Motorola-Nexus-6\n",
      "img_f29f2a4_unalt.tif Motorola-X Samsung-Galaxy-Note3\n",
      "img_4554b75_unalt.tif Samsung-Galaxy-S4 Motorola-Droid-Maxx\n",
      "img_3b45a7c_unalt.tif Samsung-Galaxy-S4 Motorola-Droid-Maxx\n",
      "img_176f838_unalt.tif Samsung-Galaxy-Note3 Motorola-Nexus-6\n",
      "img_4f6e72b_unalt.tif Samsung-Galaxy-S4 Motorola-Droid-Maxx\n",
      "img_19e85e5_unalt.tif Samsung-Galaxy-S4 Motorola-Droid-Maxx\n",
      "img_c3a5247_unalt.tif Samsung-Galaxy-S4 Motorola-Droid-Maxx\n",
      "img_38aecf4_unalt.tif Samsung-Galaxy-S4 Motorola-Droid-Maxx\n",
      "img_380d69f_unalt.tif Motorola-Droid-Maxx Motorola-Nexus-6\n",
      "img_7a5e2ff_unalt.tif Samsung-Galaxy-Note3 Motorola-Droid-Maxx\n",
      "img_99eb725_unalt.tif iPhone-6 Motorola-Droid-Maxx\n",
      "img_5b2f4fd_unalt.tif Motorola-Droid-Maxx Sony-NEX-7\n",
      "img_c1bf475_unalt.tif iPhone-6 Sony-NEX-7\n",
      "img_55e9efa_unalt.tif Samsung-Galaxy-S4 Motorola-Droid-Maxx\n",
      "img_4855385_unalt.tif Motorola-Droid-Maxx Sony-NEX-7\n",
      "img_543d9dd_unalt.tif Samsung-Galaxy-S4 Motorola-Droid-Maxx\n",
      "img_0aaf6e4_unalt.tif iPhone-4s Motorola-Nexus-6\n",
      "img_3c19077_unalt.tif Motorola-Droid-Maxx Sony-NEX-7\n",
      "img_cfd4ecc_unalt.tif Samsung-Galaxy-S4 Motorola-Droid-Maxx\n",
      "img_ed27cd5_unalt.tif Motorola-Droid-Maxx Sony-NEX-7\n",
      "img_30946c8_unalt.tif HTC-1-M7 Motorola-Nexus-6\n",
      "img_d1b249e_unalt.tif Motorola-Droid-Maxx Motorola-Nexus-6\n",
      "img_86c0230_unalt.tif Motorola-Droid-Maxx LG-Nexus-5x\n",
      "img_73e76ca_unalt.tif iPhone-6 Motorola-Droid-Maxx\n",
      "img_f2d7ab9_unalt.tif Motorola-Droid-Maxx Motorola-Nexus-6\n",
      "img_a017012_unalt.tif Motorola-Droid-Maxx Motorola-Nexus-6\n",
      "img_ddcdb92_unalt.tif Samsung-Galaxy-Note3 Motorola-Nexus-6\n",
      "img_b9eb60e_unalt.tif Sony-NEX-7 Motorola-Nexus-6\n",
      "img_6bc6372_unalt.tif Samsung-Galaxy-S4 Motorola-Droid-Maxx\n"
     ]
    }
   ],
   "source": [
    "n = 0\n",
    "for fname, (cu, cm) in res.items():\n",
    "    if cu != cm:\n",
    "        print(fname, cu, cm)\n",
    "        n += 1"
   ]
  },
  {
   "cell_type": "code",
   "execution_count": 11,
   "metadata": {},
   "outputs": [
    {
     "data": {
      "text/plain": [
       "36"
      ]
     },
     "execution_count": 11,
     "metadata": {},
     "output_type": "execute_result"
    }
   ],
   "source": [
    "n"
   ]
  },
  {
   "cell_type": "code",
   "execution_count": null,
   "metadata": {
    "collapsed": true
   },
   "outputs": [],
   "source": []
  },
  {
   "cell_type": "code",
   "execution_count": 12,
   "metadata": {
    "collapsed": true
   },
   "outputs": [],
   "source": [
    "p_test = {}\n",
    "res = []\n",
    "for fname in files:\n",
    "    if '_unalt' in fname:\n",
    "        p_test[fname] = p_test_unalt[fname]\n",
    "    else:\n",
    "        p_test[fname] = p_test_manip[fname]\n",
    "    res.append((fname, sorted(p_test[fname], key=lambda t: t[1], reverse=True)[0][0]))"
   ]
  },
  {
   "cell_type": "code",
   "execution_count": 13,
   "metadata": {},
   "outputs": [
    {
     "data": {
      "text/plain": [
       "Sony-NEX-7              279\n",
       "Samsung-Galaxy-Note3    272\n",
       "iPhone-4s               270\n",
       "iPhone-6                269\n",
       "Samsung-Galaxy-S4       267\n",
       "HTC-1-M7                267\n",
       "Motorola-Nexus-6        259\n",
       "Motorola-Droid-Maxx     255\n",
       "LG-Nexus-5x             254\n",
       "Motorola-X              248\n",
       "dtype: int64"
      ]
     },
     "execution_count": 13,
     "metadata": {},
     "output_type": "execute_result"
    }
   ],
   "source": [
    "pd.Series([v for (k, v) in res]).value_counts()"
   ]
  },
  {
   "cell_type": "code",
   "execution_count": 14,
   "metadata": {},
   "outputs": [
    {
     "data": {
      "text/plain": [
       "count    2640.000000\n",
       "mean        0.967518\n",
       "std         0.106615\n",
       "min         0.269772\n",
       "5%          0.750968\n",
       "10%         0.932526\n",
       "15%         0.983017\n",
       "20%         0.995278\n",
       "25%         0.998285\n",
       "50%         0.999978\n",
       "max         1.000000\n",
       "dtype: float64"
      ]
     },
     "execution_count": 14,
     "metadata": {},
     "output_type": "execute_result"
    }
   ],
   "source": [
    "pd.Series([np.max([p for (_, p) in d]) for (fname, d) in p_test.items()]).describe(percentiles=[.05, 0.1, 0.15, 0.2, 0.25])"
   ]
  },
  {
   "cell_type": "code",
   "execution_count": 15,
   "metadata": {
    "collapsed": true
   },
   "outputs": [],
   "source": [
    "tmp = [(fname, np.sum([p for (_, p) in d])) for (fname, d) in p_test.items()]"
   ]
  },
  {
   "cell_type": "code",
   "execution_count": 17,
   "metadata": {},
   "outputs": [
    {
     "data": {
      "text/plain": [
       "[]"
      ]
     },
     "execution_count": 17,
     "metadata": {},
     "output_type": "execute_result"
    }
   ],
   "source": [
    "[(k, v) for (k, v) in tmp if v < 0.99]"
   ]
  },
  {
   "cell_type": "code",
   "execution_count": 18,
   "metadata": {},
   "outputs": [
    {
     "data": {
      "text/plain": [
       "Sony-NEX-7              279\n",
       "Samsung-Galaxy-Note3    272\n",
       "iPhone-4s               270\n",
       "iPhone-6                269\n",
       "Samsung-Galaxy-S4       267\n",
       "HTC-1-M7                267\n",
       "Motorola-Nexus-6        259\n",
       "Motorola-Droid-Maxx     255\n",
       "LG-Nexus-5x             254\n",
       "Motorola-X              248\n",
       "dtype: int64"
      ]
     },
     "execution_count": 18,
     "metadata": {},
     "output_type": "execute_result"
    }
   ],
   "source": [
    "df = []\n",
    "for fname, pred in p_test.items():\n",
    "    df.append([fname] + [dict(pred)[k] for (k, _) in sorted(class_to_idx.items(), key=lambda t: t[1])])\n",
    "    \n",
    "df = pd.DataFrame(\n",
    "    df, \n",
    "    columns=['fname'] + [k for (k, _) in \n",
    "                         sorted(class_to_idx.items(), key=lambda t: t[1])])\n",
    "\n",
    "df.to_csv('/home/mephistopheies/storage2/data/camera-model-id/tmp/p_test_m3_u1__lbXXX.csv', index=False)\n",
    "\n",
    "df.set_index(['fname']).apply(lambda r: idx2class[np.argmax(r.values)], axis=1).value_counts()"
   ]
  },
  {
   "cell_type": "code",
   "execution_count": null,
   "metadata": {
    "collapsed": true
   },
   "outputs": [],
   "source": []
  },
  {
   "cell_type": "code",
   "execution_count": null,
   "metadata": {
    "collapsed": true
   },
   "outputs": [],
   "source": []
  },
  {
   "cell_type": "code",
   "execution_count": null,
   "metadata": {
    "collapsed": true
   },
   "outputs": [],
   "source": []
  },
  {
   "cell_type": "code",
   "execution_count": null,
   "metadata": {
    "collapsed": true
   },
   "outputs": [],
   "source": []
  },
  {
   "cell_type": "code",
   "execution_count": null,
   "metadata": {
    "collapsed": true
   },
   "outputs": [],
   "source": []
  },
  {
   "cell_type": "code",
   "execution_count": null,
   "metadata": {
    "collapsed": true
   },
   "outputs": [],
   "source": []
  },
  {
   "cell_type": "code",
   "execution_count": null,
   "metadata": {
    "collapsed": true
   },
   "outputs": [],
   "source": []
  },
  {
   "cell_type": "code",
   "execution_count": null,
   "metadata": {
    "collapsed": true
   },
   "outputs": [],
   "source": []
  },
  {
   "cell_type": "code",
   "execution_count": null,
   "metadata": {
    "collapsed": true
   },
   "outputs": [],
   "source": []
  },
  {
   "cell_type": "code",
   "execution_count": null,
   "metadata": {
    "collapsed": true
   },
   "outputs": [],
   "source": []
  },
  {
   "cell_type": "code",
   "execution_count": null,
   "metadata": {
    "collapsed": true
   },
   "outputs": [],
   "source": []
  },
  {
   "cell_type": "code",
   "execution_count": null,
   "metadata": {
    "collapsed": true
   },
   "outputs": [],
   "source": []
  },
  {
   "cell_type": "code",
   "execution_count": null,
   "metadata": {
    "collapsed": true
   },
   "outputs": [],
   "source": []
  },
  {
   "cell_type": "code",
   "execution_count": null,
   "metadata": {
    "collapsed": true
   },
   "outputs": [],
   "source": []
  },
  {
   "cell_type": "code",
   "execution_count": null,
   "metadata": {
    "collapsed": true
   },
   "outputs": [],
   "source": []
  },
  {
   "cell_type": "code",
   "execution_count": null,
   "metadata": {
    "collapsed": true
   },
   "outputs": [],
   "source": []
  },
  {
   "cell_type": "code",
   "execution_count": null,
   "metadata": {
    "collapsed": true
   },
   "outputs": [],
   "source": []
  },
  {
   "cell_type": "code",
   "execution_count": null,
   "metadata": {
    "collapsed": true
   },
   "outputs": [],
   "source": []
  },
  {
   "cell_type": "code",
   "execution_count": null,
   "metadata": {
    "collapsed": true
   },
   "outputs": [],
   "source": []
  },
  {
   "cell_type": "code",
   "execution_count": 12,
   "metadata": {},
   "outputs": [
    {
     "data": {
      "text/plain": [
       "count    2640.000000\n",
       "mean        0.873223\n",
       "std         0.194776\n",
       "min         0.202297\n",
       "5%          0.439338\n",
       "10%         0.525856\n",
       "15%         0.614119\n",
       "20%         0.708488\n",
       "25%         0.796914\n",
       "50%         0.992835\n",
       "max         1.000000\n",
       "dtype: float64"
      ]
     },
     "execution_count": 12,
     "metadata": {},
     "output_type": "execute_result"
    }
   ],
   "source": [
    "pd.Series([np.max([p for (_, p) in d]) for (fname, d) in p_test.items()]).describe(percentiles=[.05, 0.1, 0.15, 0.2, 0.25])"
   ]
  },
  {
   "cell_type": "code",
   "execution_count": 13,
   "metadata": {
    "collapsed": true
   },
   "outputs": [],
   "source": [
    "uncertain = [fname for (fname, x) in [(fname, np.max([p for (_, p) in d])) for (fname, d) in p_test.items()] if x < 0.9]"
   ]
  },
  {
   "cell_type": "code",
   "execution_count": 14,
   "metadata": {},
   "outputs": [
    {
     "data": {
      "text/plain": [
       "864"
      ]
     },
     "execution_count": 14,
     "metadata": {},
     "output_type": "execute_result"
    }
   ],
   "source": [
    "len(uncertain)"
   ]
  },
  {
   "cell_type": "code",
   "execution_count": null,
   "metadata": {
    "collapsed": true
   },
   "outputs": [],
   "source": []
  },
  {
   "cell_type": "code",
   "execution_count": 19,
   "metadata": {},
   "outputs": [
    {
     "name": "stdout",
     "output_type": "stream",
     "text": [
      "HTC-1-M7 0.000000\n",
      "LG-Nexus-5x 0.174085\n",
      "Motorola-Droid-Maxx 0.000001\n",
      "Motorola-Nexus-6 0.824398\n",
      "Motorola-X 0.000012\n",
      "Samsung-Galaxy-Note3 0.001446\n",
      "Samsung-Galaxy-S4 0.000001\n",
      "Sony-NEX-7 0.000002\n",
      "iPhone-4s 0.000015\n",
      "iPhone-6 0.000041\n"
     ]
    }
   ],
   "source": [
    "for c, p in p_test['img_4b25b5e_unalt.tif']:\n",
    "    print(c, '%0.6f' % p)"
   ]
  },
  {
   "cell_type": "code",
   "execution_count": null,
   "metadata": {
    "collapsed": true
   },
   "outputs": [],
   "source": []
  },
  {
   "cell_type": "code",
   "execution_count": null,
   "metadata": {
    "collapsed": true
   },
   "outputs": [],
   "source": []
  },
  {
   "cell_type": "code",
   "execution_count": null,
   "metadata": {
    "collapsed": true
   },
   "outputs": [],
   "source": []
  },
  {
   "cell_type": "code",
   "execution_count": null,
   "metadata": {
    "collapsed": true
   },
   "outputs": [],
   "source": []
  },
  {
   "cell_type": "code",
   "execution_count": 15,
   "metadata": {
    "collapsed": true
   },
   "outputs": [],
   "source": [
    "tmp = [(fname, np.max([p for (_, p) in d])) for (fname, d) in p_test.items()]"
   ]
  },
  {
   "cell_type": "code",
   "execution_count": 23,
   "metadata": {},
   "outputs": [
    {
     "data": {
      "text/plain": [
       "[('img_cfeded2_unalt.tif', 0.043961879)]"
      ]
     },
     "execution_count": 23,
     "metadata": {},
     "output_type": "execute_result"
    }
   ],
   "source": [
    "[(c, p) for (c, p) in tmp if p < 0.06]"
   ]
  },
  {
   "cell_type": "code",
   "execution_count": 24,
   "metadata": {},
   "outputs": [
    {
     "data": {
      "text/plain": [
       "[0.0,\n",
       " 6.2477942e-05,\n",
       " 1.7279393e-05,\n",
       " 0.0,\n",
       " 0.0,\n",
       " 0.0,\n",
       " 0.0,\n",
       " 0.036598668,\n",
       " 0.0,\n",
       " 0.043961879]"
      ]
     },
     "execution_count": 24,
     "metadata": {},
     "output_type": "execute_result"
    }
   ],
   "source": [
    "[p for (_, p) in p_test['img_cfeded2_unalt.tif']]\n",
    "\n",
    "# p_test['img_cfeded2_unalt.tif']"
   ]
  },
  {
   "cell_type": "code",
   "execution_count": 19,
   "metadata": {},
   "outputs": [],
   "source": [
    "tmp = [(fname, np.sum([p for (_, p) in d])) for (fname, d) in p_test.items()]"
   ]
  },
  {
   "cell_type": "code",
   "execution_count": 21,
   "metadata": {},
   "outputs": [],
   "source": [
    "# [(c, p) for (c, p) in tmp if p < 0.999]"
   ]
  },
  {
   "cell_type": "code",
   "execution_count": null,
   "metadata": {},
   "outputs": [],
   "source": []
  },
  {
   "cell_type": "code",
   "execution_count": null,
   "metadata": {},
   "outputs": [],
   "source": []
  },
  {
   "cell_type": "code",
   "execution_count": null,
   "metadata": {
    "collapsed": true
   },
   "outputs": [],
   "source": []
  },
  {
   "cell_type": "code",
   "execution_count": null,
   "metadata": {
    "collapsed": true
   },
   "outputs": [],
   "source": []
  },
  {
   "cell_type": "code",
   "execution_count": 15,
   "metadata": {
    "collapsed": true
   },
   "outputs": [],
   "source": [
    "# [(fname, np.max([p for (_, p) in d])) for (fname, d) in p_test.items()]"
   ]
  },
  {
   "cell_type": "code",
   "execution_count": null,
   "metadata": {
    "collapsed": true
   },
   "outputs": [],
   "source": []
  },
  {
   "cell_type": "code",
   "execution_count": 15,
   "metadata": {
    "collapsed": true
   },
   "outputs": [],
   "source": [
    "p_test = {}\n",
    "res = []\n",
    "for fname in files:\n",
    "    if '_unalt' in fname:\n",
    "        p_test[fname] = p_test_unalt[fname]\n",
    "    else:\n",
    "        p_test[fname] = p_test_manip[fname]\n",
    "    res.append((fname, sorted(p_test[fname], key=lambda t: t[1], reverse=True)[0][0]))"
   ]
  },
  {
   "cell_type": "code",
   "execution_count": 26,
   "metadata": {},
   "outputs": [
    {
     "ename": "ValueError",
     "evalue": "too many values to unpack (expected 2)",
     "output_type": "error",
     "traceback": [
      "\u001b[0;31m---------------------------------------------------------------------------\u001b[0m",
      "\u001b[0;31mValueError\u001b[0m                                Traceback (most recent call last)",
      "\u001b[0;32m<ipython-input-26-71935c26a591>\u001b[0m in \u001b[0;36m<module>\u001b[0;34m()\u001b[0m\n\u001b[0;32m----> 1\u001b[0;31m \u001b[0mpd\u001b[0m\u001b[0;34m.\u001b[0m\u001b[0mSeries\u001b[0m\u001b[0;34m(\u001b[0m\u001b[0;34m[\u001b[0m\u001b[0mv\u001b[0m \u001b[0;32mfor\u001b[0m \u001b[0;34m(\u001b[0m\u001b[0mk\u001b[0m\u001b[0;34m,\u001b[0m \u001b[0mv\u001b[0m\u001b[0;34m)\u001b[0m \u001b[0;32min\u001b[0m \u001b[0mres\u001b[0m\u001b[0;34m]\u001b[0m\u001b[0;34m)\u001b[0m\u001b[0;34m.\u001b[0m\u001b[0mvalue_counts\u001b[0m\u001b[0;34m(\u001b[0m\u001b[0;34m)\u001b[0m\u001b[0;34m\u001b[0m\u001b[0m\n\u001b[0m",
      "\u001b[0;32m<ipython-input-26-71935c26a591>\u001b[0m in \u001b[0;36m<listcomp>\u001b[0;34m(.0)\u001b[0m\n\u001b[0;32m----> 1\u001b[0;31m \u001b[0mpd\u001b[0m\u001b[0;34m.\u001b[0m\u001b[0mSeries\u001b[0m\u001b[0;34m(\u001b[0m\u001b[0;34m[\u001b[0m\u001b[0mv\u001b[0m \u001b[0;32mfor\u001b[0m \u001b[0;34m(\u001b[0m\u001b[0mk\u001b[0m\u001b[0;34m,\u001b[0m \u001b[0mv\u001b[0m\u001b[0;34m)\u001b[0m \u001b[0;32min\u001b[0m \u001b[0mres\u001b[0m\u001b[0;34m]\u001b[0m\u001b[0;34m)\u001b[0m\u001b[0;34m.\u001b[0m\u001b[0mvalue_counts\u001b[0m\u001b[0;34m(\u001b[0m\u001b[0;34m)\u001b[0m\u001b[0;34m\u001b[0m\u001b[0m\n\u001b[0m",
      "\u001b[0;31mValueError\u001b[0m: too many values to unpack (expected 2)"
     ]
    }
   ],
   "source": [
    "pd.Series([v for (k, v) in res]).value_counts()"
   ]
  },
  {
   "cell_type": "code",
   "execution_count": 24,
   "metadata": {},
   "outputs": [],
   "source": [
    "# pd.Series([v for (k, v) in res]).value_counts()"
   ]
  },
  {
   "cell_type": "code",
   "execution_count": 21,
   "metadata": {},
   "outputs": [],
   "source": [
    "# -(pd.Series([v for (k, v) in res]).value_counts(normalize=True)*np.log(pd.Series([v for (k, v) in res]).value_counts(normalize=True))).sum()"
   ]
  },
  {
   "cell_type": "code",
   "execution_count": 22,
   "metadata": {
    "collapsed": true
   },
   "outputs": [],
   "source": [
    "# x = np.array([270, 270, 268, 267, 265, 264, 261, 260, 259, 256])\n",
    "# x = x/x.sum()"
   ]
  },
  {
   "cell_type": "code",
   "execution_count": 23,
   "metadata": {},
   "outputs": [],
   "source": [
    "# -(x*np.log(x)).sum()"
   ]
  },
  {
   "cell_type": "code",
   "execution_count": null,
   "metadata": {
    "collapsed": true
   },
   "outputs": [],
   "source": []
  },
  {
   "cell_type": "code",
   "execution_count": 18,
   "metadata": {
    "collapsed": true
   },
   "outputs": [],
   "source": [
    "# with open('/home/mephistopheies/storage2/data/camera-model-id/tmp/p_test_985_m1_u0.pkl', 'wb') as f:\n",
    "#     pickle.dump(p_test, f)"
   ]
  },
  {
   "cell_type": "code",
   "execution_count": 30,
   "metadata": {},
   "outputs": [
    {
     "data": {
      "text/plain": [
       "Sony-NEX-7              271\n",
       "iPhone-6                268\n",
       "Samsung-Galaxy-Note3    268\n",
       "HTC-1-M7                267\n",
       "iPhone-4s               267\n",
       "Motorola-Droid-Maxx     264\n",
       "Samsung-Galaxy-S4       262\n",
       "LG-Nexus-5x             260\n",
       "Motorola-Nexus-6        259\n",
       "Motorola-X              254\n",
       "dtype: int64"
      ]
     },
     "execution_count": 30,
     "metadata": {},
     "output_type": "execute_result"
    }
   ],
   "source": [
    "df = []\n",
    "for fname, pred in p_test.items():\n",
    "    df.append([fname] + [dict(pred)[k] for (k, _) in sorted(class_to_idx.items(), key=lambda t: t[1])])\n",
    "    \n",
    "df = pd.DataFrame(\n",
    "    df, \n",
    "    columns=['fname'] + [k for (k, _) in \n",
    "                         sorted(class_to_idx.items(), key=lambda t: t[1])])\n",
    "\n",
    "# df.to_csv('/home/mephistopheies/storage2/data/camera-model-id/tmp/p_test_985_m1_u0__lb985.csv', index=False)\n",
    "\n",
    "df.set_index(['fname']).apply(lambda r: idx2class[np.argmax(r.values)], axis=1).value_counts()"
   ]
  },
  {
   "cell_type": "code",
   "execution_count": null,
   "metadata": {},
   "outputs": [],
   "source": []
  },
  {
   "cell_type": "code",
   "execution_count": null,
   "metadata": {
    "collapsed": true
   },
   "outputs": [],
   "source": []
  },
  {
   "cell_type": "code",
   "execution_count": null,
   "metadata": {
    "collapsed": true
   },
   "outputs": [],
   "source": []
  },
  {
   "cell_type": "code",
   "execution_count": null,
   "metadata": {
    "collapsed": true
   },
   "outputs": [],
   "source": []
  },
  {
   "cell_type": "code",
   "execution_count": 31,
   "metadata": {},
   "outputs": [
    {
     "name": "stdout",
     "output_type": "stream",
     "text": [
      "2640 1320\n",
      "2640 1320\n",
      "1320 1320\n",
      "132\n",
      "2640\n"
     ]
    }
   ],
   "source": [
    "manip = [(f, c) for (f, c) in p_test.items() if '_manip' in f]\n",
    "print(len(p_test), len(manip))\n",
    "\n",
    "unalt = [(f, c) for (f, c) in p_test.items() if '_unalt' in f]\n",
    "print(len(p_test), len(unalt))\n",
    "\n",
    "unalt_tmp = unalt.copy()\n",
    "manip_tmp = manip.copy()\n",
    "print(len(unalt_tmp), len(manip_tmp))\n",
    "\n",
    "t = int(0.1*1320)\n",
    "print(t)\n",
    "\n",
    "res = []\n",
    "\n",
    "c_counts = defaultdict(int)\n",
    "for _ in range(1320):\n",
    "    skip_f = set([k for (k, _) in res])\n",
    "    unalt_tmp = [(f, sorted(p, key=lambda t: t[-1], reverse=True)) for (f, p) in unalt_tmp if f not in skip_f]\n",
    "    unalt_tmp = sorted(unalt_tmp, key=lambda t: t[-1][0], reverse=True)\n",
    "    f, p = unalt_tmp[0]\n",
    "    c, _ = p[0]\n",
    "    res.append((f, c))\n",
    "    c_counts[c] += 1\n",
    "    \n",
    "    if c_counts[c] == t:\n",
    "        unalt_tmp = [(f, [(k, v) for (k, v) in p if k != c]) for (f, p) in unalt_tmp]\n",
    "        \n",
    "c_counts = defaultdict(int)\n",
    "for _ in range(1320):\n",
    "    skip_f = set([k for (k, _) in res])\n",
    "    manip_tmp = [(f, sorted(p, key=lambda t: t[-1], reverse=True)) for (f, p) in manip_tmp if f not in skip_f]\n",
    "    manip_tmp = sorted(manip_tmp, key=lambda t: t[-1][0], reverse=True)\n",
    "    f, p = manip_tmp[0]\n",
    "    c, _ = p[0]\n",
    "    res.append((f, c))\n",
    "    c_counts[c] += 1\n",
    "    \n",
    "    if c_counts[c] == t:\n",
    "        manip_tmp = [(f, [(k, v) for (k, v) in p if k != c]) for (f, p) in manip_tmp]\n",
    "        \n",
    "print(len(res))"
   ]
  },
  {
   "cell_type": "code",
   "execution_count": 32,
   "metadata": {},
   "outputs": [
    {
     "data": {
      "text/plain": [
       "Motorola-Droid-Maxx     264\n",
       "iPhone-6                264\n",
       "HTC-1-M7                264\n",
       "Motorola-Nexus-6        264\n",
       "Sony-NEX-7              264\n",
       "Motorola-X              264\n",
       "iPhone-4s               264\n",
       "Samsung-Galaxy-S4       264\n",
       "LG-Nexus-5x             264\n",
       "Samsung-Galaxy-Note3    264\n",
       "dtype: int64"
      ]
     },
     "execution_count": 32,
     "metadata": {},
     "output_type": "execute_result"
    }
   ],
   "source": [
    "pd.Series([v for (k, v) in res]).value_counts()"
   ]
  },
  {
   "cell_type": "code",
   "execution_count": 35,
   "metadata": {
    "collapsed": true
   },
   "outputs": [],
   "source": [
    "with open(os.path.join(out_dir, 'submit__unalt.csv'.lower()), 'w') as f:\n",
    "    f.write('fname,camera\\n')\n",
    "    for fname, c in res:\n",
    "        if '_unalt' in fname:\n",
    "            f.write('%s,%s\\n' % (fname, c))\n",
    "        else:\n",
    "            f.write('%s,%s\\n' % (fname, 'no_class'))\n",
    "            \n",
    "            \n",
    "with open(os.path.join(out_dir, 'submit__manip.csv'.lower()), 'w') as f:\n",
    "    f.write('fname,camera\\n')\n",
    "    for fname, c in res:\n",
    "        if '_manip' in fname:\n",
    "            f.write('%s,%s\\n' % (fname, c))\n",
    "        else:\n",
    "            f.write('%s,%s\\n' % (fname, 'no_class'))\n",
    "            \n",
    "            \n",
    "with open(os.path.join(out_dir, 'submit.csv'.lower()), 'w') as f:\n",
    "    f.write('fname,camera\\n')\n",
    "    for fname, c in res:\n",
    "        f.write('%s,%s\\n' % (fname, c))"
   ]
  },
  {
   "cell_type": "code",
   "execution_count": 37,
   "metadata": {},
   "outputs": [
    {
     "data": {
      "text/plain": [
       "[('img_3c3e717_unalt.tif', 'iPhone-6'),\n",
       " ('img_bb2d84a_unalt.tif', 'iPhone-6'),\n",
       " ('img_30d0426_unalt.tif', 'iPhone-6'),\n",
       " ('img_f5e2df6_unalt.tif', 'iPhone-6'),\n",
       " ('img_6286b86_unalt.tif', 'iPhone-6'),\n",
       " ('img_919d93e_unalt.tif', 'iPhone-6'),\n",
       " ('img_68bcdc5_unalt.tif', 'iPhone-6'),\n",
       " ('img_67faf71_unalt.tif', 'iPhone-6'),\n",
       " ('img_d08131e_unalt.tif', 'iPhone-6'),\n",
       " ('img_83491b7_unalt.tif', 'iPhone-6'),\n",
       " ('img_2af26d1_unalt.tif', 'iPhone-6'),\n",
       " ('img_6ce4249_unalt.tif', 'iPhone-6'),\n",
       " ('img_06a4a46_unalt.tif', 'iPhone-6'),\n",
       " ('img_cef577b_unalt.tif', 'iPhone-6'),\n",
       " ('img_1f3f9fa_unalt.tif', 'iPhone-6'),\n",
       " ('img_de0c0c3_unalt.tif', 'iPhone-6'),\n",
       " ('img_79e7de8_unalt.tif', 'iPhone-6'),\n",
       " ('img_0ea63b1_unalt.tif', 'iPhone-6'),\n",
       " ('img_f388a9d_unalt.tif', 'iPhone-6'),\n",
       " ('img_e529e0b_unalt.tif', 'iPhone-6'),\n",
       " ('img_699e499_unalt.tif', 'iPhone-6'),\n",
       " ('img_2b1d005_unalt.tif', 'iPhone-6'),\n",
       " ('img_f0acf39_unalt.tif', 'iPhone-6'),\n",
       " ('img_de5a87f_unalt.tif', 'iPhone-6'),\n",
       " ('img_3346671_unalt.tif', 'iPhone-6'),\n",
       " ('img_560773f_unalt.tif', 'iPhone-6'),\n",
       " ('img_5bb97d6_unalt.tif', 'iPhone-6'),\n",
       " ('img_a451e7e_unalt.tif', 'iPhone-6'),\n",
       " ('img_116c570_unalt.tif', 'iPhone-6'),\n",
       " ('img_9c3c9d9_unalt.tif', 'iPhone-6'),\n",
       " ('img_e12d43c_unalt.tif', 'iPhone-6'),\n",
       " ('img_4413a54_unalt.tif', 'iPhone-6'),\n",
       " ('img_9dd0b2b_unalt.tif', 'iPhone-6'),\n",
       " ('img_8a0b026_unalt.tif', 'iPhone-6'),\n",
       " ('img_53622c5_unalt.tif', 'iPhone-6'),\n",
       " ('img_5e12a0f_unalt.tif', 'iPhone-6'),\n",
       " ('img_527267a_unalt.tif', 'iPhone-6'),\n",
       " ('img_fc7263b_unalt.tif', 'iPhone-6'),\n",
       " ('img_ce47b30_unalt.tif', 'iPhone-6'),\n",
       " ('img_6ebfc13_unalt.tif', 'iPhone-6'),\n",
       " ('img_ab97c0e_unalt.tif', 'iPhone-6'),\n",
       " ('img_c2cad1b_unalt.tif', 'iPhone-6'),\n",
       " ('img_0609bc8_unalt.tif', 'iPhone-6'),\n",
       " ('img_235b3f6_unalt.tif', 'iPhone-6'),\n",
       " ('img_1c20954_unalt.tif', 'iPhone-6'),\n",
       " ('img_3b9ac10_unalt.tif', 'iPhone-6'),\n",
       " ('img_d27555d_unalt.tif', 'iPhone-6'),\n",
       " ('img_993bf8f_unalt.tif', 'iPhone-6'),\n",
       " ('img_5250541_unalt.tif', 'iPhone-6'),\n",
       " ('img_ada3807_unalt.tif', 'iPhone-6'),\n",
       " ('img_f4d822b_unalt.tif', 'iPhone-6'),\n",
       " ('img_88bdaec_unalt.tif', 'iPhone-6'),\n",
       " ('img_14988d2_unalt.tif', 'iPhone-6'),\n",
       " ('img_950136c_unalt.tif', 'iPhone-6'),\n",
       " ('img_33f8089_unalt.tif', 'iPhone-6'),\n",
       " ('img_4ee3478_unalt.tif', 'iPhone-6'),\n",
       " ('img_4e575d4_unalt.tif', 'iPhone-6'),\n",
       " ('img_f213e36_unalt.tif', 'iPhone-6'),\n",
       " ('img_382dc6e_unalt.tif', 'iPhone-6'),\n",
       " ('img_85ab377_unalt.tif', 'iPhone-6'),\n",
       " ('img_8158245_unalt.tif', 'iPhone-6'),\n",
       " ('img_f5c6b8e_unalt.tif', 'iPhone-6'),\n",
       " ('img_9e07b25_unalt.tif', 'iPhone-6'),\n",
       " ('img_5fc3762_unalt.tif', 'iPhone-6'),\n",
       " ('img_7a76811_unalt.tif', 'iPhone-6'),\n",
       " ('img_355f188_unalt.tif', 'iPhone-6'),\n",
       " ('img_505c0ef_unalt.tif', 'iPhone-6'),\n",
       " ('img_cb3f566_unalt.tif', 'iPhone-6'),\n",
       " ('img_fe9912d_unalt.tif', 'iPhone-6'),\n",
       " ('img_8ce22cf_unalt.tif', 'iPhone-6'),\n",
       " ('img_f500caa_unalt.tif', 'iPhone-6'),\n",
       " ('img_1a95b74_unalt.tif', 'iPhone-6'),\n",
       " ('img_5e888d8_unalt.tif', 'iPhone-6'),\n",
       " ('img_d308808_unalt.tif', 'iPhone-6'),\n",
       " ('img_b42e6b9_unalt.tif', 'iPhone-6'),\n",
       " ('img_2170a4e_unalt.tif', 'iPhone-6'),\n",
       " ('img_22beaa4_unalt.tif', 'iPhone-6'),\n",
       " ('img_68c25fd_unalt.tif', 'iPhone-6'),\n",
       " ('img_9d871cf_unalt.tif', 'iPhone-6'),\n",
       " ('img_71917ff_unalt.tif', 'iPhone-6'),\n",
       " ('img_32557e3_unalt.tif', 'iPhone-6'),\n",
       " ('img_0b5b7b3_unalt.tif', 'iPhone-6'),\n",
       " ('img_0353f58_unalt.tif', 'iPhone-6'),\n",
       " ('img_f62f3e2_unalt.tif', 'iPhone-6'),\n",
       " ('img_bc6bcd2_unalt.tif', 'iPhone-6'),\n",
       " ('img_8fb50f2_unalt.tif', 'iPhone-6'),\n",
       " ('img_a4e7fe6_unalt.tif', 'iPhone-6'),\n",
       " ('img_29a0cda_unalt.tif', 'iPhone-6'),\n",
       " ('img_4dee55a_unalt.tif', 'iPhone-6'),\n",
       " ('img_083c983_unalt.tif', 'iPhone-6'),\n",
       " ('img_0f9b9d5_unalt.tif', 'iPhone-6'),\n",
       " ('img_b5bf89a_unalt.tif', 'iPhone-6'),\n",
       " ('img_129f650_unalt.tif', 'iPhone-6'),\n",
       " ('img_cbf8578_unalt.tif', 'iPhone-6'),\n",
       " ('img_faad203_unalt.tif', 'iPhone-6'),\n",
       " ('img_03a345c_unalt.tif', 'iPhone-6'),\n",
       " ('img_fdf8c14_unalt.tif', 'iPhone-6'),\n",
       " ('img_5c3ba71_unalt.tif', 'iPhone-6'),\n",
       " ('img_5223c59_unalt.tif', 'iPhone-6'),\n",
       " ('img_18d5562_unalt.tif', 'iPhone-6'),\n",
       " ('img_6d29846_unalt.tif', 'iPhone-6'),\n",
       " ('img_5b26a62_unalt.tif', 'iPhone-6'),\n",
       " ('img_ddcaede_unalt.tif', 'iPhone-6'),\n",
       " ('img_9afad85_unalt.tif', 'iPhone-6'),\n",
       " ('img_508a0bf_unalt.tif', 'iPhone-6'),\n",
       " ('img_9fd66f2_unalt.tif', 'iPhone-6'),\n",
       " ('img_2689391_unalt.tif', 'iPhone-6'),\n",
       " ('img_4ecf5d2_unalt.tif', 'iPhone-6'),\n",
       " ('img_74defa7_unalt.tif', 'iPhone-6'),\n",
       " ('img_e08c17b_unalt.tif', 'iPhone-6'),\n",
       " ('img_aff8cf2_unalt.tif', 'iPhone-6'),\n",
       " ('img_d412884_unalt.tif', 'iPhone-6'),\n",
       " ('img_5d5c13d_unalt.tif', 'iPhone-6'),\n",
       " ('img_f31d192_unalt.tif', 'iPhone-6'),\n",
       " ('img_07dac13_unalt.tif', 'iPhone-6'),\n",
       " ('img_3e0cb3e_unalt.tif', 'iPhone-6'),\n",
       " ('img_48cb356_unalt.tif', 'iPhone-6'),\n",
       " ('img_4c1389e_unalt.tif', 'iPhone-6'),\n",
       " ('img_9361da4_unalt.tif', 'iPhone-6'),\n",
       " ('img_b5b1d11_unalt.tif', 'iPhone-6'),\n",
       " ('img_ad43a84_unalt.tif', 'iPhone-6'),\n",
       " ('img_d88b033_unalt.tif', 'iPhone-6'),\n",
       " ('img_51ba796_unalt.tif', 'iPhone-6'),\n",
       " ('img_8f47028_unalt.tif', 'iPhone-6'),\n",
       " ('img_c8dc473_unalt.tif', 'iPhone-6'),\n",
       " ('img_421031a_unalt.tif', 'iPhone-6'),\n",
       " ('img_3b2076c_unalt.tif', 'iPhone-6'),\n",
       " ('img_9ef5b7d_unalt.tif', 'iPhone-6'),\n",
       " ('img_4c59e8e_unalt.tif', 'iPhone-6'),\n",
       " ('img_598c35e_unalt.tif', 'iPhone-6'),\n",
       " ('img_a07f0c2_unalt.tif', 'iPhone-6'),\n",
       " ('img_eda5cf0_unalt.tif', 'iPhone-6'),\n",
       " ('img_399525b_unalt.tif', 'iPhone-4s'),\n",
       " ('img_22f6746_unalt.tif', 'iPhone-4s'),\n",
       " ('img_25531fd_unalt.tif', 'iPhone-4s'),\n",
       " ('img_9267cc1_unalt.tif', 'iPhone-4s'),\n",
       " ('img_e842025_unalt.tif', 'iPhone-4s'),\n",
       " ('img_4490884_unalt.tif', 'iPhone-4s'),\n",
       " ('img_bb2a411_unalt.tif', 'iPhone-4s'),\n",
       " ('img_77cf751_unalt.tif', 'iPhone-4s'),\n",
       " ('img_12473ab_unalt.tif', 'iPhone-4s'),\n",
       " ('img_120115a_unalt.tif', 'iPhone-4s'),\n",
       " ('img_f3667f9_unalt.tif', 'iPhone-4s'),\n",
       " ('img_40f9ce5_unalt.tif', 'iPhone-4s'),\n",
       " ('img_08870e3_unalt.tif', 'iPhone-4s'),\n",
       " ('img_22132f6_unalt.tif', 'iPhone-4s'),\n",
       " ('img_62eb5b8_unalt.tif', 'iPhone-4s'),\n",
       " ('img_adfdd9a_unalt.tif', 'iPhone-4s'),\n",
       " ('img_0850041_unalt.tif', 'iPhone-4s'),\n",
       " ('img_b31dc3f_unalt.tif', 'iPhone-4s'),\n",
       " ('img_4033e43_unalt.tif', 'iPhone-4s'),\n",
       " ('img_176e031_unalt.tif', 'iPhone-4s'),\n",
       " ('img_1e47422_unalt.tif', 'iPhone-4s'),\n",
       " ('img_5df88bc_unalt.tif', 'iPhone-4s'),\n",
       " ('img_6a9cfae_unalt.tif', 'iPhone-4s'),\n",
       " ('img_e58a976_unalt.tif', 'iPhone-4s'),\n",
       " ('img_4af2b28_unalt.tif', 'iPhone-4s'),\n",
       " ('img_ebecf54_unalt.tif', 'iPhone-4s'),\n",
       " ('img_74cd4e6_unalt.tif', 'iPhone-4s'),\n",
       " ('img_a6b1c89_unalt.tif', 'iPhone-4s'),\n",
       " ('img_931d8c9_unalt.tif', 'iPhone-4s'),\n",
       " ('img_93424ae_unalt.tif', 'iPhone-4s'),\n",
       " ('img_6255cc1_unalt.tif', 'iPhone-4s'),\n",
       " ('img_e696ec1_unalt.tif', 'iPhone-4s'),\n",
       " ('img_94030f9_unalt.tif', 'iPhone-4s'),\n",
       " ('img_295b552_unalt.tif', 'iPhone-4s'),\n",
       " ('img_5dfc480_unalt.tif', 'iPhone-4s'),\n",
       " ('img_d822b16_unalt.tif', 'iPhone-4s'),\n",
       " ('img_370d93b_unalt.tif', 'iPhone-4s'),\n",
       " ('img_9fb1b20_unalt.tif', 'iPhone-4s'),\n",
       " ('img_b3fb9ff_unalt.tif', 'iPhone-4s'),\n",
       " ('img_65d4e62_unalt.tif', 'iPhone-4s'),\n",
       " ('img_5f26bac_unalt.tif', 'iPhone-4s'),\n",
       " ('img_82c565d_unalt.tif', 'iPhone-4s'),\n",
       " ('img_cb670fb_unalt.tif', 'iPhone-4s'),\n",
       " ('img_b5e2e4a_unalt.tif', 'iPhone-4s'),\n",
       " ('img_0d14e4e_unalt.tif', 'iPhone-4s'),\n",
       " ('img_06a8da2_unalt.tif', 'iPhone-4s'),\n",
       " ('img_db9ca3c_unalt.tif', 'iPhone-4s'),\n",
       " ('img_b3de99a_unalt.tif', 'iPhone-4s'),\n",
       " ('img_7d612f3_unalt.tif', 'iPhone-4s'),\n",
       " ('img_a569094_unalt.tif', 'iPhone-4s'),\n",
       " ('img_d992917_unalt.tif', 'iPhone-4s'),\n",
       " ('img_4496408_unalt.tif', 'iPhone-4s'),\n",
       " ('img_bcf5cbc_unalt.tif', 'iPhone-4s'),\n",
       " ('img_f979bdf_unalt.tif', 'iPhone-4s'),\n",
       " ('img_b922ad2_unalt.tif', 'iPhone-4s'),\n",
       " ('img_468e132_unalt.tif', 'iPhone-4s'),\n",
       " ('img_ede3389_unalt.tif', 'iPhone-4s'),\n",
       " ('img_7ed2497_unalt.tif', 'iPhone-4s'),\n",
       " ('img_8378ed2_unalt.tif', 'iPhone-4s'),\n",
       " ('img_0f2f268_unalt.tif', 'iPhone-4s'),\n",
       " ('img_fc8a246_unalt.tif', 'iPhone-4s'),\n",
       " ('img_1effab4_unalt.tif', 'iPhone-4s'),\n",
       " ('img_602487a_unalt.tif', 'iPhone-4s'),\n",
       " ('img_4d7be4c_unalt.tif', 'iPhone-4s'),\n",
       " ('img_327b547_unalt.tif', 'iPhone-4s'),\n",
       " ('img_b9f2f43_unalt.tif', 'iPhone-4s'),\n",
       " ('img_2cdaf74_unalt.tif', 'iPhone-4s'),\n",
       " ('img_6dbd8db_unalt.tif', 'iPhone-4s'),\n",
       " ('img_de8fcdf_unalt.tif', 'iPhone-4s'),\n",
       " ('img_001e31c_unalt.tif', 'iPhone-4s'),\n",
       " ('img_40bb321_unalt.tif', 'iPhone-4s'),\n",
       " ('img_bcb116f_unalt.tif', 'iPhone-4s'),\n",
       " ('img_257371c_unalt.tif', 'iPhone-4s'),\n",
       " ('img_f2c1ae9_unalt.tif', 'iPhone-4s'),\n",
       " ('img_86e5604_unalt.tif', 'iPhone-4s'),\n",
       " ('img_a1e79e3_unalt.tif', 'iPhone-4s'),\n",
       " ('img_465c9f7_unalt.tif', 'iPhone-4s'),\n",
       " ('img_bdd0d6d_unalt.tif', 'iPhone-4s'),\n",
       " ('img_cdf07d5_unalt.tif', 'iPhone-4s'),\n",
       " ('img_f34deea_unalt.tif', 'iPhone-4s'),\n",
       " ('img_db3ab9e_unalt.tif', 'iPhone-4s'),\n",
       " ('img_1a733d8_unalt.tif', 'iPhone-4s'),\n",
       " ('img_d3f7ad6_unalt.tif', 'iPhone-4s'),\n",
       " ('img_90a147f_unalt.tif', 'iPhone-4s'),\n",
       " ('img_98a865f_unalt.tif', 'iPhone-4s'),\n",
       " ('img_c744059_unalt.tif', 'iPhone-4s'),\n",
       " ('img_1c2559f_unalt.tif', 'iPhone-4s'),\n",
       " ('img_32eb21e_unalt.tif', 'iPhone-4s'),\n",
       " ('img_b85a73b_unalt.tif', 'iPhone-4s'),\n",
       " ('img_0390cee_unalt.tif', 'iPhone-4s'),\n",
       " ('img_ef27891_unalt.tif', 'iPhone-4s'),\n",
       " ('img_54b1c14_unalt.tif', 'iPhone-4s'),\n",
       " ('img_d4ece46_unalt.tif', 'iPhone-4s'),\n",
       " ('img_d28252f_unalt.tif', 'iPhone-4s'),\n",
       " ('img_a5d4811_unalt.tif', 'iPhone-4s'),\n",
       " ('img_1ac7c07_unalt.tif', 'iPhone-4s'),\n",
       " ('img_0480de3_unalt.tif', 'iPhone-4s'),\n",
       " ('img_e232edd_unalt.tif', 'iPhone-4s'),\n",
       " ('img_f92ea00_unalt.tif', 'iPhone-4s'),\n",
       " ('img_724097e_unalt.tif', 'iPhone-4s'),\n",
       " ('img_f7be373_unalt.tif', 'iPhone-4s'),\n",
       " ('img_2c5d37f_unalt.tif', 'iPhone-4s'),\n",
       " ('img_f52c8a0_unalt.tif', 'iPhone-4s'),\n",
       " ('img_238f6d3_unalt.tif', 'iPhone-4s'),\n",
       " ('img_32a59c3_unalt.tif', 'iPhone-4s'),\n",
       " ('img_640ca38_unalt.tif', 'iPhone-4s'),\n",
       " ('img_f1aca0c_unalt.tif', 'iPhone-4s'),\n",
       " ('img_2be3b3c_unalt.tif', 'iPhone-4s'),\n",
       " ('img_7b460cd_unalt.tif', 'iPhone-4s'),\n",
       " ('img_f1888e4_unalt.tif', 'iPhone-4s'),\n",
       " ('img_b91c99b_unalt.tif', 'iPhone-4s'),\n",
       " ('img_c803bad_unalt.tif', 'iPhone-4s'),\n",
       " ('img_4c59f26_unalt.tif', 'iPhone-4s'),\n",
       " ('img_c2a0c84_unalt.tif', 'iPhone-4s'),\n",
       " ('img_626da37_unalt.tif', 'iPhone-4s'),\n",
       " ('img_a194a05_unalt.tif', 'iPhone-4s'),\n",
       " ('img_d06d147_unalt.tif', 'iPhone-4s'),\n",
       " ('img_57c05bf_unalt.tif', 'iPhone-4s'),\n",
       " ('img_9a69164_unalt.tif', 'iPhone-4s'),\n",
       " ('img_7331609_unalt.tif', 'iPhone-4s'),\n",
       " ('img_9146154_unalt.tif', 'iPhone-4s'),\n",
       " ('img_3544f50_unalt.tif', 'iPhone-4s'),\n",
       " ('img_d30e30f_unalt.tif', 'iPhone-4s'),\n",
       " ('img_e8a3dff_unalt.tif', 'iPhone-4s'),\n",
       " ('img_5d6f00b_unalt.tif', 'iPhone-4s'),\n",
       " ('img_0c6cd35_unalt.tif', 'iPhone-4s'),\n",
       " ('img_0875b1c_unalt.tif', 'iPhone-4s'),\n",
       " ('img_54cfa22_unalt.tif', 'iPhone-4s'),\n",
       " ('img_7eade12_unalt.tif', 'iPhone-4s'),\n",
       " ('img_b196e87_unalt.tif', 'iPhone-4s'),\n",
       " ('img_eee5932_unalt.tif', 'iPhone-4s'),\n",
       " ('img_8f87fe9_unalt.tif', 'iPhone-4s'),\n",
       " ('img_d203af2_unalt.tif', 'Sony-NEX-7'),\n",
       " ('img_735a44f_unalt.tif', 'Sony-NEX-7'),\n",
       " ('img_1302572_unalt.tif', 'Sony-NEX-7'),\n",
       " ('img_47485bf_unalt.tif', 'Sony-NEX-7'),\n",
       " ('img_6bfb6a2_unalt.tif', 'Sony-NEX-7'),\n",
       " ('img_07bb789_unalt.tif', 'Sony-NEX-7'),\n",
       " ('img_c836426_unalt.tif', 'Sony-NEX-7'),\n",
       " ('img_d05de1c_unalt.tif', 'Sony-NEX-7'),\n",
       " ('img_bcf5c6f_unalt.tif', 'Sony-NEX-7'),\n",
       " ('img_1d7cdb0_unalt.tif', 'Sony-NEX-7'),\n",
       " ('img_8cc06fa_unalt.tif', 'Sony-NEX-7'),\n",
       " ('img_c87297a_unalt.tif', 'Sony-NEX-7'),\n",
       " ('img_409318c_unalt.tif', 'Sony-NEX-7'),\n",
       " ('img_f0b5d66_unalt.tif', 'Sony-NEX-7'),\n",
       " ('img_8fee0e1_unalt.tif', 'Sony-NEX-7'),\n",
       " ('img_9064de4_unalt.tif', 'Sony-NEX-7'),\n",
       " ('img_48c08f4_unalt.tif', 'Sony-NEX-7'),\n",
       " ('img_051f3b7_unalt.tif', 'Sony-NEX-7'),\n",
       " ('img_3f316aa_unalt.tif', 'Sony-NEX-7'),\n",
       " ('img_f189989_unalt.tif', 'Sony-NEX-7'),\n",
       " ('img_0184cda_unalt.tif', 'Sony-NEX-7'),\n",
       " ('img_0f07b82_unalt.tif', 'Sony-NEX-7'),\n",
       " ('img_efa2a5e_unalt.tif', 'Sony-NEX-7'),\n",
       " ('img_45e47d2_unalt.tif', 'Sony-NEX-7'),\n",
       " ('img_67e9749_unalt.tif', 'Sony-NEX-7'),\n",
       " ('img_941c44c_unalt.tif', 'Sony-NEX-7'),\n",
       " ('img_cebf04b_unalt.tif', 'Sony-NEX-7'),\n",
       " ('img_d5cad73_unalt.tif', 'Sony-NEX-7'),\n",
       " ('img_c48749b_unalt.tif', 'Sony-NEX-7'),\n",
       " ('img_73e1bcf_unalt.tif', 'Sony-NEX-7'),\n",
       " ('img_dcd027b_unalt.tif', 'Sony-NEX-7'),\n",
       " ('img_67e563b_unalt.tif', 'Sony-NEX-7'),\n",
       " ('img_39b9a2f_unalt.tif', 'Sony-NEX-7'),\n",
       " ('img_80745a0_unalt.tif', 'Sony-NEX-7'),\n",
       " ('img_d85375a_unalt.tif', 'Sony-NEX-7'),\n",
       " ('img_8321414_unalt.tif', 'Sony-NEX-7'),\n",
       " ('img_90c8a1c_unalt.tif', 'Sony-NEX-7'),\n",
       " ('img_1e3967e_unalt.tif', 'Sony-NEX-7'),\n",
       " ('img_30f0954_unalt.tif', 'Sony-NEX-7'),\n",
       " ('img_25ee82d_unalt.tif', 'Sony-NEX-7'),\n",
       " ('img_110ff97_unalt.tif', 'Sony-NEX-7'),\n",
       " ('img_e0e2c63_unalt.tif', 'Sony-NEX-7'),\n",
       " ('img_b91337e_unalt.tif', 'Sony-NEX-7'),\n",
       " ('img_b98e63b_unalt.tif', 'Sony-NEX-7'),\n",
       " ('img_e214e17_unalt.tif', 'Sony-NEX-7'),\n",
       " ('img_3c69261_unalt.tif', 'Sony-NEX-7'),\n",
       " ('img_7de421f_unalt.tif', 'Sony-NEX-7'),\n",
       " ('img_ff56ac2_unalt.tif', 'Sony-NEX-7'),\n",
       " ('img_6ef0927_unalt.tif', 'Sony-NEX-7'),\n",
       " ('img_7866292_unalt.tif', 'Sony-NEX-7'),\n",
       " ('img_59922ce_unalt.tif', 'Sony-NEX-7'),\n",
       " ('img_b2fc8ee_unalt.tif', 'Sony-NEX-7'),\n",
       " ('img_4032813_unalt.tif', 'Sony-NEX-7'),\n",
       " ('img_491e0bd_unalt.tif', 'Sony-NEX-7'),\n",
       " ('img_fa66579_unalt.tif', 'Sony-NEX-7'),\n",
       " ('img_71fecb3_unalt.tif', 'Sony-NEX-7'),\n",
       " ('img_132c354_unalt.tif', 'Sony-NEX-7'),\n",
       " ('img_58702d7_unalt.tif', 'Sony-NEX-7'),\n",
       " ('img_eeae949_unalt.tif', 'Sony-NEX-7'),\n",
       " ('img_747a61a_unalt.tif', 'Sony-NEX-7'),\n",
       " ('img_12e67ff_unalt.tif', 'Sony-NEX-7'),\n",
       " ('img_f4aeab3_unalt.tif', 'Sony-NEX-7'),\n",
       " ('img_9967758_unalt.tif', 'Sony-NEX-7'),\n",
       " ('img_701a8b8_unalt.tif', 'Sony-NEX-7'),\n",
       " ('img_4e03326_unalt.tif', 'Sony-NEX-7'),\n",
       " ('img_67bf020_unalt.tif', 'Sony-NEX-7'),\n",
       " ('img_31af876_unalt.tif', 'Sony-NEX-7'),\n",
       " ('img_79ef85f_unalt.tif', 'Sony-NEX-7'),\n",
       " ('img_c187e32_unalt.tif', 'Sony-NEX-7'),\n",
       " ('img_bef22df_unalt.tif', 'Sony-NEX-7'),\n",
       " ('img_6acc79e_unalt.tif', 'Sony-NEX-7'),\n",
       " ('img_d65cc51_unalt.tif', 'Sony-NEX-7'),\n",
       " ('img_afee55f_unalt.tif', 'Sony-NEX-7'),\n",
       " ('img_19c4d8b_unalt.tif', 'Sony-NEX-7'),\n",
       " ('img_77a5cdc_unalt.tif', 'Sony-NEX-7'),\n",
       " ('img_4b95d25_unalt.tif', 'Sony-NEX-7'),\n",
       " ('img_080804b_unalt.tif', 'Sony-NEX-7'),\n",
       " ('img_dc2cbfa_unalt.tif', 'Sony-NEX-7'),\n",
       " ('img_8b294bf_unalt.tif', 'Sony-NEX-7'),\n",
       " ('img_21903dc_unalt.tif', 'Sony-NEX-7'),\n",
       " ('img_b01b95d_unalt.tif', 'Sony-NEX-7'),\n",
       " ('img_2788524_unalt.tif', 'Sony-NEX-7'),\n",
       " ('img_416f612_unalt.tif', 'Sony-NEX-7'),\n",
       " ('img_510d5b7_unalt.tif', 'Sony-NEX-7'),\n",
       " ('img_0ef0944_unalt.tif', 'Sony-NEX-7'),\n",
       " ('img_9a470df_unalt.tif', 'Sony-NEX-7'),\n",
       " ('img_e847214_unalt.tif', 'Sony-NEX-7'),\n",
       " ('img_a3a6525_unalt.tif', 'Sony-NEX-7'),\n",
       " ('img_36b9e90_unalt.tif', 'Sony-NEX-7'),\n",
       " ('img_c4c9bc7_unalt.tif', 'Sony-NEX-7'),\n",
       " ('img_c72eb3d_unalt.tif', 'Sony-NEX-7'),\n",
       " ('img_67433aa_unalt.tif', 'Sony-NEX-7'),\n",
       " ('img_3399d35_unalt.tif', 'Sony-NEX-7'),\n",
       " ('img_77b1f3d_unalt.tif', 'Sony-NEX-7'),\n",
       " ('img_dd755d6_unalt.tif', 'Sony-NEX-7'),\n",
       " ('img_5898227_unalt.tif', 'Sony-NEX-7'),\n",
       " ('img_ad8f4fa_unalt.tif', 'Sony-NEX-7'),\n",
       " ('img_cfeded2_unalt.tif', 'Sony-NEX-7'),\n",
       " ('img_a422956_unalt.tif', 'Sony-NEX-7'),\n",
       " ('img_a99a7c6_unalt.tif', 'Sony-NEX-7'),\n",
       " ('img_90afa9d_unalt.tif', 'Sony-NEX-7'),\n",
       " ('img_b94d78b_unalt.tif', 'Sony-NEX-7'),\n",
       " ('img_4a5553c_unalt.tif', 'Sony-NEX-7'),\n",
       " ('img_903c1f0_unalt.tif', 'Sony-NEX-7'),\n",
       " ('img_0f78004_unalt.tif', 'Sony-NEX-7'),\n",
       " ('img_2fe9c34_unalt.tif', 'Sony-NEX-7'),\n",
       " ('img_7f4c3fa_unalt.tif', 'Sony-NEX-7'),\n",
       " ('img_8f54a97_unalt.tif', 'Sony-NEX-7'),\n",
       " ('img_05eb1a4_unalt.tif', 'Sony-NEX-7'),\n",
       " ('img_e7a0a1a_unalt.tif', 'Sony-NEX-7'),\n",
       " ('img_b0fb1b8_unalt.tif', 'Sony-NEX-7'),\n",
       " ('img_308a4ca_unalt.tif', 'Sony-NEX-7'),\n",
       " ('img_e8d619d_unalt.tif', 'Sony-NEX-7'),\n",
       " ('img_645b529_unalt.tif', 'Sony-NEX-7'),\n",
       " ('img_7a0dcab_unalt.tif', 'Sony-NEX-7'),\n",
       " ('img_3fc80a6_unalt.tif', 'Sony-NEX-7'),\n",
       " ('img_a3a2eb2_unalt.tif', 'Sony-NEX-7'),\n",
       " ('img_8a9d872_unalt.tif', 'Sony-NEX-7'),\n",
       " ('img_ebd4a05_unalt.tif', 'Sony-NEX-7'),\n",
       " ('img_d312244_unalt.tif', 'Sony-NEX-7'),\n",
       " ('img_5840fa2_unalt.tif', 'Sony-NEX-7'),\n",
       " ('img_9e905f5_unalt.tif', 'Sony-NEX-7'),\n",
       " ('img_ed27cd5_unalt.tif', 'Sony-NEX-7'),\n",
       " ('img_5b2f4fd_unalt.tif', 'Sony-NEX-7'),\n",
       " ('img_4ef67b5_unalt.tif', 'Sony-NEX-7'),\n",
       " ('img_d53c18e_unalt.tif', 'Sony-NEX-7'),\n",
       " ('img_a380ee9_unalt.tif', 'Sony-NEX-7'),\n",
       " ('img_668b86f_unalt.tif', 'Sony-NEX-7'),\n",
       " ('img_4855385_unalt.tif', 'Sony-NEX-7'),\n",
       " ('img_dfccb89_unalt.tif', 'Sony-NEX-7'),\n",
       " ('img_3c19077_unalt.tif', 'Sony-NEX-7'),\n",
       " ('img_c1bf475_unalt.tif', 'Sony-NEX-7'),\n",
       " ('img_b9d156a_unalt.tif', 'Samsung-Galaxy-S4'),\n",
       " ('img_c0a0d4e_unalt.tif', 'Samsung-Galaxy-S4'),\n",
       " ('img_cada90d_unalt.tif', 'Samsung-Galaxy-S4'),\n",
       " ('img_62d63cd_unalt.tif', 'Samsung-Galaxy-S4'),\n",
       " ('img_5494acb_unalt.tif', 'Samsung-Galaxy-S4'),\n",
       " ('img_0616e78_unalt.tif', 'Samsung-Galaxy-S4'),\n",
       " ('img_1420620_unalt.tif', 'Samsung-Galaxy-S4'),\n",
       " ('img_0eda398_unalt.tif', 'Samsung-Galaxy-S4'),\n",
       " ('img_7f420bc_unalt.tif', 'Samsung-Galaxy-S4'),\n",
       " ('img_04381dd_unalt.tif', 'Samsung-Galaxy-S4'),\n",
       " ('img_ffaeda7_unalt.tif', 'Samsung-Galaxy-S4'),\n",
       " ('img_1aeb3c7_unalt.tif', 'Samsung-Galaxy-S4'),\n",
       " ('img_39d39a3_unalt.tif', 'Samsung-Galaxy-S4'),\n",
       " ('img_e062259_unalt.tif', 'Samsung-Galaxy-S4'),\n",
       " ('img_7fe597b_unalt.tif', 'Samsung-Galaxy-S4'),\n",
       " ('img_261035b_unalt.tif', 'Samsung-Galaxy-S4'),\n",
       " ('img_ba86db2_unalt.tif', 'Samsung-Galaxy-S4'),\n",
       " ('img_807dd65_unalt.tif', 'Samsung-Galaxy-S4'),\n",
       " ('img_a219653_unalt.tif', 'Samsung-Galaxy-S4'),\n",
       " ('img_7089f5e_unalt.tif', 'Samsung-Galaxy-S4'),\n",
       " ('img_9f4ea81_unalt.tif', 'Samsung-Galaxy-S4'),\n",
       " ('img_cb72955_unalt.tif', 'Samsung-Galaxy-S4'),\n",
       " ('img_43c69c6_unalt.tif', 'Samsung-Galaxy-S4'),\n",
       " ('img_7ef15c1_unalt.tif', 'Samsung-Galaxy-S4'),\n",
       " ('img_6481076_unalt.tif', 'Samsung-Galaxy-S4'),\n",
       " ('img_b6ff3eb_unalt.tif', 'Samsung-Galaxy-S4'),\n",
       " ('img_187b4cb_unalt.tif', 'Samsung-Galaxy-S4'),\n",
       " ('img_c364183_unalt.tif', 'Samsung-Galaxy-S4'),\n",
       " ('img_f85eb1b_unalt.tif', 'Samsung-Galaxy-S4'),\n",
       " ('img_90a6d3d_unalt.tif', 'Samsung-Galaxy-S4'),\n",
       " ('img_f485b4f_unalt.tif', 'Samsung-Galaxy-S4'),\n",
       " ('img_8af484c_unalt.tif', 'Samsung-Galaxy-S4'),\n",
       " ('img_26b6be2_unalt.tif', 'Samsung-Galaxy-S4'),\n",
       " ('img_77d7bd7_unalt.tif', 'Samsung-Galaxy-S4'),\n",
       " ('img_3043507_unalt.tif', 'Samsung-Galaxy-S4'),\n",
       " ('img_0bdb428_unalt.tif', 'Samsung-Galaxy-S4'),\n",
       " ('img_749a6e2_unalt.tif', 'Samsung-Galaxy-S4'),\n",
       " ('img_3a7133e_unalt.tif', 'Samsung-Galaxy-S4'),\n",
       " ('img_0c5bfb7_unalt.tif', 'Samsung-Galaxy-S4'),\n",
       " ('img_623574a_unalt.tif', 'Samsung-Galaxy-S4'),\n",
       " ('img_6512040_unalt.tif', 'Samsung-Galaxy-S4'),\n",
       " ('img_2e286be_unalt.tif', 'Samsung-Galaxy-S4'),\n",
       " ('img_6a2ea5e_unalt.tif', 'Samsung-Galaxy-S4'),\n",
       " ('img_bcf904a_unalt.tif', 'Samsung-Galaxy-S4'),\n",
       " ('img_b303777_unalt.tif', 'Samsung-Galaxy-S4'),\n",
       " ('img_2cdfd34_unalt.tif', 'Samsung-Galaxy-S4'),\n",
       " ('img_cb4fdf8_unalt.tif', 'Samsung-Galaxy-S4'),\n",
       " ('img_95b66da_unalt.tif', 'Samsung-Galaxy-S4'),\n",
       " ('img_d437a20_unalt.tif', 'Samsung-Galaxy-S4'),\n",
       " ('img_ca2e000_unalt.tif', 'Samsung-Galaxy-S4'),\n",
       " ('img_2b9d303_unalt.tif', 'Samsung-Galaxy-S4'),\n",
       " ('img_4606fed_unalt.tif', 'Samsung-Galaxy-S4'),\n",
       " ('img_12bea67_unalt.tif', 'Samsung-Galaxy-S4'),\n",
       " ('img_b32698f_unalt.tif', 'Samsung-Galaxy-S4'),\n",
       " ('img_0034113_unalt.tif', 'Samsung-Galaxy-S4'),\n",
       " ('img_ecfca2e_unalt.tif', 'Samsung-Galaxy-S4'),\n",
       " ('img_69ca4f3_unalt.tif', 'Samsung-Galaxy-S4'),\n",
       " ('img_2afa619_unalt.tif', 'Samsung-Galaxy-S4'),\n",
       " ('img_5aeeca9_unalt.tif', 'Samsung-Galaxy-S4'),\n",
       " ('img_16eedad_unalt.tif', 'Samsung-Galaxy-S4'),\n",
       " ('img_8931e46_unalt.tif', 'Samsung-Galaxy-S4'),\n",
       " ('img_f68e6ca_unalt.tif', 'Samsung-Galaxy-S4'),\n",
       " ('img_c0b98fd_unalt.tif', 'Samsung-Galaxy-S4'),\n",
       " ('img_d73c40d_unalt.tif', 'Samsung-Galaxy-S4'),\n",
       " ('img_dfcac07_unalt.tif', 'Samsung-Galaxy-S4'),\n",
       " ('img_18a2de4_unalt.tif', 'Samsung-Galaxy-S4'),\n",
       " ('img_1bb37f3_unalt.tif', 'Samsung-Galaxy-S4'),\n",
       " ('img_d4ee169_unalt.tif', 'Samsung-Galaxy-S4'),\n",
       " ('img_b2e6733_unalt.tif', 'Samsung-Galaxy-S4'),\n",
       " ('img_91d5d77_unalt.tif', 'Samsung-Galaxy-S4'),\n",
       " ('img_748b698_unalt.tif', 'Samsung-Galaxy-S4'),\n",
       " ('img_0e1d30e_unalt.tif', 'Samsung-Galaxy-S4'),\n",
       " ('img_fb0ecd8_unalt.tif', 'Samsung-Galaxy-S4'),\n",
       " ('img_66c20ae_unalt.tif', 'Samsung-Galaxy-S4'),\n",
       " ('img_d1bda64_unalt.tif', 'Samsung-Galaxy-S4'),\n",
       " ('img_b48511b_unalt.tif', 'Samsung-Galaxy-S4'),\n",
       " ('img_2b0406c_unalt.tif', 'Samsung-Galaxy-S4'),\n",
       " ('img_df3c9d3_unalt.tif', 'Samsung-Galaxy-S4'),\n",
       " ('img_809c0ad_unalt.tif', 'Samsung-Galaxy-S4'),\n",
       " ('img_871046f_unalt.tif', 'Samsung-Galaxy-S4'),\n",
       " ('img_dbf9e11_unalt.tif', 'Samsung-Galaxy-S4'),\n",
       " ('img_1190aa2_unalt.tif', 'Samsung-Galaxy-S4'),\n",
       " ('img_969c428_unalt.tif', 'Samsung-Galaxy-S4'),\n",
       " ('img_8ddac7c_unalt.tif', 'Samsung-Galaxy-S4'),\n",
       " ('img_f790588_unalt.tif', 'Samsung-Galaxy-S4'),\n",
       " ('img_854ddc5_unalt.tif', 'Samsung-Galaxy-S4'),\n",
       " ('img_5e860ef_unalt.tif', 'Samsung-Galaxy-S4'),\n",
       " ('img_d6f25f7_unalt.tif', 'Samsung-Galaxy-S4'),\n",
       " ('img_119100d_unalt.tif', 'Samsung-Galaxy-S4'),\n",
       " ('img_4f13d10_unalt.tif', 'Samsung-Galaxy-S4'),\n",
       " ('img_78f3a46_unalt.tif', 'Samsung-Galaxy-S4'),\n",
       " ('img_c692fb6_unalt.tif', 'Samsung-Galaxy-S4'),\n",
       " ('img_8bbf030_unalt.tif', 'Samsung-Galaxy-S4'),\n",
       " ('img_f566c6b_unalt.tif', 'Samsung-Galaxy-S4'),\n",
       " ('img_753fa7a_unalt.tif', 'Samsung-Galaxy-S4'),\n",
       " ('img_136bf22_unalt.tif', 'Samsung-Galaxy-S4'),\n",
       " ('img_53bbd9f_unalt.tif', 'Samsung-Galaxy-S4'),\n",
       " ('img_995c731_unalt.tif', 'Samsung-Galaxy-S4'),\n",
       " ('img_86830c9_unalt.tif', 'Samsung-Galaxy-S4'),\n",
       " ('img_97c2c58_unalt.tif', 'Samsung-Galaxy-S4'),\n",
       " ('img_d68b4b5_unalt.tif', 'Samsung-Galaxy-S4'),\n",
       " ('img_0abb191_unalt.tif', 'Samsung-Galaxy-S4'),\n",
       " ('img_633bcf2_unalt.tif', 'Samsung-Galaxy-S4'),\n",
       " ('img_94a5336_unalt.tif', 'Samsung-Galaxy-S4'),\n",
       " ('img_f0b1c9c_unalt.tif', 'Samsung-Galaxy-S4'),\n",
       " ('img_592f4e4_unalt.tif', 'Samsung-Galaxy-S4'),\n",
       " ('img_5cdda0c_unalt.tif', 'Samsung-Galaxy-S4'),\n",
       " ('img_6af5f78_unalt.tif', 'Samsung-Galaxy-S4'),\n",
       " ('img_1b3af7a_unalt.tif', 'Samsung-Galaxy-S4'),\n",
       " ('img_b1a68ab_unalt.tif', 'Samsung-Galaxy-S4'),\n",
       " ('img_8e679c1_unalt.tif', 'Samsung-Galaxy-S4'),\n",
       " ('img_717e046_unalt.tif', 'Samsung-Galaxy-S4'),\n",
       " ('img_fe9e4df_unalt.tif', 'Samsung-Galaxy-S4'),\n",
       " ('img_35ff702_unalt.tif', 'Samsung-Galaxy-S4'),\n",
       " ('img_9a81512_unalt.tif', 'Samsung-Galaxy-S4'),\n",
       " ('img_eaa00bc_unalt.tif', 'Samsung-Galaxy-S4'),\n",
       " ('img_168ba9c_unalt.tif', 'Samsung-Galaxy-S4'),\n",
       " ('img_4955956_unalt.tif', 'Samsung-Galaxy-S4'),\n",
       " ('img_1c16729_unalt.tif', 'Samsung-Galaxy-S4'),\n",
       " ('img_226f1a8_unalt.tif', 'Samsung-Galaxy-S4'),\n",
       " ('img_aa39291_unalt.tif', 'Samsung-Galaxy-S4'),\n",
       " ('img_4248d73_unalt.tif', 'Samsung-Galaxy-S4'),\n",
       " ('img_bc528bb_unalt.tif', 'Samsung-Galaxy-S4'),\n",
       " ('img_6470813_unalt.tif', 'Samsung-Galaxy-S4'),\n",
       " ('img_26e435d_unalt.tif', 'Samsung-Galaxy-S4'),\n",
       " ('img_41bfd02_unalt.tif', 'Samsung-Galaxy-S4'),\n",
       " ('img_f2b9803_unalt.tif', 'Samsung-Galaxy-S4'),\n",
       " ('img_19d0db1_unalt.tif', 'Samsung-Galaxy-S4'),\n",
       " ('img_472c64b_unalt.tif', 'Samsung-Galaxy-S4'),\n",
       " ('img_68ab698_unalt.tif', 'Samsung-Galaxy-S4'),\n",
       " ('img_820daf3_unalt.tif', 'Samsung-Galaxy-S4'),\n",
       " ('img_7dbc0cf_unalt.tif', 'Samsung-Galaxy-Note3'),\n",
       " ('img_015b5e1_unalt.tif', 'Samsung-Galaxy-Note3'),\n",
       " ('img_f661fad_unalt.tif', 'Samsung-Galaxy-Note3'),\n",
       " ('img_6a31fd7_unalt.tif', 'Samsung-Galaxy-Note3'),\n",
       " ('img_1f15e74_unalt.tif', 'Samsung-Galaxy-Note3'),\n",
       " ('img_e8a6683_unalt.tif', 'Samsung-Galaxy-Note3'),\n",
       " ('img_4215e85_unalt.tif', 'Samsung-Galaxy-Note3'),\n",
       " ('img_9d210c5_unalt.tif', 'Samsung-Galaxy-Note3'),\n",
       " ('img_5fc0927_unalt.tif', 'Samsung-Galaxy-Note3'),\n",
       " ('img_225ac71_unalt.tif', 'Samsung-Galaxy-Note3'),\n",
       " ('img_0456ffb_unalt.tif', 'Samsung-Galaxy-Note3'),\n",
       " ('img_a702137_unalt.tif', 'Samsung-Galaxy-Note3'),\n",
       " ('img_3acc6b6_unalt.tif', 'Samsung-Galaxy-Note3'),\n",
       " ('img_7adf5fb_unalt.tif', 'Samsung-Galaxy-Note3'),\n",
       " ('img_1db9df3_unalt.tif', 'Samsung-Galaxy-Note3'),\n",
       " ('img_aad6334_unalt.tif', 'Samsung-Galaxy-Note3'),\n",
       " ('img_6101a95_unalt.tif', 'Samsung-Galaxy-Note3'),\n",
       " ('img_f69fb97_unalt.tif', 'Samsung-Galaxy-Note3'),\n",
       " ('img_43b16e2_unalt.tif', 'Samsung-Galaxy-Note3'),\n",
       " ('img_2d8e9dd_unalt.tif', 'Samsung-Galaxy-Note3'),\n",
       " ('img_490b339_unalt.tif', 'Samsung-Galaxy-Note3'),\n",
       " ('img_2b4e0b1_unalt.tif', 'Samsung-Galaxy-Note3'),\n",
       " ('img_668e4f6_unalt.tif', 'Samsung-Galaxy-Note3'),\n",
       " ('img_9598ec7_unalt.tif', 'Samsung-Galaxy-Note3'),\n",
       " ('img_c2ba760_unalt.tif', 'Samsung-Galaxy-Note3'),\n",
       " ('img_8fe8211_unalt.tif', 'Samsung-Galaxy-Note3'),\n",
       " ('img_f6b9240_unalt.tif', 'Samsung-Galaxy-Note3'),\n",
       " ('img_141c6fd_unalt.tif', 'Samsung-Galaxy-Note3'),\n",
       " ('img_d7c7212_unalt.tif', 'Samsung-Galaxy-Note3'),\n",
       " ('img_b4ea8ee_unalt.tif', 'Samsung-Galaxy-Note3'),\n",
       " ('img_19fee30_unalt.tif', 'Samsung-Galaxy-Note3'),\n",
       " ('img_b19149c_unalt.tif', 'Samsung-Galaxy-Note3'),\n",
       " ('img_065a534_unalt.tif', 'Samsung-Galaxy-Note3'),\n",
       " ('img_dfe2440_unalt.tif', 'Samsung-Galaxy-Note3'),\n",
       " ('img_2349ce7_unalt.tif', 'Samsung-Galaxy-Note3'),\n",
       " ('img_cba1c42_unalt.tif', 'Samsung-Galaxy-Note3'),\n",
       " ('img_1d31615_unalt.tif', 'Samsung-Galaxy-Note3'),\n",
       " ('img_47baf77_unalt.tif', 'Samsung-Galaxy-Note3'),\n",
       " ('img_0513d3f_unalt.tif', 'Samsung-Galaxy-Note3'),\n",
       " ('img_f3ae5ea_unalt.tif', 'Samsung-Galaxy-Note3'),\n",
       " ('img_7c11076_unalt.tif', 'Samsung-Galaxy-Note3'),\n",
       " ('img_c9c8ea4_unalt.tif', 'Samsung-Galaxy-Note3'),\n",
       " ('img_9530795_unalt.tif', 'Samsung-Galaxy-Note3'),\n",
       " ('img_77baa1b_unalt.tif', 'Samsung-Galaxy-Note3'),\n",
       " ('img_19d1275_unalt.tif', 'Samsung-Galaxy-Note3'),\n",
       " ('img_1c743ca_unalt.tif', 'Samsung-Galaxy-Note3'),\n",
       " ('img_bb333fe_unalt.tif', 'Samsung-Galaxy-Note3'),\n",
       " ('img_baaf8f3_unalt.tif', 'Samsung-Galaxy-Note3'),\n",
       " ('img_e8e518a_unalt.tif', 'Samsung-Galaxy-Note3'),\n",
       " ('img_130299d_unalt.tif', 'Samsung-Galaxy-Note3'),\n",
       " ('img_199aab3_unalt.tif', 'Samsung-Galaxy-Note3'),\n",
       " ('img_b9b01bd_unalt.tif', 'Samsung-Galaxy-Note3'),\n",
       " ('img_dfa3b55_unalt.tif', 'Samsung-Galaxy-Note3'),\n",
       " ('img_ae105b4_unalt.tif', 'Samsung-Galaxy-Note3'),\n",
       " ('img_2413656_unalt.tif', 'Samsung-Galaxy-Note3'),\n",
       " ('img_0211120_unalt.tif', 'Samsung-Galaxy-Note3'),\n",
       " ('img_3c5cfa3_unalt.tif', 'Samsung-Galaxy-Note3'),\n",
       " ('img_1529b7a_unalt.tif', 'Samsung-Galaxy-Note3'),\n",
       " ('img_59a491e_unalt.tif', 'Samsung-Galaxy-Note3'),\n",
       " ('img_b38df95_unalt.tif', 'Samsung-Galaxy-Note3'),\n",
       " ('img_1c55391_unalt.tif', 'Samsung-Galaxy-Note3'),\n",
       " ('img_894e7fa_unalt.tif', 'Samsung-Galaxy-Note3'),\n",
       " ('img_9138879_unalt.tif', 'Samsung-Galaxy-Note3'),\n",
       " ('img_aafe00b_unalt.tif', 'Samsung-Galaxy-Note3'),\n",
       " ('img_64a4b04_unalt.tif', 'Samsung-Galaxy-Note3'),\n",
       " ('img_0ba3d8f_unalt.tif', 'Samsung-Galaxy-Note3'),\n",
       " ('img_9342b15_unalt.tif', 'Samsung-Galaxy-Note3'),\n",
       " ('img_234a539_unalt.tif', 'Samsung-Galaxy-Note3'),\n",
       " ('img_fa785d6_unalt.tif', 'Samsung-Galaxy-Note3'),\n",
       " ('img_c0b8ce5_unalt.tif', 'Samsung-Galaxy-Note3'),\n",
       " ('img_2413844_unalt.tif', 'Samsung-Galaxy-Note3'),\n",
       " ('img_5d24f2c_unalt.tif', 'Samsung-Galaxy-Note3'),\n",
       " ('img_dc32829_unalt.tif', 'Samsung-Galaxy-Note3'),\n",
       " ('img_43bd209_unalt.tif', 'Samsung-Galaxy-Note3'),\n",
       " ('img_b9687df_unalt.tif', 'Samsung-Galaxy-Note3'),\n",
       " ('img_bff0c88_unalt.tif', 'Samsung-Galaxy-Note3'),\n",
       " ('img_06435c8_unalt.tif', 'Samsung-Galaxy-Note3'),\n",
       " ('img_6c63464_unalt.tif', 'Samsung-Galaxy-Note3'),\n",
       " ('img_1af3026_unalt.tif', 'Samsung-Galaxy-Note3'),\n",
       " ('img_717c083_unalt.tif', 'Samsung-Galaxy-Note3'),\n",
       " ('img_a730c21_unalt.tif', 'Samsung-Galaxy-Note3'),\n",
       " ('img_3ff65f6_unalt.tif', 'Samsung-Galaxy-Note3'),\n",
       " ('img_7c6f914_unalt.tif', 'Samsung-Galaxy-Note3'),\n",
       " ('img_39b83c1_unalt.tif', 'Samsung-Galaxy-Note3'),\n",
       " ('img_9abfbfc_unalt.tif', 'Samsung-Galaxy-Note3'),\n",
       " ('img_75e5bca_unalt.tif', 'Samsung-Galaxy-Note3'),\n",
       " ('img_27e1c11_unalt.tif', 'Samsung-Galaxy-Note3'),\n",
       " ('img_7fece20_unalt.tif', 'Samsung-Galaxy-Note3'),\n",
       " ('img_2da6cd2_unalt.tif', 'Samsung-Galaxy-Note3'),\n",
       " ('img_429e08a_unalt.tif', 'Samsung-Galaxy-Note3'),\n",
       " ('img_7c1db75_unalt.tif', 'Samsung-Galaxy-Note3'),\n",
       " ('img_d49253d_unalt.tif', 'Samsung-Galaxy-Note3'),\n",
       " ('img_3ef615a_unalt.tif', 'Samsung-Galaxy-Note3'),\n",
       " ('img_bcc98af_unalt.tif', 'Samsung-Galaxy-Note3'),\n",
       " ('img_3d17851_unalt.tif', 'Samsung-Galaxy-Note3'),\n",
       " ('img_010d9d4_unalt.tif', 'Samsung-Galaxy-Note3'),\n",
       " ('img_0d1b441_unalt.tif', 'Samsung-Galaxy-Note3'),\n",
       " ('img_8408e35_unalt.tif', 'Samsung-Galaxy-Note3'),\n",
       " ('img_850c950_unalt.tif', 'Samsung-Galaxy-Note3'),\n",
       " ('img_86c4ef9_unalt.tif', 'Samsung-Galaxy-Note3'),\n",
       " ('img_802ad25_unalt.tif', 'Samsung-Galaxy-Note3'),\n",
       " ('img_c4c1f59_unalt.tif', 'Samsung-Galaxy-Note3'),\n",
       " ('img_2bc4c60_unalt.tif', 'Samsung-Galaxy-Note3'),\n",
       " ('img_19bb1cc_unalt.tif', 'Samsung-Galaxy-Note3'),\n",
       " ('img_2839a69_unalt.tif', 'Samsung-Galaxy-Note3'),\n",
       " ('img_4501bc4_unalt.tif', 'Samsung-Galaxy-Note3'),\n",
       " ('img_32eed6c_unalt.tif', 'Samsung-Galaxy-Note3'),\n",
       " ('img_ba346d8_unalt.tif', 'Samsung-Galaxy-Note3'),\n",
       " ('img_257a93b_unalt.tif', 'Samsung-Galaxy-Note3'),\n",
       " ('img_a783b9b_unalt.tif', 'Samsung-Galaxy-Note3'),\n",
       " ('img_6673921_unalt.tif', 'Samsung-Galaxy-Note3'),\n",
       " ('img_ef771f0_unalt.tif', 'Samsung-Galaxy-Note3'),\n",
       " ('img_ad9e458_unalt.tif', 'Samsung-Galaxy-Note3'),\n",
       " ('img_c802110_unalt.tif', 'Samsung-Galaxy-Note3'),\n",
       " ('img_e24f52d_unalt.tif', 'Samsung-Galaxy-Note3'),\n",
       " ('img_d0fff74_unalt.tif', 'Samsung-Galaxy-Note3'),\n",
       " ('img_113ace5_unalt.tif', 'Samsung-Galaxy-Note3'),\n",
       " ('img_5294c7c_unalt.tif', 'Samsung-Galaxy-Note3'),\n",
       " ('img_837e606_unalt.tif', 'Samsung-Galaxy-Note3'),\n",
       " ('img_86a67fd_unalt.tif', 'Samsung-Galaxy-Note3'),\n",
       " ('img_f8dba15_unalt.tif', 'Samsung-Galaxy-Note3'),\n",
       " ('img_51653ed_unalt.tif', 'Samsung-Galaxy-Note3'),\n",
       " ('img_6d10735_unalt.tif', 'Samsung-Galaxy-Note3'),\n",
       " ('img_82252e8_unalt.tif', 'Samsung-Galaxy-Note3'),\n",
       " ('img_65524a5_unalt.tif', 'Samsung-Galaxy-Note3'),\n",
       " ('img_f29f2a4_unalt.tif', 'Samsung-Galaxy-Note3'),\n",
       " ('img_ba6e34f_unalt.tif', 'Samsung-Galaxy-Note3'),\n",
       " ('img_a95460a_unalt.tif', 'Samsung-Galaxy-Note3'),\n",
       " ('img_c278264_unalt.tif', 'Samsung-Galaxy-Note3'),\n",
       " ('img_d0e2006_unalt.tif', 'Samsung-Galaxy-Note3'),\n",
       " ('img_3602bb7_unalt.tif', 'Samsung-Galaxy-Note3'),\n",
       " ('img_ac76ec7_unalt.tif', 'Samsung-Galaxy-Note3'),\n",
       " ('img_f39574d_unalt.tif', 'Motorola-X'),\n",
       " ('img_7896652_unalt.tif', 'Motorola-X'),\n",
       " ('img_3d03fd9_unalt.tif', 'Motorola-X'),\n",
       " ('img_621a6a6_unalt.tif', 'Motorola-X'),\n",
       " ('img_8503999_unalt.tif', 'Motorola-X'),\n",
       " ('img_ed3cb54_unalt.tif', 'Motorola-X'),\n",
       " ('img_27b59fc_unalt.tif', 'Motorola-X'),\n",
       " ('img_13da69c_unalt.tif', 'Motorola-X'),\n",
       " ('img_a7183bd_unalt.tif', 'Motorola-X'),\n",
       " ('img_7f243ee_unalt.tif', 'Motorola-X'),\n",
       " ('img_3e55c2b_unalt.tif', 'Motorola-X'),\n",
       " ('img_16853bb_unalt.tif', 'Motorola-X'),\n",
       " ('img_1455ce4_unalt.tif', 'Motorola-X'),\n",
       " ('img_4439aa3_unalt.tif', 'Motorola-X'),\n",
       " ('img_131f755_unalt.tif', 'Motorola-X'),\n",
       " ('img_56cc10a_unalt.tif', 'Motorola-X'),\n",
       " ('img_ce4e2f6_unalt.tif', 'Motorola-X'),\n",
       " ('img_76b9eed_unalt.tif', 'Motorola-X'),\n",
       " ('img_1a679e8_unalt.tif', 'Motorola-X'),\n",
       " ('img_ab25529_unalt.tif', 'Motorola-X'),\n",
       " ('img_227e06e_unalt.tif', 'Motorola-X'),\n",
       " ('img_f9a02ba_unalt.tif', 'Motorola-X'),\n",
       " ('img_5a4e621_unalt.tif', 'Motorola-X'),\n",
       " ('img_d6db46a_unalt.tif', 'Motorola-X'),\n",
       " ('img_9235d70_unalt.tif', 'Motorola-X'),\n",
       " ('img_a7cf8cb_unalt.tif', 'Motorola-X'),\n",
       " ('img_1e69b75_unalt.tif', 'Motorola-X'),\n",
       " ('img_3a0d006_unalt.tif', 'Motorola-X'),\n",
       " ('img_878e802_unalt.tif', 'Motorola-X'),\n",
       " ('img_bb4a7dc_unalt.tif', 'Motorola-X'),\n",
       " ('img_c50723a_unalt.tif', 'Motorola-X'),\n",
       " ('img_c4e8046_unalt.tif', 'Motorola-X'),\n",
       " ('img_8b9fff1_unalt.tif', 'Motorola-X'),\n",
       " ('img_d3581c2_unalt.tif', 'Motorola-X'),\n",
       " ('img_16a2cf4_unalt.tif', 'Motorola-X'),\n",
       " ('img_6556ce9_unalt.tif', 'Motorola-X'),\n",
       " ('img_d9a6573_unalt.tif', 'Motorola-X'),\n",
       " ('img_ab86fa3_unalt.tif', 'Motorola-X'),\n",
       " ('img_f0be630_unalt.tif', 'Motorola-X'),\n",
       " ('img_e0cd131_unalt.tif', 'Motorola-X'),\n",
       " ('img_6b1840d_unalt.tif', 'Motorola-X'),\n",
       " ('img_7571fef_unalt.tif', 'Motorola-X'),\n",
       " ('img_d8df827_unalt.tif', 'Motorola-X'),\n",
       " ('img_ee24fe4_unalt.tif', 'Motorola-X'),\n",
       " ('img_abbc58d_unalt.tif', 'Motorola-X'),\n",
       " ('img_fec0781_unalt.tif', 'Motorola-X'),\n",
       " ('img_15e8df3_unalt.tif', 'Motorola-X'),\n",
       " ('img_6e2bd5b_unalt.tif', 'Motorola-X'),\n",
       " ('img_5c095ac_unalt.tif', 'Motorola-X'),\n",
       " ('img_f8ab676_unalt.tif', 'Motorola-X'),\n",
       " ('img_ab9fc55_unalt.tif', 'Motorola-X'),\n",
       " ('img_d686a9b_unalt.tif', 'Motorola-X'),\n",
       " ('img_edc778c_unalt.tif', 'Motorola-X'),\n",
       " ('img_388b719_unalt.tif', 'Motorola-X'),\n",
       " ('img_4ae4dc5_unalt.tif', 'Motorola-X'),\n",
       " ('img_e2c0574_unalt.tif', 'Motorola-X'),\n",
       " ('img_9123d51_unalt.tif', 'Motorola-X'),\n",
       " ('img_726d6fc_unalt.tif', 'Motorola-X'),\n",
       " ('img_4a87ea3_unalt.tif', 'Motorola-X'),\n",
       " ('img_ae6f9eb_unalt.tif', 'Motorola-X'),\n",
       " ('img_94767d2_unalt.tif', 'Motorola-X'),\n",
       " ('img_59df8db_unalt.tif', 'Motorola-X'),\n",
       " ('img_8d9842a_unalt.tif', 'Motorola-X'),\n",
       " ('img_b2151b6_unalt.tif', 'Motorola-X'),\n",
       " ('img_d618d4f_unalt.tif', 'Motorola-X'),\n",
       " ('img_4c81a3e_unalt.tif', 'Motorola-X'),\n",
       " ('img_17e9abb_unalt.tif', 'Motorola-X'),\n",
       " ('img_414a7ae_unalt.tif', 'Motorola-X'),\n",
       " ('img_8be14af_unalt.tif', 'Motorola-X'),\n",
       " ('img_3564f61_unalt.tif', 'Motorola-X'),\n",
       " ('img_b558bd6_unalt.tif', 'Motorola-X'),\n",
       " ('img_b508d5f_unalt.tif', 'Motorola-X'),\n",
       " ('img_ac37a46_unalt.tif', 'Motorola-X'),\n",
       " ('img_0a85605_unalt.tif', 'Motorola-X'),\n",
       " ('img_8214951_unalt.tif', 'Motorola-X'),\n",
       " ('img_5e308de_unalt.tif', 'Motorola-X'),\n",
       " ('img_43e6619_unalt.tif', 'Motorola-X'),\n",
       " ('img_8749dde_unalt.tif', 'Motorola-X'),\n",
       " ('img_2244eb5_unalt.tif', 'Motorola-X'),\n",
       " ('img_07001c5_unalt.tif', 'Motorola-X'),\n",
       " ('img_43c0c0a_unalt.tif', 'Motorola-X'),\n",
       " ('img_36b3a3a_unalt.tif', 'Motorola-X'),\n",
       " ('img_00344b7_unalt.tif', 'Motorola-X'),\n",
       " ('img_0477f29_unalt.tif', 'Motorola-X'),\n",
       " ('img_a6c432e_unalt.tif', 'Motorola-X'),\n",
       " ('img_f8bd5cc_unalt.tif', 'Motorola-X'),\n",
       " ('img_dd6ce70_unalt.tif', 'Motorola-X'),\n",
       " ('img_6752a2b_unalt.tif', 'Motorola-X'),\n",
       " ('img_eac0494_unalt.tif', 'Motorola-X'),\n",
       " ('img_00d0e3b_unalt.tif', 'Motorola-X'),\n",
       " ('img_bd30be8_unalt.tif', 'Motorola-X'),\n",
       " ('img_41b0f20_unalt.tif', 'Motorola-X'),\n",
       " ('img_1403c3d_unalt.tif', 'Motorola-X'),\n",
       " ('img_d2641d0_unalt.tif', 'Motorola-X'),\n",
       " ('img_84ba43d_unalt.tif', 'Motorola-X'),\n",
       " ('img_0f43170_unalt.tif', 'Motorola-X'),\n",
       " ('img_ee56cf9_unalt.tif', 'Motorola-X'),\n",
       " ('img_a26f3ea_unalt.tif', 'Motorola-X'),\n",
       " ('img_5d26b47_unalt.tif', 'Motorola-X'),\n",
       " ('img_267e3f1_unalt.tif', 'Motorola-X'),\n",
       " ('img_bd06f4a_unalt.tif', 'Motorola-X'),\n",
       " ('img_dc7a41f_unalt.tif', 'Motorola-X'),\n",
       " ('img_f44719d_unalt.tif', 'Motorola-X'),\n",
       " ('img_d410f3b_unalt.tif', 'Motorola-X'),\n",
       " ('img_24b933f_unalt.tif', 'Motorola-X'),\n",
       " ('img_5e95c85_unalt.tif', 'Motorola-X'),\n",
       " ('img_8bd6cf3_unalt.tif', 'Motorola-X'),\n",
       " ('img_48cedd5_unalt.tif', 'Motorola-X'),\n",
       " ('img_0a3162a_unalt.tif', 'Motorola-X'),\n",
       " ('img_c9622ba_unalt.tif', 'Motorola-X'),\n",
       " ('img_ecdb9eb_unalt.tif', 'Motorola-X'),\n",
       " ('img_4a8dc9f_unalt.tif', 'Motorola-X'),\n",
       " ('img_e5ce922_unalt.tif', 'Motorola-X'),\n",
       " ('img_101ac53_unalt.tif', 'Motorola-X'),\n",
       " ('img_3414a83_unalt.tif', 'Motorola-X'),\n",
       " ('img_0ae48a7_unalt.tif', 'Motorola-X'),\n",
       " ('img_69433f6_unalt.tif', 'Motorola-X'),\n",
       " ('img_6df37f2_unalt.tif', 'Motorola-X'),\n",
       " ('img_715c07a_unalt.tif', 'Motorola-X'),\n",
       " ('img_a2922ae_unalt.tif', 'Motorola-X'),\n",
       " ('img_da23d54_unalt.tif', 'Motorola-X'),\n",
       " ('img_57a7a82_unalt.tif', 'Motorola-X'),\n",
       " ('img_ae838ef_unalt.tif', 'Motorola-X'),\n",
       " ('img_3177490_unalt.tif', 'Motorola-X'),\n",
       " ('img_b25b81e_unalt.tif', 'Motorola-X'),\n",
       " ('img_9721c9b_unalt.tif', 'Motorola-X'),\n",
       " ('img_fbce182_unalt.tif', 'Motorola-X'),\n",
       " ('img_416582c_unalt.tif', 'Motorola-X'),\n",
       " ('img_bfbea55_unalt.tif', 'Motorola-X'),\n",
       " ('img_959138c_unalt.tif', 'Motorola-X'),\n",
       " ('img_95c7361_unalt.tif', 'Motorola-X'),\n",
       " ('img_61e3830_unalt.tif', 'Motorola-Nexus-6'),\n",
       " ('img_97c44e9_unalt.tif', 'Motorola-Nexus-6'),\n",
       " ('img_7a8d8d6_unalt.tif', 'Motorola-Nexus-6'),\n",
       " ('img_55e63fe_unalt.tif', 'Motorola-Nexus-6'),\n",
       " ('img_3347e3e_unalt.tif', 'Motorola-Nexus-6'),\n",
       " ('img_b64a022_unalt.tif', 'Motorola-Nexus-6'),\n",
       " ('img_9543f5b_unalt.tif', 'Motorola-Nexus-6'),\n",
       " ('img_900b00f_unalt.tif', 'Motorola-Nexus-6'),\n",
       " ('img_69e143f_unalt.tif', 'Motorola-Nexus-6'),\n",
       " ('img_455c68a_unalt.tif', 'Motorola-Nexus-6'),\n",
       " ('img_6481217_unalt.tif', 'Motorola-Nexus-6'),\n",
       " ('img_0bdc6ce_unalt.tif', 'Motorola-Nexus-6'),\n",
       " ('img_5f4f4f6_unalt.tif', 'Motorola-Nexus-6'),\n",
       " ('img_8c2f3f7_unalt.tif', 'Motorola-Nexus-6'),\n",
       " ('img_86fb0da_unalt.tif', 'Motorola-Nexus-6'),\n",
       " ('img_f341ce7_unalt.tif', 'Motorola-Nexus-6'),\n",
       " ('img_339fa1a_unalt.tif', 'Motorola-Nexus-6'),\n",
       " ('img_14fd6d4_unalt.tif', 'Motorola-Nexus-6'),\n",
       " ('img_5064d1e_unalt.tif', 'Motorola-Nexus-6'),\n",
       " ('img_faf5cf6_unalt.tif', 'Motorola-Nexus-6'),\n",
       " ('img_c6bd39c_unalt.tif', 'Motorola-Nexus-6'),\n",
       " ('img_6daf08c_unalt.tif', 'Motorola-Nexus-6'),\n",
       " ('img_5acc3a0_unalt.tif', 'Motorola-Nexus-6'),\n",
       " ('img_5ce3ec1_unalt.tif', 'Motorola-Nexus-6'),\n",
       " ('img_f088528_unalt.tif', 'Motorola-Nexus-6'),\n",
       " ('img_31da1c8_unalt.tif', 'Motorola-Nexus-6'),\n",
       " ('img_a6c7de9_unalt.tif', 'Motorola-Nexus-6'),\n",
       " ('img_1d5c8b9_unalt.tif', 'Motorola-Nexus-6'),\n",
       " ('img_0d53904_unalt.tif', 'Motorola-Nexus-6'),\n",
       " ('img_945a340_unalt.tif', 'Motorola-Nexus-6'),\n",
       " ('img_d75010b_unalt.tif', 'Motorola-Nexus-6'),\n",
       " ('img_67e7f01_unalt.tif', 'Motorola-Nexus-6'),\n",
       " ('img_b67a55c_unalt.tif', 'Motorola-Nexus-6'),\n",
       " ('img_4bca669_unalt.tif', 'Motorola-Nexus-6'),\n",
       " ('img_a27a7d2_unalt.tif', 'Motorola-Nexus-6'),\n",
       " ('img_84b1200_unalt.tif', 'Motorola-Nexus-6'),\n",
       " ('img_667c913_unalt.tif', 'Motorola-Nexus-6'),\n",
       " ('img_2f8e7cc_unalt.tif', 'Motorola-Nexus-6'),\n",
       " ('img_a537605_unalt.tif', 'Motorola-Nexus-6'),\n",
       " ('img_4b25b5e_unalt.tif', 'Motorola-Nexus-6'),\n",
       " ('img_d68f1e8_unalt.tif', 'Motorola-Nexus-6'),\n",
       " ('img_7ed6da2_unalt.tif', 'Motorola-Nexus-6'),\n",
       " ('img_8b36776_unalt.tif', 'Motorola-Nexus-6'),\n",
       " ('img_c70d604_unalt.tif', 'Motorola-Nexus-6'),\n",
       " ('img_58be501_unalt.tif', 'Motorola-Nexus-6'),\n",
       " ('img_78464dd_unalt.tif', 'Motorola-Nexus-6'),\n",
       " ('img_544b013_unalt.tif', 'Motorola-Nexus-6'),\n",
       " ('img_85926fe_unalt.tif', 'Motorola-Nexus-6'),\n",
       " ('img_ee9a22c_unalt.tif', 'Motorola-Nexus-6'),\n",
       " ('img_0aaf6e4_unalt.tif', 'Motorola-Nexus-6'),\n",
       " ('img_2831fb5_unalt.tif', 'Motorola-Nexus-6'),\n",
       " ('img_85bfd50_unalt.tif', 'Motorola-Nexus-6'),\n",
       " ('img_4477f01_unalt.tif', 'Motorola-Nexus-6'),\n",
       " ('img_f3b793d_unalt.tif', 'Motorola-Nexus-6'),\n",
       " ('img_58abdf1_unalt.tif', 'Motorola-Nexus-6'),\n",
       " ('img_8b5b475_unalt.tif', 'Motorola-Nexus-6'),\n",
       " ('img_90bf577_unalt.tif', 'Motorola-Nexus-6'),\n",
       " ('img_0fc0a1d_unalt.tif', 'Motorola-Nexus-6'),\n",
       " ('img_d4adb26_unalt.tif', 'Motorola-Nexus-6'),\n",
       " ('img_a93694c_unalt.tif', 'Motorola-Nexus-6'),\n",
       " ('img_4f3f9d1_unalt.tif', 'Motorola-Nexus-6'),\n",
       " ('img_7f05ef2_unalt.tif', 'Motorola-Nexus-6'),\n",
       " ('img_b24a675_unalt.tif', 'Motorola-Nexus-6'),\n",
       " ('img_e44569f_unalt.tif', 'Motorola-Nexus-6'),\n",
       " ('img_fc67616_unalt.tif', 'Motorola-Nexus-6'),\n",
       " ('img_1c6b96f_unalt.tif', 'Motorola-Nexus-6'),\n",
       " ('img_59f2013_unalt.tif', 'Motorola-Nexus-6'),\n",
       " ('img_7fd25b8_unalt.tif', 'Motorola-Nexus-6'),\n",
       " ('img_2b2b5f7_unalt.tif', 'Motorola-Nexus-6'),\n",
       " ('img_a7b1237_unalt.tif', 'Motorola-Nexus-6'),\n",
       " ('img_325c7cc_unalt.tif', 'Motorola-Nexus-6'),\n",
       " ('img_bb8aa95_unalt.tif', 'Motorola-Nexus-6'),\n",
       " ('img_38aaf07_unalt.tif', 'Motorola-Nexus-6'),\n",
       " ('img_058fdeb_unalt.tif', 'Motorola-Nexus-6'),\n",
       " ('img_342adef_unalt.tif', 'Motorola-Nexus-6'),\n",
       " ('img_7b2593b_unalt.tif', 'Motorola-Nexus-6'),\n",
       " ('img_d22de61_unalt.tif', 'Motorola-Nexus-6'),\n",
       " ('img_c07e738_unalt.tif', 'Motorola-Nexus-6'),\n",
       " ('img_890287f_unalt.tif', 'Motorola-Nexus-6'),\n",
       " ('img_04801fb_unalt.tif', 'Motorola-Nexus-6'),\n",
       " ('img_efd2a2d_unalt.tif', 'Motorola-Nexus-6'),\n",
       " ('img_26839f8_unalt.tif', 'Motorola-Nexus-6'),\n",
       " ('img_a16aecd_unalt.tif', 'Motorola-Nexus-6'),\n",
       " ('img_ad278d1_unalt.tif', 'Motorola-Nexus-6'),\n",
       " ('img_e08ccfb_unalt.tif', 'Motorola-Nexus-6'),\n",
       " ('img_14324a3_unalt.tif', 'Motorola-Nexus-6'),\n",
       " ('img_e07fde1_unalt.tif', 'Motorola-Nexus-6'),\n",
       " ('img_fa9bc92_unalt.tif', 'Motorola-Nexus-6'),\n",
       " ('img_adc1618_unalt.tif', 'Motorola-Nexus-6'),\n",
       " ('img_785e2c1_unalt.tif', 'Motorola-Nexus-6'),\n",
       " ('img_a8a6cf8_unalt.tif', 'Motorola-Nexus-6'),\n",
       " ('img_48baf15_unalt.tif', 'Motorola-Nexus-6'),\n",
       " ('img_f1d0b0d_unalt.tif', 'Motorola-Nexus-6'),\n",
       " ('img_a6f7a7d_unalt.tif', 'Motorola-Nexus-6'),\n",
       " ('img_96f3ba0_unalt.tif', 'Motorola-Nexus-6'),\n",
       " ('img_e1d42eb_unalt.tif', 'Motorola-Nexus-6'),\n",
       " ('img_6458154_unalt.tif', 'Motorola-Nexus-6'),\n",
       " ('img_a017012_unalt.tif', 'Motorola-Nexus-6'),\n",
       " ('img_932faf8_unalt.tif', 'Motorola-Nexus-6'),\n",
       " ('img_753b876_unalt.tif', 'Motorola-Nexus-6'),\n",
       " ('img_2073dbd_unalt.tif', 'Motorola-Nexus-6'),\n",
       " ('img_f7d4304_unalt.tif', 'Motorola-Nexus-6'),\n",
       " ('img_7436197_unalt.tif', 'Motorola-Nexus-6'),\n",
       " ('img_33dafd3_unalt.tif', 'Motorola-Nexus-6'),\n",
       " ('img_578724d_unalt.tif', 'Motorola-Nexus-6'),\n",
       " ('img_675c42f_unalt.tif', 'Motorola-Nexus-6'),\n",
       " ('img_b9eb60e_unalt.tif', 'Motorola-Nexus-6'),\n",
       " ('img_047e000_unalt.tif', 'Motorola-Nexus-6'),\n",
       " ('img_23e0fcb_unalt.tif', 'Motorola-Nexus-6'),\n",
       " ('img_7ee7122_unalt.tif', 'Motorola-Nexus-6'),\n",
       " ('img_3fb6aef_unalt.tif', 'Motorola-Nexus-6'),\n",
       " ('img_b65835d_unalt.tif', 'Motorola-Nexus-6'),\n",
       " ('img_9ed6293_unalt.tif', 'Motorola-Nexus-6'),\n",
       " ('img_c789255_unalt.tif', 'Motorola-Nexus-6'),\n",
       " ('img_468c3a8_unalt.tif', 'Motorola-Nexus-6'),\n",
       " ('img_fd7fd52_unalt.tif', 'Motorola-Nexus-6'),\n",
       " ('img_30946c8_unalt.tif', 'Motorola-Nexus-6'),\n",
       " ('img_ddcdb92_unalt.tif', 'Motorola-Nexus-6'),\n",
       " ('img_35a8d3f_unalt.tif', 'Motorola-Nexus-6'),\n",
       " ('img_a847f94_unalt.tif', 'Motorola-Nexus-6'),\n",
       " ('img_0acc754_unalt.tif', 'Motorola-Nexus-6'),\n",
       " ('img_84bb44a_unalt.tif', 'Motorola-Nexus-6'),\n",
       " ('img_ab962fd_unalt.tif', 'Motorola-Nexus-6'),\n",
       " ('img_f2d7ab9_unalt.tif', 'Motorola-Nexus-6'),\n",
       " ('img_a12e859_unalt.tif', 'Motorola-Nexus-6'),\n",
       " ('img_4d11a97_unalt.tif', 'Motorola-Nexus-6'),\n",
       " ('img_1d12f28_unalt.tif', 'Motorola-Nexus-6'),\n",
       " ('img_a6b3818_unalt.tif', 'Motorola-Nexus-6'),\n",
       " ('img_0e4829b_unalt.tif', 'Motorola-Nexus-6'),\n",
       " ('img_30d223c_unalt.tif', 'Motorola-Nexus-6'),\n",
       " ('img_d369cd1_unalt.tif', 'Motorola-Nexus-6'),\n",
       " ('img_bd8b0a0_unalt.tif', 'Motorola-Nexus-6'),\n",
       " ('img_6d15311_unalt.tif', 'Motorola-Droid-Maxx'),\n",
       " ('img_7be9ae1_unalt.tif', 'Motorola-Droid-Maxx'),\n",
       " ('img_f693f5c_unalt.tif', 'Motorola-Droid-Maxx'),\n",
       " ('img_36a0357_unalt.tif', 'Motorola-Droid-Maxx'),\n",
       " ('img_2521d9a_unalt.tif', 'Motorola-Droid-Maxx'),\n",
       " ('img_838457d_unalt.tif', 'Motorola-Droid-Maxx'),\n",
       " ('img_77dcc27_unalt.tif', 'Motorola-Droid-Maxx'),\n",
       " ('img_f319d9a_unalt.tif', 'Motorola-Droid-Maxx'),\n",
       " ('img_db8cb11_unalt.tif', 'Motorola-Droid-Maxx'),\n",
       " ('img_2b72695_unalt.tif', 'Motorola-Droid-Maxx'),\n",
       " ('img_95a960e_unalt.tif', 'Motorola-Droid-Maxx'),\n",
       " ('img_50974fa_unalt.tif', 'Motorola-Droid-Maxx'),\n",
       " ('img_0517193_unalt.tif', 'Motorola-Droid-Maxx'),\n",
       " ('img_fee2c32_unalt.tif', 'Motorola-Droid-Maxx'),\n",
       " ('img_18b95a4_unalt.tif', 'Motorola-Droid-Maxx'),\n",
       " ('img_a02b647_unalt.tif', 'Motorola-Droid-Maxx'),\n",
       " ('img_69a9119_unalt.tif', 'Motorola-Droid-Maxx'),\n",
       " ('img_439704a_unalt.tif', 'Motorola-Droid-Maxx'),\n",
       " ('img_505e6e9_unalt.tif', 'Motorola-Droid-Maxx'),\n",
       " ('img_4e91d82_unalt.tif', 'Motorola-Droid-Maxx'),\n",
       " ('img_a246a67_unalt.tif', 'Motorola-Droid-Maxx'),\n",
       " ('img_56a5e2d_unalt.tif', 'Motorola-Droid-Maxx'),\n",
       " ('img_69c9f2c_unalt.tif', 'Motorola-Droid-Maxx'),\n",
       " ('img_4bc0291_unalt.tif', 'Motorola-Droid-Maxx'),\n",
       " ('img_c28a115_unalt.tif', 'Motorola-Droid-Maxx'),\n",
       " ('img_c7c4827_unalt.tif', 'Motorola-Droid-Maxx'),\n",
       " ('img_a086635_unalt.tif', 'Motorola-Droid-Maxx'),\n",
       " ('img_27ba2bb_unalt.tif', 'Motorola-Droid-Maxx'),\n",
       " ('img_72742a4_unalt.tif', 'Motorola-Droid-Maxx'),\n",
       " ('img_a324c2c_unalt.tif', 'Motorola-Droid-Maxx'),\n",
       " ('img_ad1f867_unalt.tif', 'Motorola-Droid-Maxx'),\n",
       " ('img_4e05d04_unalt.tif', 'Motorola-Droid-Maxx'),\n",
       " ('img_7738696_unalt.tif', 'Motorola-Droid-Maxx'),\n",
       " ('img_c3cf6df_unalt.tif', 'Motorola-Droid-Maxx'),\n",
       " ('img_e7cd739_unalt.tif', 'Motorola-Droid-Maxx'),\n",
       " ('img_77f031e_unalt.tif', 'Motorola-Droid-Maxx'),\n",
       " ('img_f2fd49e_unalt.tif', 'Motorola-Droid-Maxx'),\n",
       " ('img_c82fcf6_unalt.tif', 'Motorola-Droid-Maxx'),\n",
       " ('img_3a4dab4_unalt.tif', 'Motorola-Droid-Maxx'),\n",
       " ('img_714f4c6_unalt.tif', 'Motorola-Droid-Maxx'),\n",
       " ('img_81fd97e_unalt.tif', 'Motorola-Droid-Maxx'),\n",
       " ('img_cfab198_unalt.tif', 'Motorola-Droid-Maxx'),\n",
       " ('img_7daaf99_unalt.tif', 'Motorola-Droid-Maxx'),\n",
       " ('img_564366f_unalt.tif', 'Motorola-Droid-Maxx'),\n",
       " ('img_be81a72_unalt.tif', 'Motorola-Droid-Maxx'),\n",
       " ('img_3bf0d44_unalt.tif', 'Motorola-Droid-Maxx'),\n",
       " ('img_4db24f4_unalt.tif', 'Motorola-Droid-Maxx'),\n",
       " ('img_3b50407_unalt.tif', 'Motorola-Droid-Maxx'),\n",
       " ('img_1458892_unalt.tif', 'Motorola-Droid-Maxx'),\n",
       " ('img_076fb0d_unalt.tif', 'Motorola-Droid-Maxx'),\n",
       " ('img_f011432_unalt.tif', 'Motorola-Droid-Maxx'),\n",
       " ('img_8351bdc_unalt.tif', 'Motorola-Droid-Maxx'),\n",
       " ('img_694ecf4_unalt.tif', 'Motorola-Droid-Maxx'),\n",
       " ('img_217243d_unalt.tif', 'Motorola-Droid-Maxx'),\n",
       " ('img_cd504fe_unalt.tif', 'Motorola-Droid-Maxx'),\n",
       " ('img_a399a78_unalt.tif', 'Motorola-Droid-Maxx'),\n",
       " ('img_1c26659_unalt.tif', 'Motorola-Droid-Maxx'),\n",
       " ('img_ced5c14_unalt.tif', 'Motorola-Droid-Maxx'),\n",
       " ('img_c729218_unalt.tif', 'Motorola-Droid-Maxx'),\n",
       " ('img_2385ce6_unalt.tif', 'Motorola-Droid-Maxx'),\n",
       " ('img_3b7a8b3_unalt.tif', 'Motorola-Droid-Maxx'),\n",
       " ('img_3e33080_unalt.tif', 'Motorola-Droid-Maxx'),\n",
       " ('img_5a3fe3f_unalt.tif', 'Motorola-Droid-Maxx'),\n",
       " ('img_699dd60_unalt.tif', 'Motorola-Droid-Maxx'),\n",
       " ('img_8eec357_unalt.tif', 'Motorola-Droid-Maxx'),\n",
       " ('img_9e2c83b_unalt.tif', 'Motorola-Droid-Maxx'),\n",
       " ('img_53a7cc7_unalt.tif', 'Motorola-Droid-Maxx'),\n",
       " ('img_09423bd_unalt.tif', 'Motorola-Droid-Maxx'),\n",
       " ('img_27aba64_unalt.tif', 'Motorola-Droid-Maxx'),\n",
       " ('img_57ac7f2_unalt.tif', 'Motorola-Droid-Maxx'),\n",
       " ('img_c369561_unalt.tif', 'Motorola-Droid-Maxx'),\n",
       " ('img_20af8d5_unalt.tif', 'Motorola-Droid-Maxx'),\n",
       " ('img_e2401dc_unalt.tif', 'Motorola-Droid-Maxx'),\n",
       " ('img_25d5680_unalt.tif', 'Motorola-Droid-Maxx'),\n",
       " ('img_3cb76bd_unalt.tif', 'Motorola-Droid-Maxx'),\n",
       " ('img_a54b97f_unalt.tif', 'Motorola-Droid-Maxx'),\n",
       " ('img_c4ee568_unalt.tif', 'Motorola-Droid-Maxx'),\n",
       " ('img_e46e997_unalt.tif', 'Motorola-Droid-Maxx'),\n",
       " ...]"
      ]
     },
     "execution_count": 37,
     "metadata": {},
     "output_type": "execute_result"
    }
   ],
   "source": [
    "res"
   ]
  },
  {
   "cell_type": "code",
   "execution_count": 39,
   "metadata": {
    "collapsed": true
   },
   "outputs": [],
   "source": [
    "with open('/home/mephistopheies/storage2/data/camera-model-id/tmp/p_test_985_m1_u0.pkl', 'rb') as f:\n",
    "    res1 = pickle.load(f)"
   ]
  },
  {
   "cell_type": "code",
   "execution_count": 42,
   "metadata": {
    "collapsed": true
   },
   "outputs": [],
   "source": [
    "res1 = dict([(fname, sorted(v, key=lambda t: t[1], reverse=True)[0][0]) for (fname, v) in res1.items()])"
   ]
  },
  {
   "cell_type": "code",
   "execution_count": 43,
   "metadata": {
    "collapsed": true
   },
   "outputs": [],
   "source": [
    "res = dict(res)"
   ]
  },
  {
   "cell_type": "code",
   "execution_count": 46,
   "metadata": {
    "scrolled": false
   },
   "outputs": [
    {
     "name": "stdout",
     "output_type": "stream",
     "text": [
      "img_c1bf475_unalt.tif Sony-NEX-7 Motorola-X\n",
      "img_eae4783_manip.tif Motorola-Droid-Maxx LG-Nexus-5x\n",
      "img_8d0d869_manip.tif LG-Nexus-5x Samsung-Galaxy-S4\n",
      "img_29be29f_manip.tif Motorola-Nexus-6 LG-Nexus-5x\n",
      "img_e247e1f_manip.tif Motorola-X iPhone-6\n",
      "img_38bad84_unalt.tif Motorola-X Motorola-Nexus-6\n",
      "img_4581af5_manip.tif Motorola-X iPhone-6\n",
      "img_69fdd9f_manip.tif Samsung-Galaxy-Note3 Samsung-Galaxy-S4\n",
      "img_d1b249e_unalt.tif LG-Nexus-5x Motorola-Nexus-6\n",
      "img_0ac09ab_manip.tif Motorola-Nexus-6 Samsung-Galaxy-Note3\n",
      "img_e1c9b03_unalt.tif LG-Nexus-5x Motorola-Nexus-6\n",
      "img_cf68c4b_manip.tif Samsung-Galaxy-S4 iPhone-6\n",
      "img_bc5dd45_manip.tif Motorola-X Samsung-Galaxy-Note3\n",
      "img_2753367_manip.tif Motorola-Droid-Maxx LG-Nexus-5x\n",
      "img_31d5743_manip.tif Motorola-Nexus-6 HTC-1-M7\n",
      "img_36a3d54_manip.tif Motorola-X Samsung-Galaxy-Note3\n",
      "img_c94755c_manip.tif Motorola-Nexus-6 Sony-NEX-7\n",
      "img_1c59671_manip.tif Motorola-Nexus-6 HTC-1-M7\n",
      "img_ee9d0cb_manip.tif Motorola-X Sony-NEX-7\n",
      "img_1073b1f_manip.tif Motorola-Nexus-6 Sony-NEX-7\n",
      "img_b48a842_manip.tif Motorola-Droid-Maxx Motorola-X\n",
      "img_380d69f_unalt.tif Samsung-Galaxy-S4 Motorola-Nexus-6\n",
      "img_4806a14_manip.tif Motorola-X Sony-NEX-7\n",
      "img_78c6628_manip.tif LG-Nexus-5x Motorola-Droid-Maxx\n",
      "img_419c1ff_manip.tif Motorola-Nexus-6 Motorola-Droid-Maxx\n",
      "img_176f838_unalt.tif LG-Nexus-5x Motorola-Nexus-6\n",
      "img_a2a9c20_manip.tif LG-Nexus-5x Motorola-X\n",
      "img_9547920_manip.tif LG-Nexus-5x Motorola-X\n",
      "img_2355a97_manip.tif LG-Nexus-5x Motorola-Droid-Maxx\n",
      "img_f076407_manip.tif LG-Nexus-5x Sony-NEX-7\n",
      "img_d328da9_manip.tif Motorola-X LG-Nexus-5x\n",
      "img_8e4d7f3_manip.tif Motorola-Nexus-6 HTC-1-M7\n",
      "img_ae7f889_manip.tif Sony-NEX-7 iPhone-6\n",
      "img_bed868a_unalt.tif LG-Nexus-5x Motorola-Nexus-6\n",
      "img_6c9373d_manip.tif Motorola-X iPhone-6\n",
      "img_f6d12df_manip.tif HTC-1-M7 iPhone-6\n",
      "img_2b01f01_manip.tif Motorola-Droid-Maxx LG-Nexus-5x\n",
      "img_ff225ec_manip.tif LG-Nexus-5x Sony-NEX-7\n",
      "img_b6c00ea_manip.tif Motorola-Droid-Maxx LG-Nexus-5x\n",
      "img_398df1c_manip.tif LG-Nexus-5x Motorola-X\n",
      "img_60fa981_manip.tif LG-Nexus-5x Samsung-Galaxy-Note3\n",
      "img_19e85e5_unalt.tif Motorola-Droid-Maxx HTC-1-M7\n",
      "img_1eecf99_manip.tif Motorola-Nexus-6 Sony-NEX-7\n",
      "img_d45742f_manip.tif Motorola-Droid-Maxx HTC-1-M7\n",
      "img_0ecc615_manip.tif LG-Nexus-5x Sony-NEX-7\n",
      "img_5ff7e05_manip.tif Motorola-X LG-Nexus-5x\n",
      "img_83fc54d_unalt.tif LG-Nexus-5x Motorola-Nexus-6\n",
      "img_e8b4c2e_manip.tif Motorola-Nexus-6 iPhone-4s\n",
      "48\n"
     ]
    }
   ],
   "source": [
    "n = 0\n",
    "for fname in res.keys():\n",
    "    if res[fname] != res1[fname]:\n",
    "        print(fname, res[fname], res1[fname])\n",
    "        n += 1\n",
    "print(n)"
   ]
  },
  {
   "cell_type": "code",
   "execution_count": null,
   "metadata": {
    "collapsed": true
   },
   "outputs": [],
   "source": []
  },
  {
   "cell_type": "code",
   "execution_count": null,
   "metadata": {
    "collapsed": true
   },
   "outputs": [],
   "source": []
  },
  {
   "cell_type": "code",
   "execution_count": null,
   "metadata": {
    "collapsed": true
   },
   "outputs": [],
   "source": []
  },
  {
   "cell_type": "code",
   "execution_count": null,
   "metadata": {
    "collapsed": true
   },
   "outputs": [],
   "source": []
  }
 ],
 "metadata": {
  "kernelspec": {
   "display_name": "Python 3",
   "language": "python",
   "name": "python3"
  },
  "language_info": {
   "codemirror_mode": {
    "name": "ipython",
    "version": 3
   },
   "file_extension": ".py",
   "mimetype": "text/x-python",
   "name": "python",
   "nbconvert_exporter": "python",
   "pygments_lexer": "ipython3",
   "version": "3.5.2"
  }
 },
 "nbformat": 4,
 "nbformat_minor": 2
}

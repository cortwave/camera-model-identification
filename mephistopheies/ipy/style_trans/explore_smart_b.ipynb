{
 "cells": [
  {
   "cell_type": "code",
   "execution_count": 1,
   "metadata": {
    "collapsed": true
   },
   "outputs": [],
   "source": [
    "%matplotlib inline\n",
    "import matplotlib\n",
    "import matplotlib.patches as mpatches\n",
    "import numpy as np\n",
    "import matplotlib.pyplot as plt\n",
    "import seaborn as sns\n",
    "sns.set_style(\"dark\")\n",
    "plt.rcParams['figure.figsize'] = 16, 12\n",
    "import pandas as pd\n",
    "from tqdm import tqdm_notebook\n",
    "import io\n",
    "from PIL import Image\n",
    "from glob import glob\n",
    "from collections import defaultdict\n",
    "import os\n",
    "import pickle\n",
    "from io import BytesIO\n",
    "import itertools as it\n",
    "\n",
    "from sklearn.decomposition import PCA\n",
    "from sklearn.manifold import TSNE\n",
    "\n",
    "from sklearn.metrics.pairwise import pairwise_distances\n",
    "\n",
    "from scipy.optimize import minimize"
   ]
  },
  {
   "cell_type": "code",
   "execution_count": 2,
   "metadata": {
    "collapsed": true
   },
   "outputs": [],
   "source": [
    "def get_p_test(Q):\n",
    "    p_test = {}\n",
    "    for ix, fname in enumerate(files):\n",
    "        p_test[fname] = list(zip(classes, Q[ix, :]))\n",
    "    return p_test\n",
    "\n",
    "def get_res(p_test):\n",
    "    manip = [(f, c) for (f, c) in p_test.items() if '_manip' in f]\n",
    "    #print(len(p_test), len(manip))\n",
    "\n",
    "    unalt = [(f, c) for (f, c) in p_test.items() if '_unalt' in f]\n",
    "    #print(len(p_test), len(unalt))\n",
    "\n",
    "    unalt_tmp = unalt.copy()\n",
    "    manip_tmp = manip.copy()\n",
    "    #print(len(unalt_tmp), len(manip_tmp))\n",
    "\n",
    "    t = int(0.1*1320)\n",
    "    #print(t)\n",
    "\n",
    "    res = []\n",
    "\n",
    "    c_counts = defaultdict(int)\n",
    "    for _ in range(1320):\n",
    "        skip_f = set([k for (k, _) in res])\n",
    "        unalt_tmp = [(f, sorted(p, key=lambda t: t[-1], reverse=True)) for (f, p) in unalt_tmp if f not in skip_f]\n",
    "        unalt_tmp = sorted(unalt_tmp, key=lambda t: t[-1][0], reverse=True)\n",
    "        f, p = unalt_tmp[0]\n",
    "        c, _ = p[0]\n",
    "        res.append((f, c))\n",
    "        c_counts[c] += 1\n",
    "\n",
    "        if c_counts[c] == t:\n",
    "            unalt_tmp = [(f, [(k, v) for (k, v) in p if k != c]) for (f, p) in unalt_tmp]\n",
    "\n",
    "    c_counts = defaultdict(int)\n",
    "    for _ in range(1320):\n",
    "        skip_f = set([k for (k, _) in res])\n",
    "        manip_tmp = [(f, sorted(p, key=lambda t: t[-1], reverse=True)) for (f, p) in manip_tmp if f not in skip_f]\n",
    "        manip_tmp = sorted(manip_tmp, key=lambda t: t[-1][0], reverse=True)\n",
    "        f, p = manip_tmp[0]\n",
    "        c, _ = p[0]\n",
    "        res.append((f, c))\n",
    "        c_counts[c] += 1\n",
    "\n",
    "        if c_counts[c] == t:\n",
    "            manip_tmp = [(f, [(k, v) for (k, v) in p if k != c]) for (f, p) in manip_tmp]\n",
    "\n",
    "    #print(len(res))\n",
    "    \n",
    "    return res"
   ]
  },
  {
   "cell_type": "code",
   "execution_count": 3,
   "metadata": {
    "collapsed": true
   },
   "outputs": [],
   "source": [
    "with open('/home/mephistopheies/storage2/data/camera-model-id/tmp/p_test_985_m1_u0.pkl', 'rb') as f:\n",
    "    p_test = pickle.load(f)\n",
    "    \n",
    "classes = sorted([k for (k, _) in list(p_test.values())[0]])\n",
    "\n",
    "Q = np.zeros((len(p_test), len(classes)))\n",
    "\n",
    "files = []\n",
    "for fname, d in p_test.items():    \n",
    "    d = dict(d)\n",
    "    for ix, c in enumerate(classes):\n",
    "        Q[len(files), ix] = d[c]\n",
    "    files.append(fname)"
   ]
  },
  {
   "cell_type": "code",
   "execution_count": null,
   "metadata": {
    "collapsed": true
   },
   "outputs": [],
   "source": []
  },
  {
   "cell_type": "code",
   "execution_count": 4,
   "metadata": {},
   "outputs": [],
   "source": [
    "Q_all = Q.copy()\n",
    "ix_manip = [i for (i, fname) in enumerate(files) if '_manip' in fname]\n",
    "Q_manip = Q_all[ix_manip, :]\n",
    "ix_unalt = [i for (i, fname) in enumerate(files) if '_unalt' in fname]\n",
    "Q_unalt = Q_all[ix_unalt, :]"
   ]
  },
  {
   "cell_type": "code",
   "execution_count": null,
   "metadata": {},
   "outputs": [],
   "source": []
  },
  {
   "cell_type": "code",
   "execution_count": null,
   "metadata": {
    "collapsed": true
   },
   "outputs": [],
   "source": []
  },
  {
   "cell_type": "code",
   "execution_count": 6,
   "metadata": {},
   "outputs": [],
   "source": [
    "def get_P(betas):\n",
    "    P = Q*betas\n",
    "    P = P/P.sum(axis=1)[:, np.newaxis]\n",
    "    return P\n",
    "\n",
    "def loss(betas):\n",
    "    P = get_P(betas)\n",
    "    mP = P.sum(axis=0)/P.shape[0]\n",
    "    l = (mP*np.log(mP)).sum()\n",
    "    return l\n",
    "\n",
    "def d_loss(betas):\n",
    "    P = get_P(betas)\n",
    "    mP = P.sum(axis=0)/P.shape[0]\n",
    "    dl = np.zeros(P.shape[1])\n",
    "\n",
    "    z = 1 - np.log(mP)\n",
    "\n",
    "    for c in range(P.shape[1]):\n",
    "        dl[c] = -z[c]*P[:, c].sum()/(P.shape[0]*betas[c])\n",
    "\n",
    "        a = 0    \n",
    "        for i in range(P.shape[1]):\n",
    "            b = 0\n",
    "            for j in range(P.shape[0]):\n",
    "                if Q[j, i] > 0:\n",
    "                    b += Q[j, c]*P[j, i]*P[j, i]/Q[j, i]\n",
    "\n",
    "            a += z[i]*b/(P.shape[0]*betas[i])\n",
    "\n",
    "        dl[c] += a\n",
    "        \n",
    "    return -dl"
   ]
  },
  {
   "cell_type": "code",
   "execution_count": 7,
   "metadata": {
    "collapsed": true
   },
   "outputs": [],
   "source": [
    "Q = Q_manip.copy()"
   ]
  },
  {
   "cell_type": "code",
   "execution_count": 8,
   "metadata": {},
   "outputs": [
    {
     "data": {
      "application/vnd.jupyter.widget-view+json": {
       "model_id": "70c2647ee1f149ff899e4353ef1e0c7e"
      }
     },
     "metadata": {},
     "output_type": "display_data"
    },
    {
     "name": "stdout",
     "output_type": "stream",
     "text": [
      "\n"
     ]
    }
   ],
   "source": [
    "max_iter = 1500\n",
    "lr = 10\n",
    "b = np.ones(Q.shape[1])\n",
    "log = []\n",
    "\n",
    "l = loss(b)\n",
    "log.append((l, b))\n",
    "for ix in tqdm_notebook(range(max_iter)):\n",
    "    b += lr*d_loss(b)\n",
    "    l = loss(b)\n",
    "    log.append((l, b))\n",
    "    \n",
    "    if len(log) > 1 and log[-1][0] > log[-2][0]:\n",
    "        print('x')\n",
    "        lr /= 0.1\n",
    "        b = log[-2][1]\n",
    "        log = log[:-1]"
   ]
  },
  {
   "cell_type": "code",
   "execution_count": 10,
   "metadata": {},
   "outputs": [
    {
     "data": {
      "text/plain": [
       "[<matplotlib.lines.Line2D at 0x7f01f366e668>]"
      ]
     },
     "execution_count": 10,
     "metadata": {},
     "output_type": "execute_result"
    },
    {
     "data": {
      "image/png": "[encoded data removed]",
      "text/plain": [
       "<matplotlib.figure.Figure at 0x7f024c236400>"
      ]
     },
     "metadata": {},
     "output_type": "display_data"
    }
   ],
   "source": [
    "plt.plot([k for (k, _) in log])"
   ]
  },
  {
   "cell_type": "code",
   "execution_count": 11,
   "metadata": {},
   "outputs": [
    {
     "data": {
      "text/plain": [
       "array([ 0.11110965,  0.51430941,  0.56305932,  2.50538912,  1.7351372 ,\n",
       "        0.13205447,  0.27820976,  0.16294118,  0.08028309,  0.05591064])"
      ]
     },
     "execution_count": 11,
     "metadata": {},
     "output_type": "execute_result"
    }
   ],
   "source": [
    "b_manip = sorted(log, key=lambda t: t[0])[0][1]\n",
    "b_manip"
   ]
  },
  {
   "cell_type": "code",
   "execution_count": null,
   "metadata": {
    "collapsed": true
   },
   "outputs": [],
   "source": []
  },
  {
   "cell_type": "code",
   "execution_count": 13,
   "metadata": {
    "collapsed": true
   },
   "outputs": [],
   "source": [
    "Q = Q_unalt.copy()"
   ]
  },
  {
   "cell_type": "code",
   "execution_count": 14,
   "metadata": {},
   "outputs": [
    {
     "data": {
      "application/vnd.jupyter.widget-view+json": {
       "model_id": "d517d1090043490e927f864aa9a13c15"
      }
     },
     "metadata": {},
     "output_type": "display_data"
    },
    {
     "name": "stdout",
     "output_type": "stream",
     "text": [
      "\n"
     ]
    }
   ],
   "source": [
    "max_iter = 1500\n",
    "lr = 10\n",
    "b = np.ones(Q.shape[1])\n",
    "log = []\n",
    "\n",
    "l = loss(b)\n",
    "log.append((l, b))\n",
    "for ix in tqdm_notebook(range(max_iter)):\n",
    "    b += lr*d_loss(b)\n",
    "    l = loss(b)\n",
    "    log.append((l, b))\n",
    "    \n",
    "    if len(log) > 1 and log[-1][0] > log[-2][0]:\n",
    "        print('x')\n",
    "        lr /= 0.1\n",
    "        b = log[-2][1]\n",
    "        log = log[:-1]"
   ]
  },
  {
   "cell_type": "code",
   "execution_count": 15,
   "metadata": {},
   "outputs": [
    {
     "data": {
      "text/plain": [
       "[<matplotlib.lines.Line2D at 0x7f01f3562780>]"
      ]
     },
     "execution_count": 15,
     "metadata": {},
     "output_type": "execute_result"
    },
    {
     "data": {
      "image/png": "[encoded data removed]",
      "text/plain": [
       "<matplotlib.figure.Figure at 0x7f01f37ff550>"
      ]
     },
     "metadata": {},
     "output_type": "display_data"
    }
   ],
   "source": [
    "plt.plot([k for (k, _) in log])"
   ]
  },
  {
   "cell_type": "code",
   "execution_count": 16,
   "metadata": {},
   "outputs": [
    {
     "data": {
      "text/plain": [
       "array([ 0.78175116,  0.40787891,  1.11580678,  1.50278838,  0.97310999,\n",
       "        0.62910968,  1.02945156,  1.67159366,  0.6980976 ,  0.21725313])"
      ]
     },
     "execution_count": 16,
     "metadata": {},
     "output_type": "execute_result"
    }
   ],
   "source": [
    "b_unalt = sorted(log, key=lambda t: t[0])[0][1]\n",
    "b_unalt"
   ]
  },
  {
   "cell_type": "code",
   "execution_count": null,
   "metadata": {
    "collapsed": true
   },
   "outputs": [],
   "source": []
  },
  {
   "cell_type": "code",
   "execution_count": 21,
   "metadata": {
    "collapsed": true
   },
   "outputs": [],
   "source": [
    "P = Q_all.copy()\n",
    "P[ix_manip, :] = P[ix_manip, :]*b_manip\n",
    "P[ix_unalt, :] = P[ix_unalt, :]*b_unalt\n",
    "\n",
    "P = P/P.sum(axis=1)[:, np.newaxis]"
   ]
  },
  {
   "cell_type": "code",
   "execution_count": 37,
   "metadata": {},
   "outputs": [
    {
     "data": {
      "text/plain": [
       "['HTC-1-M7',\n",
       " 'LG-Nexus-5x',\n",
       " 'Motorola-Droid-Maxx',\n",
       " 'Motorola-Nexus-6',\n",
       " 'Motorola-X',\n",
       " 'Samsung-Galaxy-Note3',\n",
       " 'Samsung-Galaxy-S4',\n",
       " 'Sony-NEX-7',\n",
       " 'iPhone-4s',\n",
       " 'iPhone-6']"
      ]
     },
     "execution_count": 37,
     "metadata": {},
     "output_type": "execute_result"
    }
   ],
   "source": [
    "classes"
   ]
  },
  {
   "cell_type": "code",
   "execution_count": null,
   "metadata": {},
   "outputs": [],
   "source": []
  },
  {
   "cell_type": "code",
   "execution_count": 12,
   "metadata": {},
   "outputs": [],
   "source": [
    "# b = sorted(log, key=lambda t: t[0])[0][1]\n",
    "# b"
   ]
  },
  {
   "cell_type": "code",
   "execution_count": 8,
   "metadata": {
    "collapsed": true
   },
   "outputs": [],
   "source": [
    "# P = Q*b\n",
    "# P = P/P.sum(axis=1)[:, np.newaxis]"
   ]
  },
  {
   "cell_type": "code",
   "execution_count": null,
   "metadata": {},
   "outputs": [],
   "source": []
  },
  {
   "cell_type": "code",
   "execution_count": null,
   "metadata": {
    "collapsed": true
   },
   "outputs": [],
   "source": []
  },
  {
   "cell_type": "code",
   "execution_count": null,
   "metadata": {
    "collapsed": true
   },
   "outputs": [],
   "source": []
  },
  {
   "cell_type": "code",
   "execution_count": null,
   "metadata": {
    "collapsed": true
   },
   "outputs": [],
   "source": []
  },
  {
   "cell_type": "code",
   "execution_count": null,
   "metadata": {
    "collapsed": true
   },
   "outputs": [],
   "source": []
  },
  {
   "cell_type": "code",
   "execution_count": null,
   "metadata": {},
   "outputs": [],
   "source": []
  },
  {
   "cell_type": "code",
   "execution_count": 28,
   "metadata": {},
   "outputs": [
    {
     "data": {
      "text/plain": [
       "array([ 268.96454604,  274.19298575,  257.9740937 ,  238.98548065,\n",
       "        254.75811932,  272.26134345,  264.80314739,  262.33274829,\n",
       "        271.37597727,  274.35155815])"
      ]
     },
     "execution_count": 28,
     "metadata": {},
     "output_type": "execute_result"
    }
   ],
   "source": [
    "Q_all.sum(axis=0)"
   ]
  },
  {
   "cell_type": "code",
   "execution_count": 25,
   "metadata": {},
   "outputs": [
    {
     "data": {
      "text/plain": [
       "array([ 264.37603066,  264.05995935,  263.73939393,  261.98259615,\n",
       "        266.10835959,  264.43006598,  263.48521577,  262.72581338,\n",
       "        265.306905  ,  263.7856602 ])"
      ]
     },
     "execution_count": 25,
     "metadata": {},
     "output_type": "execute_result"
    }
   ],
   "source": [
    "P.sum(axis=0)"
   ]
  },
  {
   "cell_type": "code",
   "execution_count": 27,
   "metadata": {},
   "outputs": [],
   "source": [
    "betas = b\n",
    "res_sgd = get_res(get_p_test(P))\n",
    "\n",
    "res = get_res(get_p_test(Q_all))"
   ]
  },
  {
   "cell_type": "code",
   "execution_count": 29,
   "metadata": {},
   "outputs": [],
   "source": [
    "d = {}\n",
    "res = dict(res)\n",
    "res_sgd = dict(res_sgd)\n",
    "for fname in res.keys():\n",
    "    c = res[fname]\n",
    "    c_sgd = res_sgd[fname]\n",
    "    \n",
    "    if c != c_sgd:\n",
    "        d[fname] = (c, c_sgd)"
   ]
  },
  {
   "cell_type": "code",
   "execution_count": 30,
   "metadata": {},
   "outputs": [
    {
     "data": {
      "text/plain": [
       "32"
      ]
     },
     "execution_count": 30,
     "metadata": {},
     "output_type": "execute_result"
    }
   ],
   "source": [
    "len(d)"
   ]
  },
  {
   "cell_type": "code",
   "execution_count": null,
   "metadata": {},
   "outputs": [],
   "source": []
  },
  {
   "cell_type": "code",
   "execution_count": null,
   "metadata": {
    "collapsed": true
   },
   "outputs": [],
   "source": []
  },
  {
   "cell_type": "code",
   "execution_count": null,
   "metadata": {
    "collapsed": true
   },
   "outputs": [],
   "source": []
  },
  {
   "cell_type": "code",
   "execution_count": 21,
   "metadata": {},
   "outputs": [],
   "source": [
    "# res_dbg = []\n",
    "# for i, fname in enumerate(files):\n",
    "#     res_dbg.append((fname, classes[np.argmax(P[i, :])]))"
   ]
  },
  {
   "cell_type": "code",
   "execution_count": 22,
   "metadata": {},
   "outputs": [],
   "source": [
    "# pd.Series([c for (_, c) in res_dbg]).value_counts()"
   ]
  },
  {
   "cell_type": "code",
   "execution_count": 23,
   "metadata": {},
   "outputs": [],
   "source": [
    "# d = {}\n",
    "# res = dict(res)\n",
    "# res_dbg = dict(res_dbg)\n",
    "# for fname in res.keys():\n",
    "#     c = res[fname]\n",
    "#     c_dbg = res_dbg[fname]\n",
    "    \n",
    "#     if c != c_dbg:\n",
    "#         d[fname] = (c, c_dbg)"
   ]
  },
  {
   "cell_type": "code",
   "execution_count": null,
   "metadata": {},
   "outputs": [],
   "source": []
  },
  {
   "cell_type": "code",
   "execution_count": null,
   "metadata": {
    "collapsed": true
   },
   "outputs": [],
   "source": []
  },
  {
   "cell_type": "code",
   "execution_count": null,
   "metadata": {
    "collapsed": true
   },
   "outputs": [],
   "source": []
  },
  {
   "cell_type": "code",
   "execution_count": null,
   "metadata": {
    "collapsed": true
   },
   "outputs": [],
   "source": []
  },
  {
   "cell_type": "code",
   "execution_count": 36,
   "metadata": {},
   "outputs": [],
   "source": [
    "res = res_sgd.items()\n",
    "\n",
    "out_dir = '/home/mephistopheies/storage2/data/camera-model-id/submit/'\n",
    "\n",
    "# with open(os.path.join(out_dir, 'submit__unalt.csv'.lower()), 'w') as f:\n",
    "#     f.write('fname,camera\\n')\n",
    "#     for fname, c in res:\n",
    "#         if '_unalt' in fname:\n",
    "#             f.write('%s,%s\\n' % (fname, c))\n",
    "#         else:\n",
    "#             f.write('%s,%s\\n' % (fname, 'no_class'))\n",
    "            \n",
    "            \n",
    "# with open(os.path.join(out_dir, 'submit__manip.csv'.lower()), 'w') as f:\n",
    "#     f.write('fname,camera\\n')\n",
    "#     for fname, c in res:\n",
    "#         if '_manip' in fname:\n",
    "#             f.write('%s,%s\\n' % (fname, c))\n",
    "#         else:\n",
    "#             f.write('%s,%s\\n' % (fname, 'no_class'))\n",
    "            \n",
    "            \n",
    "with open(os.path.join(out_dir, 'submit.csv'.lower()), 'w') as f:\n",
    "    f.write('fname,camera\\n')\n",
    "    for fname, c in res:\n",
    "        f.write('%s,%s\\n' % (fname, c))"
   ]
  },
  {
   "cell_type": "code",
   "execution_count": null,
   "metadata": {
    "collapsed": true
   },
   "outputs": [],
   "source": []
  },
  {
   "cell_type": "code",
   "execution_count": null,
   "metadata": {
    "collapsed": true
   },
   "outputs": [],
   "source": []
  },
  {
   "cell_type": "code",
   "execution_count": null,
   "metadata": {
    "collapsed": true
   },
   "outputs": [],
   "source": []
  }
 ],
 "metadata": {
  "kernelspec": {
   "display_name": "Python 3",
   "language": "python",
   "name": "python3"
  },
  "language_info": {
   "codemirror_mode": {
    "name": "ipython",
    "version": 3
   },
   "file_extension": ".py",
   "mimetype": "text/x-python",
   "name": "python",
   "nbconvert_exporter": "python",
   "pygments_lexer": "ipython3",
   "version": "3.5.2"
  }
 },
 "nbformat": 4,
 "nbformat_minor": 2
}

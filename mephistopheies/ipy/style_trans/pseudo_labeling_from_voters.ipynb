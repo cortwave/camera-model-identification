{
 "cells": [
  {
   "cell_type": "code",
   "execution_count": 1,
   "metadata": {
    "collapsed": true
   },
   "outputs": [],
   "source": [
    "%matplotlib inline\n",
    "import matplotlib\n",
    "import numpy as np\n",
    "import matplotlib.pyplot as plt\n",
    "import seaborn as sns\n",
    "sns.set_style(\"dark\")\n",
    "plt.rcParams['figure.figsize'] = 16, 12\n",
    "import pandas as pd\n",
    "from tqdm import tqdm_notebook\n",
    "import io\n",
    "from PIL import Image\n",
    "from glob import glob\n",
    "from collections import defaultdict\n",
    "import os\n",
    "import pickle\n",
    "from io import BytesIO\n",
    "import random\n",
    "import shutil"
   ]
  },
  {
   "cell_type": "code",
   "execution_count": 2,
   "metadata": {
    "collapsed": true
   },
   "outputs": [],
   "source": [
    "def loader(path):\n",
    "    with open(path, 'rb') as f:\n",
    "        img = Image.open(f)\n",
    "        return img.convert('RGB')"
   ]
  },
  {
   "cell_type": "code",
   "execution_count": 3,
   "metadata": {},
   "outputs": [
    {
     "data": {
      "application/vnd.jupyter.widget-view+json": {
       "model_id": "8f2c8cee9afb4f11b65868d3a054eed2"
      }
     },
     "metadata": {},
     "output_type": "display_data"
    },
    {
     "name": "stdout",
     "output_type": "stream",
     "text": [
      "\n"
     ]
    }
   ],
   "source": [
    "files = glob('/home/mephistopheies/storage2/data/camera-model-id/pseudo_labels/voters_phase_3/*.csv')\n",
    "\n",
    "votes = defaultdict(list)\n",
    "for fname in tqdm_notebook(files):\n",
    "    df = pd.read_csv(fname)    \n",
    "    for ix, r in df.iterrows():\n",
    "        votes[r['fname']].append(r['camera'])"
   ]
  },
  {
   "cell_type": "code",
   "execution_count": 4,
   "metadata": {
    "collapsed": true
   },
   "outputs": [],
   "source": [
    "conf = {}\n",
    "\n",
    "for k, v in votes.items():\n",
    "    conf[k] = len(set(v))"
   ]
  },
  {
   "cell_type": "code",
   "execution_count": 5,
   "metadata": {},
   "outputs": [
    {
     "data": {
      "text/plain": [
       "1    2477\n",
       "2     111\n",
       "3      40\n",
       "4      11\n",
       "5       1\n",
       "dtype: int64"
      ]
     },
     "execution_count": 5,
     "metadata": {},
     "output_type": "execute_result"
    }
   ],
   "source": [
    "pd.Series(list(conf.values())).value_counts()"
   ]
  },
  {
   "cell_type": "code",
   "execution_count": null,
   "metadata": {
    "collapsed": true
   },
   "outputs": [],
   "source": []
  },
  {
   "cell_type": "code",
   "execution_count": 27,
   "metadata": {},
   "outputs": [],
   "source": [
    "mdiff = defaultdict(int)\n",
    "for fname, v in votes.items():\n",
    "    if pd.Series(v).value_counts()[0] != 4:\n",
    "        continue\n",
    "    \n",
    "    diff = pd.Series(v).value_counts().index[1]\n",
    "\n",
    "    m = [mname for (mname, c) in zip(files, v) if c == diff][0]\n",
    "    \n",
    "    mdiff[m] += 1\n",
    "    \n",
    "mdiff"
   ]
  },
  {
   "cell_type": "code",
   "execution_count": null,
   "metadata": {},
   "outputs": [],
   "source": []
  },
  {
   "cell_type": "code",
   "execution_count": null,
   "metadata": {},
   "outputs": [],
   "source": []
  },
  {
   "cell_type": "code",
   "execution_count": null,
   "metadata": {},
   "outputs": [],
   "source": []
  },
  {
   "cell_type": "code",
   "execution_count": 29,
   "metadata": {},
   "outputs": [
    {
     "name": "stdout",
     "output_type": "stream",
     "text": [
      "2477\n"
     ]
    }
   ],
   "source": [
    "t = 1\n",
    "\n",
    "pseudo_labels = [(k, pd.Series(votes[k]).value_counts().index[0]) \n",
    "                 for (k, v) in conf.items() if v <= t]\n",
    "print(len(pseudo_labels))"
   ]
  },
  {
   "cell_type": "code",
   "execution_count": 10,
   "metadata": {},
   "outputs": [
    {
     "name": "stdout",
     "output_type": "stream",
     "text": [
      "2565\n"
     ]
    }
   ],
   "source": [
    "# t = 0.8\n",
    "\n",
    "# pseudo_labels = []\n",
    "# for fname, v in votes.items():\n",
    "#     s = pd.Series(v).value_counts(normalize=True)\n",
    "#     c, p = list(s.items())[0]\n",
    "#     if p >= t:\n",
    "#         pseudo_labels.append((fname, c))\n",
    "\n",
    "# print(len(pseudo_labels))"
   ]
  },
  {
   "cell_type": "code",
   "execution_count": null,
   "metadata": {
    "collapsed": true
   },
   "outputs": [],
   "source": []
  },
  {
   "cell_type": "code",
   "execution_count": null,
   "metadata": {
    "collapsed": true
   },
   "outputs": [],
   "source": []
  },
  {
   "cell_type": "code",
   "execution_count": null,
   "metadata": {
    "collapsed": true
   },
   "outputs": [],
   "source": []
  },
  {
   "cell_type": "code",
   "execution_count": 30,
   "metadata": {},
   "outputs": [
    {
     "data": {
      "text/plain": [
       "iPhone-4s               260\n",
       "HTC-1-M7                257\n",
       "Samsung-Galaxy-S4       256\n",
       "iPhone-6                254\n",
       "Samsung-Galaxy-Note3    252\n",
       "Motorola-X              252\n",
       "Sony-NEX-7              247\n",
       "Motorola-Droid-Maxx     241\n",
       "Motorola-Nexus-6        232\n",
       "LG-Nexus-5x             226\n",
       "dtype: int64"
      ]
     },
     "execution_count": 30,
     "metadata": {},
     "output_type": "execute_result"
    }
   ],
   "source": [
    "pd.Series([c for (k, c) in pseudo_labels]).value_counts()"
   ]
  },
  {
   "cell_type": "code",
   "execution_count": null,
   "metadata": {
    "collapsed": true
   },
   "outputs": [],
   "source": []
  },
  {
   "cell_type": "code",
   "execution_count": null,
   "metadata": {
    "collapsed": true
   },
   "outputs": [],
   "source": []
  },
  {
   "cell_type": "code",
   "execution_count": 31,
   "metadata": {},
   "outputs": [
    {
     "data": {
      "application/vnd.jupyter.widget-view+json": {
       "model_id": "8c04d558ab704f51a04b36d2c325de69"
      }
     },
     "metadata": {},
     "output_type": "display_data"
    },
    {
     "name": "stdout",
     "output_type": "stream",
     "text": [
      "\n"
     ]
    }
   ],
   "source": [
    "test_dir = '/home/mephistopheies/storage2/data/camera-model-id/raw/test/no_class/'\n",
    "output_dir = '/home/mephistopheies/storage2/data/camera-model-id/pseudo_labels/manip/phase_3/'\n",
    "\n",
    "if os.path.isdir(output_dir):\n",
    "    shutil.rmtree(output_dir)\n",
    "\n",
    "os.makedirs(output_dir)\n",
    "\n",
    "for fname, c in tqdm_notebook(pseudo_labels):\n",
    "    output_dir_tmp = os.path.join(output_dir, c)\n",
    "    if not os.path.isdir(output_dir_tmp):\n",
    "        os.makedirs(output_dir_tmp)\n",
    "    img = np.array(loader(os.path.join(test_dir, fname)))\n",
    "    np.savez(os.path.join(output_dir_tmp, fname), data=img)"
   ]
  },
  {
   "cell_type": "code",
   "execution_count": null,
   "metadata": {
    "collapsed": true
   },
   "outputs": [],
   "source": []
  },
  {
   "cell_type": "code",
   "execution_count": null,
   "metadata": {
    "collapsed": true
   },
   "outputs": [],
   "source": []
  },
  {
   "cell_type": "code",
   "execution_count": 32,
   "metadata": {},
   "outputs": [
    {
     "data": {
      "application/vnd.jupyter.widget-view+json": {
       "model_id": "5d074b8295284c9facc05f2fbf88a98a"
      }
     },
     "metadata": {},
     "output_type": "display_data"
    },
    {
     "name": "stdout",
     "output_type": "stream",
     "text": [
      "\n"
     ]
    }
   ],
   "source": [
    "test_dir = '/home/mephistopheies/storage2/data/camera-model-id/raw/test/no_class/'\n",
    "output_dir = '/home/mephistopheies/storage2/data/camera-model-id/pseudo_labels/unalt/phase_1/'\n",
    "\n",
    "if os.path.isdir(output_dir):\n",
    "    shutil.rmtree(output_dir)\n",
    "\n",
    "os.makedirs(output_dir)\n",
    "\n",
    "for fname, c in tqdm_notebook(pseudo_labels):\n",
    "    if '_unalt' not in fname:\n",
    "        continue\n",
    "    output_dir_tmp = os.path.join(output_dir, c)\n",
    "    if not os.path.isdir(output_dir_tmp):\n",
    "        os.makedirs(output_dir_tmp)\n",
    "    img = np.array(loader(os.path.join(test_dir, fname)))\n",
    "    np.savez(os.path.join(output_dir_tmp, fname), data=img)"
   ]
  },
  {
   "cell_type": "code",
   "execution_count": null,
   "metadata": {
    "collapsed": true,
    "scrolled": true
   },
   "outputs": [],
   "source": []
  },
  {
   "cell_type": "code",
   "execution_count": null,
   "metadata": {
    "collapsed": true
   },
   "outputs": [],
   "source": []
  },
  {
   "cell_type": "code",
   "execution_count": null,
   "metadata": {
    "collapsed": true
   },
   "outputs": [],
   "source": []
  },
  {
   "cell_type": "code",
   "execution_count": null,
   "metadata": {
    "collapsed": true
   },
   "outputs": [],
   "source": []
  }
 ],
 "metadata": {
  "kernelspec": {
   "display_name": "Python 3",
   "language": "python",
   "name": "python3"
  },
  "language_info": {
   "codemirror_mode": {
    "name": "ipython",
    "version": 3
   },
   "file_extension": ".py",
   "mimetype": "text/x-python",
   "name": "python",
   "nbconvert_exporter": "python",
   "pygments_lexer": "ipython3",
   "version": "3.5.2"
  }
 },
 "nbformat": 4,
 "nbformat_minor": 2
}

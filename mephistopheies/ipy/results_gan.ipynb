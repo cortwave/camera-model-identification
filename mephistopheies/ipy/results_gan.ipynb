{
 "cells": [
  {
   "cell_type": "code",
   "execution_count": 1,
   "metadata": {
    "collapsed": true
   },
   "outputs": [],
   "source": [
    "%matplotlib inline\n",
    "import matplotlib\n",
    "import numpy as np\n",
    "import matplotlib.pyplot as plt\n",
    "import seaborn as sns\n",
    "sns.set_style(\"dark\")\n",
    "plt.rcParams['figure.figsize'] = 16, 12\n",
    "import pandas as pd\n",
    "from tqdm import tqdm_notebook\n",
    "import io\n",
    "from PIL import Image\n",
    "from glob import glob\n",
    "import os\n",
    "\n",
    "import torch"
   ]
  },
  {
   "cell_type": "code",
   "execution_count": 2,
   "metadata": {
    "collapsed": true
   },
   "outputs": [],
   "source": [
    "def view_model(model_path):\n",
    "    checkpoint = torch.load(model_path)\n",
    "    print(checkpoint['epoch'])\n",
    "    for k, v in sorted(checkpoint['cfg'].items(), key=lambda t: t[0]):\n",
    "        print('%s = %s' % (k, str(v)))\n",
    "\n",
    "    print('Loss train: %0.8f' % checkpoint['loss_train'][-1])\n",
    "    print('Acc train: %0.8f' % checkpoint['acc_train'][-1])\n",
    "    print('Loss val: %0.8f' % checkpoint['loss_val'][-1])\n",
    "    print('Acc val: %0.8f' % checkpoint['acc_val'][-1])\n",
    "        \n",
    "    plt.plot(checkpoint['loss_train'], 'r', label='loss train')\n",
    "    plt.plot(checkpoint['acc_train'], 'r--', label='acc train')\n",
    "    plt.plot(checkpoint['loss_val'], 'g', label='loss val')\n",
    "    plt.plot(checkpoint['acc_val'], 'g--', label='acc val')\n",
    "    for i in range(1, 1 + int(np.floor(checkpoint['epoch']/checkpoint['cfg']['lr_scheduler_step_size']))):\n",
    "        plt.axvline(i*checkpoint['cfg']['lr_scheduler_step_size'] - 1, c='b', alpha=0.5)\n",
    "    plt.legend()\n",
    "    plt.show()"
   ]
  },
  {
   "cell_type": "code",
   "execution_count": null,
   "metadata": {
    "collapsed": true
   },
   "outputs": [],
   "source": []
  },
  {
   "cell_type": "code",
   "execution_count": null,
   "metadata": {
    "collapsed": true
   },
   "outputs": [],
   "source": []
  },
  {
   "cell_type": "markdown",
   "metadata": {},
   "source": [
    "## resnet34fc/gan/FCDiscriminator_AvgClassifier512/var1\n",
    "- acc_train_c: 0.996075\n",
    "- acc_train_d: 0.973958\n",
    "- acc_train_g: 0.995556\n",
    "- acc_val: 0.973580\n",
    "- loss_train_c: 0.012679\n",
    "- loss_train_d: 0.073733\n",
    "- loss_train_g: 0.012528\n",
    "- loss_val: 0.103586\n",
    "- acc_val2: 0.9746\n",
    "- acc_val3: 0.9911\n",
    "- acc manip: 0.259\n",
    "- acc unalt: 0.642\n",
    "- acc test: 0.901"
   ]
  },
  {
   "cell_type": "markdown",
   "metadata": {},
   "source": [
    "## resnet34fc/gan/FCDiscriminator_AvgClassifier512/var1\n",
    "- acc_train_c: 0.995298\n",
    "- acc_train_d: 0.995153\n",
    "- acc_train_g: 0.998333\n",
    "- acc_val: 0.974519\n",
    "- loss_train_c: 0.014187\n",
    "- loss_train_d: 0.014571\n",
    "- loss_train_g: 0.007592\n",
    "- loss_val: 0.086873\n",
    "- acc_val2: 0.9758\n",
    "- acc_val3: 0.9915\n",
    "- acc manip: 0.259\n",
    "- acc unalt: 0.645\n",
    "- acc test: 0.904"
   ]
  },
  {
   "cell_type": "code",
   "execution_count": null,
   "metadata": {},
   "outputs": [],
   "source": []
  },
  {
   "cell_type": "code",
   "execution_count": null,
   "metadata": {
    "collapsed": true
   },
   "outputs": [],
   "source": []
  },
  {
   "cell_type": "code",
   "execution_count": null,
   "metadata": {
    "collapsed": true
   },
   "outputs": [],
   "source": []
  },
  {
   "cell_type": "code",
   "execution_count": null,
   "metadata": {
    "collapsed": true
   },
   "outputs": [],
   "source": []
  }
 ],
 "metadata": {
  "kernelspec": {
   "display_name": "Python 3",
   "language": "python",
   "name": "python3"
  },
  "language_info": {
   "codemirror_mode": {
    "name": "ipython",
    "version": 3
   },
   "file_extension": ".py",
   "mimetype": "text/x-python",
   "name": "python",
   "nbconvert_exporter": "python",
   "pygments_lexer": "ipython3",
   "version": "3.5.2"
  }
 },
 "nbformat": 4,
 "nbformat_minor": 2
}

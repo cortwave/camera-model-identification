{
 "cells": [
  {
   "cell_type": "code",
   "execution_count": 1,
   "metadata": {
    "collapsed": true
   },
   "outputs": [],
   "source": [
    "%matplotlib inline\n",
    "import matplotlib\n",
    "import numpy as np\n",
    "import matplotlib.pyplot as plt\n",
    "import seaborn as sns\n",
    "sns.set_style(\"dark\")\n",
    "plt.rcParams['figure.figsize'] = 16, 12\n",
    "import pandas as pd\n",
    "from tqdm import tqdm_notebook\n",
    "import io\n",
    "from PIL import Image\n",
    "from glob import glob\n",
    "from collections import defaultdict\n",
    "import os\n",
    "import pickle\n",
    "\n",
    "import torchvision.transforms as transforms\n",
    "\n",
    "from kaggle_camera_model_id_lib.utils import NCrops"
   ]
  },
  {
   "cell_type": "code",
   "execution_count": 6,
   "metadata": {},
   "outputs": [
    {
     "name": "stdout",
     "output_type": "stream",
     "text": [
      "2750\n"
     ]
    }
   ],
   "source": [
    "raw_train_dir = '/home/mephistopheies/storage2/data/camera-model-id/raw/train/'\n",
    "train_files = glob(os.path.join(raw_train_dir, '*/*.*'))\n",
    "print(len(train_files))"
   ]
  },
  {
   "cell_type": "code",
   "execution_count": 9,
   "metadata": {},
   "outputs": [],
   "source": [
    "out_dir = '/home/mephistopheies/storage2/data/camera-model-id/'\n",
    "\n",
    "with open(os.path.join(out_dir, 'train_all.tsv'), 'w') as f:\n",
    "    f.write('\\n'.join(train_files))"
   ]
  },
  {
   "cell_type": "code",
   "execution_count": 7,
   "metadata": {
    "collapsed": true
   },
   "outputs": [],
   "source": [
    "df = pd.DataFrame(\n",
    "    [(s.split('/')[-2], s) for s in train_files], \n",
    "    columns=['class', 'fname'])"
   ]
  },
  {
   "cell_type": "code",
   "execution_count": 12,
   "metadata": {},
   "outputs": [
    {
     "data": {
      "text/html": [
       "<div>\n",
       "<style scoped>\n",
       "    .dataframe tbody tr th:only-of-type {\n",
       "        vertical-align: middle;\n",
       "    }\n",
       "\n",
       "    .dataframe tbody tr th {\n",
       "        vertical-align: top;\n",
       "    }\n",
       "\n",
       "    .dataframe thead th {\n",
       "        text-align: right;\n",
       "    }\n",
       "</style>\n",
       "<table border=\"1\" class=\"dataframe\">\n",
       "  <thead>\n",
       "    <tr style=\"text-align: right;\">\n",
       "      <th></th>\n",
       "      <th>class</th>\n",
       "      <th>fname</th>\n",
       "    </tr>\n",
       "  </thead>\n",
       "  <tbody>\n",
       "    <tr>\n",
       "      <th>0</th>\n",
       "      <td>Samsung-Galaxy-S4</td>\n",
       "      <td>/home/mephistopheies/storage2/data/camera-mode...</td>\n",
       "    </tr>\n",
       "    <tr>\n",
       "      <th>1</th>\n",
       "      <td>Samsung-Galaxy-S4</td>\n",
       "      <td>/home/mephistopheies/storage2/data/camera-mode...</td>\n",
       "    </tr>\n",
       "    <tr>\n",
       "      <th>2</th>\n",
       "      <td>Samsung-Galaxy-S4</td>\n",
       "      <td>/home/mephistopheies/storage2/data/camera-mode...</td>\n",
       "    </tr>\n",
       "    <tr>\n",
       "      <th>3</th>\n",
       "      <td>Samsung-Galaxy-S4</td>\n",
       "      <td>/home/mephistopheies/storage2/data/camera-mode...</td>\n",
       "    </tr>\n",
       "    <tr>\n",
       "      <th>4</th>\n",
       "      <td>Samsung-Galaxy-S4</td>\n",
       "      <td>/home/mephistopheies/storage2/data/camera-mode...</td>\n",
       "    </tr>\n",
       "  </tbody>\n",
       "</table>\n",
       "</div>"
      ],
      "text/plain": [
       "               class                                              fname\n",
       "0  Samsung-Galaxy-S4  /home/mephistopheies/storage2/data/camera-mode...\n",
       "1  Samsung-Galaxy-S4  /home/mephistopheies/storage2/data/camera-mode...\n",
       "2  Samsung-Galaxy-S4  /home/mephistopheies/storage2/data/camera-mode...\n",
       "3  Samsung-Galaxy-S4  /home/mephistopheies/storage2/data/camera-mode...\n",
       "4  Samsung-Galaxy-S4  /home/mephistopheies/storage2/data/camera-mode..."
      ]
     },
     "execution_count": 12,
     "metadata": {},
     "output_type": "execute_result"
    }
   ],
   "source": [
    "df.head()"
   ]
  },
  {
   "cell_type": "code",
   "execution_count": 14,
   "metadata": {},
   "outputs": [
    {
     "data": {
      "text/plain": [
       "(10,)"
      ]
     },
     "execution_count": 14,
     "metadata": {},
     "output_type": "execute_result"
    }
   ],
   "source": [
    "df['class'].value_counts().shape"
   ]
  },
  {
   "cell_type": "code",
   "execution_count": 15,
   "metadata": {},
   "outputs": [
    {
     "data": {
      "text/plain": [
       "Samsung-Galaxy-Note3    275\n",
       "HTC-1-M7                275\n",
       "Motorola-Droid-Maxx     275\n",
       "Sony-NEX-7              275\n",
       "Samsung-Galaxy-S4       275\n",
       "iPhone-6                275\n",
       "iPhone-4s               275\n",
       "LG-Nexus-5x             275\n",
       "Motorola-X              275\n",
       "Motorola-Nexus-6        275\n",
       "Name: class, dtype: int64"
      ]
     },
     "execution_count": 15,
     "metadata": {},
     "output_type": "execute_result"
    }
   ],
   "source": [
    "df['class'].value_counts()"
   ]
  },
  {
   "cell_type": "code",
   "execution_count": 16,
   "metadata": {},
   "outputs": [
    {
     "name": "stdout",
     "output_type": "stream",
     "text": [
      "Samsung-Galaxy-S4 25 250\n",
      "iPhone-4s 25 250\n",
      "HTC-1-M7 25 250\n",
      "Samsung-Galaxy-Note3 25 250\n",
      "Motorola-X 25 250\n",
      "LG-Nexus-5x 25 250\n",
      "iPhone-6 25 250\n",
      "Motorola-Nexus-6 25 250\n",
      "Sony-NEX-7 25 250\n",
      "Motorola-Droid-Maxx 25 250\n",
      "2500\n",
      "250\n"
     ]
    }
   ],
   "source": [
    "m = 25\n",
    "\n",
    "train = []\n",
    "val = []\n",
    "\n",
    "for c in df['class'].unique():\n",
    "    df_tmp = df[df['class'] == c].copy()\n",
    "    val_tmp = np.random.choice(df_tmp['fname'].tolist(), size=m, replace=False).tolist()\n",
    "    val.extend(val_tmp)\n",
    "    train_tmp = set(df_tmp['fname'].tolist()).difference(val)\n",
    "    print(c, len(val_tmp), len(train_tmp))    \n",
    "    train.extend(train_tmp)\n",
    "    \n",
    "print(len(train))\n",
    "print(len(val))"
   ]
  },
  {
   "cell_type": "code",
   "execution_count": 17,
   "metadata": {
    "collapsed": true
   },
   "outputs": [],
   "source": [
    "with open(os.path.join(out_dir, 'train.tsv'), 'w') as f:\n",
    "    f.write('\\n'.join(train))"
   ]
  },
  {
   "cell_type": "code",
   "execution_count": null,
   "metadata": {
    "collapsed": true
   },
   "outputs": [],
   "source": []
  },
  {
   "cell_type": "code",
   "execution_count": 18,
   "metadata": {},
   "outputs": [
    {
     "data": {
      "application/vnd.jupyter.widget-view+json": {
       "model_id": "dfdfc4c4f6904b3c8f1c8676d788f1bf"
      }
     },
     "metadata": {},
     "output_type": "display_data"
    },
    {
     "name": "stdout",
     "output_type": "stream",
     "text": [
      "\n"
     ]
    }
   ],
   "source": [
    "shapes = []\n",
    "for fname in tqdm_notebook(val):\n",
    "    key = fname.split('/')[-2]\n",
    "    img = Image.open(fname).convert('RGB')\n",
    "    shapes.append(img.size)"
   ]
  },
  {
   "cell_type": "code",
   "execution_count": 19,
   "metadata": {},
   "outputs": [
    {
     "data": {
      "text/plain": [
       "(3264, 2448)    50\n",
       "(4128, 2322)    50\n",
       "(4160, 3120)    31\n",
       "(6000, 4000)    25\n",
       "(3024, 4032)    24\n",
       "(1520, 2688)    22\n",
       "(4320, 2432)    21\n",
       "(3120, 4160)    18\n",
       "(2432, 4320)     4\n",
       "(2688, 1520)     3\n",
       "(3088, 4160)     1\n",
       "(4032, 3024)     1\n",
       "dtype: int64"
      ]
     },
     "execution_count": 19,
     "metadata": {},
     "output_type": "execute_result"
    }
   ],
   "source": [
    "pd.Series(shapes).value_counts()"
   ]
  },
  {
   "cell_type": "code",
   "execution_count": 20,
   "metadata": {},
   "outputs": [
    {
     "data": {
      "text/plain": [
       "9"
      ]
     },
     "execution_count": 20,
     "metadata": {},
     "output_type": "execute_result"
    }
   ],
   "source": [
    "len(NCrops(np.zeros((1520, 1520, 3)), crop_size=512, step=504))"
   ]
  },
  {
   "cell_type": "code",
   "execution_count": 21,
   "metadata": {
    "collapsed": true
   },
   "outputs": [],
   "source": [
    "center_crop = transforms.CenterCrop(1520)"
   ]
  },
  {
   "cell_type": "code",
   "execution_count": 22,
   "metadata": {},
   "outputs": [
    {
     "data": {
      "application/vnd.jupyter.widget-view+json": {
       "model_id": "8dc6e46e71e04d859b5140ecab860492"
      }
     },
     "metadata": {},
     "output_type": "display_data"
    },
    {
     "name": "stdout",
     "output_type": "stream",
     "text": [
      "\n"
     ]
    }
   ],
   "source": [
    "crop_size = 512\n",
    "step = 504\n",
    "\n",
    "data = defaultdict(lambda: defaultdict(list))\n",
    "\n",
    "for fname in tqdm_notebook(val):\n",
    "    key = fname.split('/')[-2]\n",
    "    img = Image.open(fname).convert('RGB')\n",
    "    img = center_crop(img)\n",
    "    img = np.array(img)   \n",
    "    data[key][fname].extend(NCrops(img, crop_size=crop_size, step=step))"
   ]
  },
  {
   "cell_type": "code",
   "execution_count": null,
   "metadata": {
    "collapsed": true
   },
   "outputs": [],
   "source": []
  },
  {
   "cell_type": "code",
   "execution_count": 23,
   "metadata": {},
   "outputs": [
    {
     "data": {
      "text/plain": [
       "[('HTC-1-M7', 225),\n",
       " ('LG-Nexus-5x', 225),\n",
       " ('Motorola-X', 225),\n",
       " ('iPhone-6', 225),\n",
       " ('Sony-NEX-7', 225),\n",
       " ('iPhone-4s', 225),\n",
       " ('Motorola-Nexus-6', 225),\n",
       " ('Samsung-Galaxy-S4', 225),\n",
       " ('Motorola-Droid-Maxx', 225),\n",
       " ('Samsung-Galaxy-Note3', 225)]"
      ]
     },
     "execution_count": 23,
     "metadata": {},
     "output_type": "execute_result"
    }
   ],
   "source": [
    "[(k, sum([len(b) for (a, b) in v.items()])) for (k, v) in data.items()]"
   ]
  },
  {
   "cell_type": "code",
   "execution_count": 24,
   "metadata": {},
   "outputs": [
    {
     "data": {
      "text/plain": [
       "225"
      ]
     },
     "execution_count": 24,
     "metadata": {},
     "output_type": "execute_result"
    }
   ],
   "source": [
    "n = min([sum([len(b) for (a, b) in v.items()]) for (k, v) in data.items()])\n",
    "n"
   ]
  },
  {
   "cell_type": "code",
   "execution_count": 25,
   "metadata": {},
   "outputs": [
    {
     "name": "stdout",
     "output_type": "stream",
     "text": [
      "2250\n"
     ]
    }
   ],
   "source": [
    "val = []\n",
    "for k in data.keys():\n",
    "    for fname in data[k].keys():\n",
    "        val.extend([(k, img) for img in data[k][fname]])\n",
    "\n",
    "#         ixs = np.random.choice(range(len(data[k][fname])), size=int(n/m), replace=False)\n",
    "#         for i in ixs:\n",
    "#             val.append((k, data[k][fname][i]))\n",
    "            \n",
    "print(len(val))"
   ]
  },
  {
   "cell_type": "code",
   "execution_count": 26,
   "metadata": {},
   "outputs": [
    {
     "data": {
      "application/vnd.jupyter.widget-view+json": {
       "model_id": "01e79396c194490aa4fb27b6282e3108"
      }
     },
     "metadata": {},
     "output_type": "display_data"
    },
    {
     "name": "stdout",
     "output_type": "stream",
     "text": [
      "\n"
     ]
    }
   ],
   "source": [
    "val_dir = '/home/mephistopheies/storage2/data/camera-model-id/val/'\n",
    "\n",
    "for ix, (key, img) in tqdm_notebook(enumerate(val), total=len(val)):\n",
    "    key_dir = os.path.join(val_dir, key)\n",
    "    if not os.path.isdir(key_dir):\n",
    "        os.mkdir(key_dir)\n",
    "    np.savez(os.path.join(key_dir, '%i.npz' % ix), data=img)"
   ]
  },
  {
   "cell_type": "code",
   "execution_count": null,
   "metadata": {
    "collapsed": true
   },
   "outputs": [],
   "source": []
  },
  {
   "cell_type": "code",
   "execution_count": null,
   "metadata": {
    "collapsed": true
   },
   "outputs": [],
   "source": []
  },
  {
   "cell_type": "code",
   "execution_count": null,
   "metadata": {
    "collapsed": true
   },
   "outputs": [],
   "source": []
  },
  {
   "cell_type": "code",
   "execution_count": null,
   "metadata": {
    "collapsed": true
   },
   "outputs": [],
   "source": []
  },
  {
   "cell_type": "code",
   "execution_count": null,
   "metadata": {
    "collapsed": true
   },
   "outputs": [],
   "source": []
  },
  {
   "cell_type": "code",
   "execution_count": null,
   "metadata": {
    "collapsed": true
   },
   "outputs": [],
   "source": []
  },
  {
   "cell_type": "code",
   "execution_count": null,
   "metadata": {
    "collapsed": true
   },
   "outputs": [],
   "source": []
  },
  {
   "cell_type": "code",
   "execution_count": null,
   "metadata": {
    "collapsed": true
   },
   "outputs": [],
   "source": []
  }
 ],
 "metadata": {
  "kernelspec": {
   "display_name": "Python 3",
   "language": "python",
   "name": "python3"
  },
  "language_info": {
   "codemirror_mode": {
    "name": "ipython",
    "version": 3
   },
   "file_extension": ".py",
   "mimetype": "text/x-python",
   "name": "python",
   "nbconvert_exporter": "python",
   "pygments_lexer": "ipython3",
   "version": "3.5.2"
  }
 },
 "nbformat": 4,
 "nbformat_minor": 2
}
